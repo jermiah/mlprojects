{
 "cells": [
  {
   "cell_type": "markdown",
   "metadata": {},
   "source": [
    "# Predicting length of stay"
   ]
  },
  {
   "cell_type": "markdown",
   "metadata": {},
   "source": [
    "## Import Libraries"
   ]
  },
  {
   "cell_type": "markdown",
   "metadata": {},
   "source": [
    "Please install necessary packages before proceeding"
   ]
  },
  {
   "cell_type": "code",
   "execution_count": 109,
   "metadata": {},
   "outputs": [],
   "source": [
    "# !pip install xgboost\n",
    "\n",
    "# !pip install lightgbm\n",
    "\n",
    "# !pip install catboost"
   ]
  },
  {
   "cell_type": "code",
   "execution_count": 48,
   "metadata": {},
   "outputs": [],
   "source": [
    "import os\n",
    "import pandas as pd\n",
    "import numpy as np\n",
    "import matplotlib.pyplot as plt\n",
    "%matplotlib inline\n",
    "import seaborn as sns\n",
    "import time\n",
    "import psutil\n",
    "from sklearn.model_selection import train_test_split\n",
    "from sklearn.metrics import classification_report, confusion_matrix, accuracy_score,roc_auc_score, f1_score, log_loss\n",
    "from sklearn.preprocessing import MinMaxScaler, StandardScaler\n",
    "from sklearn.model_selection import GridSearchCV, RandomizedSearchCV\n",
    "from sklearn.metrics import accuracy_score, precision_score, recall_score, f1_score, roc_auc_score\n",
    "from sklearn.multiclass import OneVsRestClassifier\n",
    "from sklearn.ensemble import RandomForestClassifier, GradientBoostingClassifier\n",
    "from sklearn.linear_model import LogisticRegression\n",
    "from sklearn.svm import LinearSVC\n",
    "import lightgbm as lgb\n",
    "import xgboost as xgb\n",
    "from catboost import CatBoostClassifier\n",
    "import customfunctions as fn\n",
    "import encoding as enc\n",
    "import Featureimportance as fi\n",
    "import modeling as md\n",
    "import tuning as tn\n",
    "import warnings\n",
    "import importlib\n",
    "# Display all rows and columns in DataFrame outputs\n",
    "pd.set_option('display.max_rows', None)  # Show all rows\n",
    "pd.set_option('display.max_columns', None)  # Show all columns\n",
    "\n",
    "# Optional: Increase column width and display precision for better readability\n",
    "pd.set_option('display.width', 1000)  # Set the display width\n",
    "pd.set_option('display.max_colwidth', None)  # Show full content of each column\n",
    "pd.set_option('display.float_format', '{:.4f}'.format)\n",
    "seed=42"
   ]
  },
  {
   "cell_type": "code",
   "execution_count": 15,
   "metadata": {},
   "outputs": [],
   "source": [
    "os.chdir('../Data')"
   ]
  },
  {
   "cell_type": "code",
   "execution_count": 16,
   "metadata": {},
   "outputs": [
    {
     "data": {
      "text/plain": [
       "['catboost_info',\n",
       " 'test_data.csv',\n",
       " 'train_data.csv',\n",
       " 'train_data_dictionary.csv']"
      ]
     },
     "execution_count": 16,
     "metadata": {},
     "output_type": "execute_result"
    }
   ],
   "source": [
    "os.listdir()"
   ]
  },
  {
   "cell_type": "markdown",
   "metadata": {},
   "source": [
    "## Load Dataset"
   ]
  },
  {
   "cell_type": "code",
   "execution_count": 17,
   "metadata": {},
   "outputs": [],
   "source": [
    "df_Train=pd.read_csv('train_data.csv')\n",
    "df_Test = pd.read_csv('test_data.csv')\n",
    "df_description = pd.read_csv('train_data_dictionary.csv')"
   ]
  },
  {
   "cell_type": "markdown",
   "metadata": {},
   "source": [
    "## Describe the Dataset"
   ]
  },
  {
   "cell_type": "code",
   "execution_count": 18,
   "metadata": {},
   "outputs": [
    {
     "data": {
      "text/html": [
       "<div>\n",
       "<style scoped>\n",
       "    .dataframe tbody tr th:only-of-type {\n",
       "        vertical-align: middle;\n",
       "    }\n",
       "\n",
       "    .dataframe tbody tr th {\n",
       "        vertical-align: top;\n",
       "    }\n",
       "\n",
       "    .dataframe thead th {\n",
       "        text-align: right;\n",
       "    }\n",
       "</style>\n",
       "<table border=\"1\" class=\"dataframe\">\n",
       "  <thead>\n",
       "    <tr style=\"text-align: right;\">\n",
       "      <th></th>\n",
       "      <th>Column</th>\n",
       "      <th>Description</th>\n",
       "    </tr>\n",
       "  </thead>\n",
       "  <tbody>\n",
       "    <tr>\n",
       "      <th>0</th>\n",
       "      <td>case_id</td>\n",
       "      <td>Case_ID registered in Hospital</td>\n",
       "    </tr>\n",
       "    <tr>\n",
       "      <th>1</th>\n",
       "      <td>Hospital_code</td>\n",
       "      <td>Unique code for the Hospital</td>\n",
       "    </tr>\n",
       "    <tr>\n",
       "      <th>2</th>\n",
       "      <td>Hospital_type_code</td>\n",
       "      <td>Unique code for the type of Hospital</td>\n",
       "    </tr>\n",
       "    <tr>\n",
       "      <th>3</th>\n",
       "      <td>City_Code_Hospital</td>\n",
       "      <td>City Code of the Hospital</td>\n",
       "    </tr>\n",
       "    <tr>\n",
       "      <th>4</th>\n",
       "      <td>Hospital_region_code</td>\n",
       "      <td>Region Code of the Hospital</td>\n",
       "    </tr>\n",
       "    <tr>\n",
       "      <th>5</th>\n",
       "      <td>Available Extra Rooms in Hospital</td>\n",
       "      <td>Number of Extra rooms available in the Hospital</td>\n",
       "    </tr>\n",
       "    <tr>\n",
       "      <th>6</th>\n",
       "      <td>Department</td>\n",
       "      <td>Department overlooking the case</td>\n",
       "    </tr>\n",
       "    <tr>\n",
       "      <th>7</th>\n",
       "      <td>Ward_Type</td>\n",
       "      <td>Code for the Ward type</td>\n",
       "    </tr>\n",
       "    <tr>\n",
       "      <th>8</th>\n",
       "      <td>Ward_Facility_Code</td>\n",
       "      <td>Code for the Ward Facility</td>\n",
       "    </tr>\n",
       "    <tr>\n",
       "      <th>9</th>\n",
       "      <td>Bed Grade</td>\n",
       "      <td>Condition of Bed in the Ward</td>\n",
       "    </tr>\n",
       "    <tr>\n",
       "      <th>10</th>\n",
       "      <td>patientid</td>\n",
       "      <td>Unique Patient Id</td>\n",
       "    </tr>\n",
       "    <tr>\n",
       "      <th>11</th>\n",
       "      <td>City_Code_Patient</td>\n",
       "      <td>City Code for the patient</td>\n",
       "    </tr>\n",
       "    <tr>\n",
       "      <th>12</th>\n",
       "      <td>Type of Admission</td>\n",
       "      <td>Admission Type registered by the Hospital</td>\n",
       "    </tr>\n",
       "    <tr>\n",
       "      <th>13</th>\n",
       "      <td>Severity of Illness</td>\n",
       "      <td>Severity of the illness recorded at the time of admission</td>\n",
       "    </tr>\n",
       "    <tr>\n",
       "      <th>14</th>\n",
       "      <td>Visitors with Patient</td>\n",
       "      <td>Number of Visitors with the patient</td>\n",
       "    </tr>\n",
       "    <tr>\n",
       "      <th>15</th>\n",
       "      <td>Age</td>\n",
       "      <td>Age of the patient</td>\n",
       "    </tr>\n",
       "    <tr>\n",
       "      <th>16</th>\n",
       "      <td>Admission_Deposit</td>\n",
       "      <td>Deposit at the Admission Time</td>\n",
       "    </tr>\n",
       "    <tr>\n",
       "      <th>17</th>\n",
       "      <td>Stay</td>\n",
       "      <td>Stay Days by the patient</td>\n",
       "    </tr>\n",
       "  </tbody>\n",
       "</table>\n",
       "</div>"
      ],
      "text/plain": [
       "                               Column                                                Description\n",
       "0                             case_id                             Case_ID registered in Hospital\n",
       "1                       Hospital_code                               Unique code for the Hospital\n",
       "2                  Hospital_type_code                       Unique code for the type of Hospital\n",
       "3                  City_Code_Hospital                                  City Code of the Hospital\n",
       "4                Hospital_region_code                                Region Code of the Hospital\n",
       "5   Available Extra Rooms in Hospital            Number of Extra rooms available in the Hospital\n",
       "6                          Department                            Department overlooking the case\n",
       "7                           Ward_Type                                     Code for the Ward type\n",
       "8                  Ward_Facility_Code                                 Code for the Ward Facility\n",
       "9                           Bed Grade                               Condition of Bed in the Ward\n",
       "10                          patientid                                          Unique Patient Id\n",
       "11                  City_Code_Patient                                  City Code for the patient\n",
       "12                  Type of Admission                  Admission Type registered by the Hospital\n",
       "13                Severity of Illness  Severity of the illness recorded at the time of admission\n",
       "14              Visitors with Patient                        Number of Visitors with the patient\n",
       "15                                Age                                         Age of the patient\n",
       "16                  Admission_Deposit                              Deposit at the Admission Time\n",
       "17                               Stay                                   Stay Days by the patient"
      ]
     },
     "execution_count": 18,
     "metadata": {},
     "output_type": "execute_result"
    }
   ],
   "source": [
    "df_description"
   ]
  },
  {
   "cell_type": "code",
   "execution_count": 19,
   "metadata": {},
   "outputs": [],
   "source": [
    "df_Train.columns = (\n",
    "    df_Train.columns\n",
    "    .str.strip()  # Remove leading/trailing spaces\n",
    "    .str.lower()  # Convert to lowercase\n",
    "    .str.replace(\" \", \"_\")  # Replace spaces with underscores\n",
    "    .str.replace(\"[^a-z0-9_]\", \"\", regex=True)  # Remove non-alphanumeric characters\n",
    ")"
   ]
  },
  {
   "cell_type": "code",
   "execution_count": 20,
   "metadata": {},
   "outputs": [],
   "source": [
    "df_Test.columns = (\n",
    "    df_Test.columns\n",
    "    .str.strip()  # Remove leading/trailing spaces\n",
    "    .str.lower()  # Convert to lowercase\n",
    "    .str.replace(\" \", \"_\")  # Replace spaces with underscores\n",
    "    .str.replace(\"[^a-z0-9_]\", \"\", regex=True)  # Remove non-alphanumeric characters\n",
    ")"
   ]
  },
  {
   "cell_type": "markdown",
   "metadata": {},
   "source": [
    "converting the feature names into lower case and replacing spaces with underscore"
   ]
  },
  {
   "cell_type": "code",
   "execution_count": 21,
   "metadata": {},
   "outputs": [],
   "source": [
    "df_description.iloc[:, 0] = df_description.iloc[:, 0].str.lower().str.replace(\" \", \"_\")"
   ]
  },
  {
   "cell_type": "code",
   "execution_count": 22,
   "metadata": {},
   "outputs": [
    {
     "data": {
      "text/html": [
       "<div>\n",
       "<style scoped>\n",
       "    .dataframe tbody tr th:only-of-type {\n",
       "        vertical-align: middle;\n",
       "    }\n",
       "\n",
       "    .dataframe tbody tr th {\n",
       "        vertical-align: top;\n",
       "    }\n",
       "\n",
       "    .dataframe thead th {\n",
       "        text-align: right;\n",
       "    }\n",
       "</style>\n",
       "<table border=\"1\" class=\"dataframe\">\n",
       "  <thead>\n",
       "    <tr style=\"text-align: right;\">\n",
       "      <th></th>\n",
       "      <th>case_id</th>\n",
       "      <th>hospital_code</th>\n",
       "      <th>hospital_type_code</th>\n",
       "      <th>city_code_hospital</th>\n",
       "      <th>hospital_region_code</th>\n",
       "      <th>available_extra_rooms_in_hospital</th>\n",
       "      <th>department</th>\n",
       "      <th>ward_type</th>\n",
       "      <th>ward_facility_code</th>\n",
       "      <th>bed_grade</th>\n",
       "      <th>patientid</th>\n",
       "      <th>city_code_patient</th>\n",
       "      <th>type_of_admission</th>\n",
       "      <th>severity_of_illness</th>\n",
       "      <th>visitors_with_patient</th>\n",
       "      <th>age</th>\n",
       "      <th>admission_deposit</th>\n",
       "      <th>stay</th>\n",
       "    </tr>\n",
       "  </thead>\n",
       "  <tbody>\n",
       "    <tr>\n",
       "      <th>0</th>\n",
       "      <td>1</td>\n",
       "      <td>8</td>\n",
       "      <td>c</td>\n",
       "      <td>3</td>\n",
       "      <td>Z</td>\n",
       "      <td>3</td>\n",
       "      <td>radiotherapy</td>\n",
       "      <td>R</td>\n",
       "      <td>F</td>\n",
       "      <td>2.0000</td>\n",
       "      <td>31397</td>\n",
       "      <td>7.0000</td>\n",
       "      <td>Emergency</td>\n",
       "      <td>Extreme</td>\n",
       "      <td>2</td>\n",
       "      <td>51-60</td>\n",
       "      <td>4911.0000</td>\n",
       "      <td>0-10</td>\n",
       "    </tr>\n",
       "    <tr>\n",
       "      <th>1</th>\n",
       "      <td>2</td>\n",
       "      <td>2</td>\n",
       "      <td>c</td>\n",
       "      <td>5</td>\n",
       "      <td>Z</td>\n",
       "      <td>2</td>\n",
       "      <td>radiotherapy</td>\n",
       "      <td>S</td>\n",
       "      <td>F</td>\n",
       "      <td>2.0000</td>\n",
       "      <td>31397</td>\n",
       "      <td>7.0000</td>\n",
       "      <td>Trauma</td>\n",
       "      <td>Extreme</td>\n",
       "      <td>2</td>\n",
       "      <td>51-60</td>\n",
       "      <td>5954.0000</td>\n",
       "      <td>41-50</td>\n",
       "    </tr>\n",
       "    <tr>\n",
       "      <th>2</th>\n",
       "      <td>3</td>\n",
       "      <td>10</td>\n",
       "      <td>e</td>\n",
       "      <td>1</td>\n",
       "      <td>X</td>\n",
       "      <td>2</td>\n",
       "      <td>anesthesia</td>\n",
       "      <td>S</td>\n",
       "      <td>E</td>\n",
       "      <td>2.0000</td>\n",
       "      <td>31397</td>\n",
       "      <td>7.0000</td>\n",
       "      <td>Trauma</td>\n",
       "      <td>Extreme</td>\n",
       "      <td>2</td>\n",
       "      <td>51-60</td>\n",
       "      <td>4745.0000</td>\n",
       "      <td>31-40</td>\n",
       "    </tr>\n",
       "    <tr>\n",
       "      <th>3</th>\n",
       "      <td>4</td>\n",
       "      <td>26</td>\n",
       "      <td>b</td>\n",
       "      <td>2</td>\n",
       "      <td>Y</td>\n",
       "      <td>2</td>\n",
       "      <td>radiotherapy</td>\n",
       "      <td>R</td>\n",
       "      <td>D</td>\n",
       "      <td>2.0000</td>\n",
       "      <td>31397</td>\n",
       "      <td>7.0000</td>\n",
       "      <td>Trauma</td>\n",
       "      <td>Extreme</td>\n",
       "      <td>2</td>\n",
       "      <td>51-60</td>\n",
       "      <td>7272.0000</td>\n",
       "      <td>41-50</td>\n",
       "    </tr>\n",
       "    <tr>\n",
       "      <th>4</th>\n",
       "      <td>5</td>\n",
       "      <td>26</td>\n",
       "      <td>b</td>\n",
       "      <td>2</td>\n",
       "      <td>Y</td>\n",
       "      <td>2</td>\n",
       "      <td>radiotherapy</td>\n",
       "      <td>S</td>\n",
       "      <td>D</td>\n",
       "      <td>2.0000</td>\n",
       "      <td>31397</td>\n",
       "      <td>7.0000</td>\n",
       "      <td>Trauma</td>\n",
       "      <td>Extreme</td>\n",
       "      <td>2</td>\n",
       "      <td>51-60</td>\n",
       "      <td>5558.0000</td>\n",
       "      <td>41-50</td>\n",
       "    </tr>\n",
       "  </tbody>\n",
       "</table>\n",
       "</div>"
      ],
      "text/plain": [
       "   case_id  hospital_code hospital_type_code  city_code_hospital hospital_region_code  available_extra_rooms_in_hospital    department ward_type ward_facility_code  bed_grade  patientid  city_code_patient type_of_admission severity_of_illness  visitors_with_patient    age  admission_deposit   stay\n",
       "0        1              8                  c                   3                    Z                                  3  radiotherapy         R                  F     2.0000      31397             7.0000         Emergency             Extreme                      2  51-60          4911.0000   0-10\n",
       "1        2              2                  c                   5                    Z                                  2  radiotherapy         S                  F     2.0000      31397             7.0000            Trauma             Extreme                      2  51-60          5954.0000  41-50\n",
       "2        3             10                  e                   1                    X                                  2    anesthesia         S                  E     2.0000      31397             7.0000            Trauma             Extreme                      2  51-60          4745.0000  31-40\n",
       "3        4             26                  b                   2                    Y                                  2  radiotherapy         R                  D     2.0000      31397             7.0000            Trauma             Extreme                      2  51-60          7272.0000  41-50\n",
       "4        5             26                  b                   2                    Y                                  2  radiotherapy         S                  D     2.0000      31397             7.0000            Trauma             Extreme                      2  51-60          5558.0000  41-50"
      ]
     },
     "execution_count": 22,
     "metadata": {},
     "output_type": "execute_result"
    }
   ],
   "source": [
    "df_Train.head()"
   ]
  },
  {
   "cell_type": "code",
   "execution_count": 23,
   "metadata": {},
   "outputs": [
    {
     "data": {
      "text/html": [
       "<div>\n",
       "<style scoped>\n",
       "    .dataframe tbody tr th:only-of-type {\n",
       "        vertical-align: middle;\n",
       "    }\n",
       "\n",
       "    .dataframe tbody tr th {\n",
       "        vertical-align: top;\n",
       "    }\n",
       "\n",
       "    .dataframe thead th {\n",
       "        text-align: right;\n",
       "    }\n",
       "</style>\n",
       "<table border=\"1\" class=\"dataframe\">\n",
       "  <thead>\n",
       "    <tr style=\"text-align: right;\">\n",
       "      <th></th>\n",
       "      <th>case_id</th>\n",
       "      <th>hospital_code</th>\n",
       "      <th>hospital_type_code</th>\n",
       "      <th>city_code_hospital</th>\n",
       "      <th>hospital_region_code</th>\n",
       "      <th>available_extra_rooms_in_hospital</th>\n",
       "      <th>department</th>\n",
       "      <th>ward_type</th>\n",
       "      <th>ward_facility_code</th>\n",
       "      <th>bed_grade</th>\n",
       "      <th>patientid</th>\n",
       "      <th>city_code_patient</th>\n",
       "      <th>type_of_admission</th>\n",
       "      <th>severity_of_illness</th>\n",
       "      <th>visitors_with_patient</th>\n",
       "      <th>age</th>\n",
       "      <th>admission_deposit</th>\n",
       "    </tr>\n",
       "  </thead>\n",
       "  <tbody>\n",
       "    <tr>\n",
       "      <th>0</th>\n",
       "      <td>318439</td>\n",
       "      <td>21</td>\n",
       "      <td>c</td>\n",
       "      <td>3</td>\n",
       "      <td>Z</td>\n",
       "      <td>3</td>\n",
       "      <td>gynecology</td>\n",
       "      <td>S</td>\n",
       "      <td>A</td>\n",
       "      <td>2.0000</td>\n",
       "      <td>17006</td>\n",
       "      <td>2.0000</td>\n",
       "      <td>Emergency</td>\n",
       "      <td>Moderate</td>\n",
       "      <td>2</td>\n",
       "      <td>71-80</td>\n",
       "      <td>3095.0000</td>\n",
       "    </tr>\n",
       "    <tr>\n",
       "      <th>1</th>\n",
       "      <td>318440</td>\n",
       "      <td>29</td>\n",
       "      <td>a</td>\n",
       "      <td>4</td>\n",
       "      <td>X</td>\n",
       "      <td>2</td>\n",
       "      <td>gynecology</td>\n",
       "      <td>S</td>\n",
       "      <td>F</td>\n",
       "      <td>2.0000</td>\n",
       "      <td>17006</td>\n",
       "      <td>2.0000</td>\n",
       "      <td>Trauma</td>\n",
       "      <td>Moderate</td>\n",
       "      <td>4</td>\n",
       "      <td>71-80</td>\n",
       "      <td>4018.0000</td>\n",
       "    </tr>\n",
       "    <tr>\n",
       "      <th>2</th>\n",
       "      <td>318441</td>\n",
       "      <td>26</td>\n",
       "      <td>b</td>\n",
       "      <td>2</td>\n",
       "      <td>Y</td>\n",
       "      <td>3</td>\n",
       "      <td>gynecology</td>\n",
       "      <td>Q</td>\n",
       "      <td>D</td>\n",
       "      <td>4.0000</td>\n",
       "      <td>17006</td>\n",
       "      <td>2.0000</td>\n",
       "      <td>Emergency</td>\n",
       "      <td>Moderate</td>\n",
       "      <td>3</td>\n",
       "      <td>71-80</td>\n",
       "      <td>4492.0000</td>\n",
       "    </tr>\n",
       "    <tr>\n",
       "      <th>3</th>\n",
       "      <td>318442</td>\n",
       "      <td>6</td>\n",
       "      <td>a</td>\n",
       "      <td>6</td>\n",
       "      <td>X</td>\n",
       "      <td>3</td>\n",
       "      <td>gynecology</td>\n",
       "      <td>Q</td>\n",
       "      <td>F</td>\n",
       "      <td>2.0000</td>\n",
       "      <td>17006</td>\n",
       "      <td>2.0000</td>\n",
       "      <td>Trauma</td>\n",
       "      <td>Moderate</td>\n",
       "      <td>3</td>\n",
       "      <td>71-80</td>\n",
       "      <td>4173.0000</td>\n",
       "    </tr>\n",
       "    <tr>\n",
       "      <th>4</th>\n",
       "      <td>318443</td>\n",
       "      <td>28</td>\n",
       "      <td>b</td>\n",
       "      <td>11</td>\n",
       "      <td>X</td>\n",
       "      <td>2</td>\n",
       "      <td>gynecology</td>\n",
       "      <td>R</td>\n",
       "      <td>F</td>\n",
       "      <td>2.0000</td>\n",
       "      <td>17006</td>\n",
       "      <td>2.0000</td>\n",
       "      <td>Trauma</td>\n",
       "      <td>Moderate</td>\n",
       "      <td>4</td>\n",
       "      <td>71-80</td>\n",
       "      <td>4161.0000</td>\n",
       "    </tr>\n",
       "  </tbody>\n",
       "</table>\n",
       "</div>"
      ],
      "text/plain": [
       "   case_id  hospital_code hospital_type_code  city_code_hospital hospital_region_code  available_extra_rooms_in_hospital  department ward_type ward_facility_code  bed_grade  patientid  city_code_patient type_of_admission severity_of_illness  visitors_with_patient    age  admission_deposit\n",
       "0   318439             21                  c                   3                    Z                                  3  gynecology         S                  A     2.0000      17006             2.0000         Emergency            Moderate                      2  71-80          3095.0000\n",
       "1   318440             29                  a                   4                    X                                  2  gynecology         S                  F     2.0000      17006             2.0000            Trauma            Moderate                      4  71-80          4018.0000\n",
       "2   318441             26                  b                   2                    Y                                  3  gynecology         Q                  D     4.0000      17006             2.0000         Emergency            Moderate                      3  71-80          4492.0000\n",
       "3   318442              6                  a                   6                    X                                  3  gynecology         Q                  F     2.0000      17006             2.0000            Trauma            Moderate                      3  71-80          4173.0000\n",
       "4   318443             28                  b                  11                    X                                  2  gynecology         R                  F     2.0000      17006             2.0000            Trauma            Moderate                      4  71-80          4161.0000"
      ]
     },
     "execution_count": 23,
     "metadata": {},
     "output_type": "execute_result"
    }
   ],
   "source": [
    "df_Test.head()"
   ]
  },
  {
   "cell_type": "code",
   "execution_count": 24,
   "metadata": {},
   "outputs": [
    {
     "name": "stdout",
     "output_type": "stream",
     "text": [
      "The Train dataframe has 318438 rows and 18 columns\n",
      "The data types of each column of the dataframe are:\n",
      "<class 'pandas.core.frame.DataFrame'>\n",
      "RangeIndex: 318438 entries, 0 to 318437\n",
      "Data columns (total 18 columns):\n",
      " #   Column                             Non-Null Count   Dtype  \n",
      "---  ------                             --------------   -----  \n",
      " 0   case_id                            318438 non-null  int64  \n",
      " 1   hospital_code                      318438 non-null  int64  \n",
      " 2   hospital_type_code                 318438 non-null  object \n",
      " 3   city_code_hospital                 318438 non-null  int64  \n",
      " 4   hospital_region_code               318438 non-null  object \n",
      " 5   available_extra_rooms_in_hospital  318438 non-null  int64  \n",
      " 6   department                         318438 non-null  object \n",
      " 7   ward_type                          318438 non-null  object \n",
      " 8   ward_facility_code                 318438 non-null  object \n",
      " 9   bed_grade                          318325 non-null  float64\n",
      " 10  patientid                          318438 non-null  int64  \n",
      " 11  city_code_patient                  313906 non-null  float64\n",
      " 12  type_of_admission                  318438 non-null  object \n",
      " 13  severity_of_illness                318438 non-null  object \n",
      " 14  visitors_with_patient              318438 non-null  int64  \n",
      " 15  age                                318438 non-null  object \n",
      " 16  admission_deposit                  318438 non-null  float64\n",
      " 17  stay                               318438 non-null  object \n",
      "dtypes: float64(3), int64(6), object(9)\n",
      "memory usage: 43.7+ MB\n",
      "None\n"
     ]
    }
   ],
   "source": [
    "print(\"The Train dataframe has {} rows and {} columns\".format(df_Train.shape[0],df_Train.shape[1]))\n",
    "print(\"The data types of each column of the dataframe are:\")\n",
    "print(df_Train.info())"
   ]
  },
  {
   "cell_type": "code",
   "execution_count": 25,
   "metadata": {},
   "outputs": [
    {
     "name": "stdout",
     "output_type": "stream",
     "text": [
      "The Test dataframe has 137057 rows and 17 columns\n",
      "The data types of each column of the dataframe are:\n",
      "<class 'pandas.core.frame.DataFrame'>\n",
      "RangeIndex: 137057 entries, 0 to 137056\n",
      "Data columns (total 17 columns):\n",
      " #   Column                             Non-Null Count   Dtype  \n",
      "---  ------                             --------------   -----  \n",
      " 0   case_id                            137057 non-null  int64  \n",
      " 1   hospital_code                      137057 non-null  int64  \n",
      " 2   hospital_type_code                 137057 non-null  object \n",
      " 3   city_code_hospital                 137057 non-null  int64  \n",
      " 4   hospital_region_code               137057 non-null  object \n",
      " 5   available_extra_rooms_in_hospital  137057 non-null  int64  \n",
      " 6   department                         137057 non-null  object \n",
      " 7   ward_type                          137057 non-null  object \n",
      " 8   ward_facility_code                 137057 non-null  object \n",
      " 9   bed_grade                          137022 non-null  float64\n",
      " 10  patientid                          137057 non-null  int64  \n",
      " 11  city_code_patient                  134900 non-null  float64\n",
      " 12  type_of_admission                  137057 non-null  object \n",
      " 13  severity_of_illness                137057 non-null  object \n",
      " 14  visitors_with_patient              137057 non-null  int64  \n",
      " 15  age                                137057 non-null  object \n",
      " 16  admission_deposit                  137057 non-null  float64\n",
      "dtypes: float64(3), int64(6), object(8)\n",
      "memory usage: 17.8+ MB\n",
      "None\n"
     ]
    }
   ],
   "source": [
    "print(\"The Test dataframe has {} rows and {} columns\".format(df_Test.shape[0],df_Test.shape[1]))\n",
    "print(\"The data types of each column of the dataframe are:\")\n",
    "print(df_Test.info())"
   ]
  },
  {
   "cell_type": "code",
   "execution_count": 26,
   "metadata": {},
   "outputs": [
    {
     "data": {
      "text/plain": [
       "case_id                                 0\n",
       "hospital_code                           0\n",
       "hospital_type_code                      0\n",
       "city_code_hospital                      0\n",
       "hospital_region_code                    0\n",
       "available_extra_rooms_in_hospital       0\n",
       "department                              0\n",
       "ward_type                               0\n",
       "ward_facility_code                      0\n",
       "bed_grade                             113\n",
       "patientid                               0\n",
       "city_code_patient                    4532\n",
       "type_of_admission                       0\n",
       "severity_of_illness                     0\n",
       "visitors_with_patient                   0\n",
       "age                                     0\n",
       "admission_deposit                       0\n",
       "stay                                    0\n",
       "dtype: int64"
      ]
     },
     "execution_count": 26,
     "metadata": {},
     "output_type": "execute_result"
    }
   ],
   "source": [
    "df_Train.isnull().sum()"
   ]
  },
  {
   "cell_type": "code",
   "execution_count": 27,
   "metadata": {},
   "outputs": [
    {
     "data": {
      "text/plain": [
       "case_id                                 0\n",
       "hospital_code                           0\n",
       "hospital_type_code                      0\n",
       "city_code_hospital                      0\n",
       "hospital_region_code                    0\n",
       "available_extra_rooms_in_hospital       0\n",
       "department                              0\n",
       "ward_type                               0\n",
       "ward_facility_code                      0\n",
       "bed_grade                              35\n",
       "patientid                               0\n",
       "city_code_patient                    2157\n",
       "type_of_admission                       0\n",
       "severity_of_illness                     0\n",
       "visitors_with_patient                   0\n",
       "age                                     0\n",
       "admission_deposit                       0\n",
       "dtype: int64"
      ]
     },
     "execution_count": 27,
     "metadata": {},
     "output_type": "execute_result"
    }
   ],
   "source": [
    "df_Test.isnull().sum()"
   ]
  },
  {
   "cell_type": "code",
   "execution_count": 28,
   "metadata": {},
   "outputs": [
    {
     "ename": "NameError",
     "evalue": "name 'importlib' is not defined",
     "output_type": "error",
     "traceback": [
      "\u001b[1;31m---------------------------------------------------------------------------\u001b[0m",
      "\u001b[1;31mNameError\u001b[0m                                 Traceback (most recent call last)",
      "Cell \u001b[1;32mIn[28], line 1\u001b[0m\n\u001b[1;32m----> 1\u001b[0m importlib\u001b[38;5;241m.\u001b[39mreload(fn)\n",
      "\u001b[1;31mNameError\u001b[0m: name 'importlib' is not defined"
     ]
    }
   ],
   "source": [
    "importlib.reload(fn)"
   ]
  },
  {
   "cell_type": "code",
   "execution_count": 125,
   "metadata": {},
   "outputs": [
    {
     "data": {
      "text/plain": [
       "Index(['case_id', 'hospital_code', 'hospital_type_code', 'city_code_hospital', 'hospital_region_code', 'available_extra_rooms_in_hospital', 'department', 'ward_type', 'ward_facility_code', 'bed_grade', 'patientid', 'city_code_patient', 'type_of_admission', 'severity_of_illness', 'visitors_with_patient', 'age', 'admission_deposit', 'stay'], dtype='object')"
      ]
     },
     "execution_count": 125,
     "metadata": {},
     "output_type": "execute_result"
    }
   ],
   "source": [
    "df_Train.columns"
   ]
  },
  {
   "cell_type": "code",
   "execution_count": 126,
   "metadata": {},
   "outputs": [
    {
     "name": "stdout",
     "output_type": "stream",
     "text": [
      "Converted the following columns to categorical: ['hospital_code', 'city_code_hospital', 'bed_grade', 'city_code_patient']\n",
      "Dropped the 'case_id' and 'patientid' columns as they are unique identifiers and not useful for modeling.\n",
      "Processed DataFrame shape: (318438, 16)\n",
      "Data types after processing:\n",
      "hospital_code                        category\n",
      "hospital_type_code                     object\n",
      "city_code_hospital                   category\n",
      "hospital_region_code                   object\n",
      "available_extra_rooms_in_hospital       int64\n",
      "department                             object\n",
      "ward_type                              object\n",
      "ward_facility_code                     object\n",
      "bed_grade                            category\n",
      "city_code_patient                    category\n",
      "type_of_admission                      object\n",
      "severity_of_illness                    object\n",
      "visitors_with_patient                   int64\n",
      "age                                    object\n",
      "admission_deposit                     float64\n",
      "stay                                   object\n",
      "dtype: object\n"
     ]
    }
   ],
   "source": [
    "fn.process_data(df_Train)"
   ]
  },
  {
   "cell_type": "code",
   "execution_count": 29,
   "metadata": {},
   "outputs": [
    {
     "name": "stdout",
     "output_type": "stream",
     "text": [
      "Converted the following columns to categorical: ['hospital_code', 'city_code_hospital', 'bed_grade', 'city_code_patient']\n",
      "Dropped the 'case_id' and 'patientid' columns as they are unique identifiers and not useful for modeling.\n",
      "Processed DataFrame shape: (137057, 15)\n",
      "Data types after processing:\n",
      "hospital_code                        category\n",
      "hospital_type_code                     object\n",
      "city_code_hospital                   category\n",
      "hospital_region_code                   object\n",
      "available_extra_rooms_in_hospital       int64\n",
      "department                             object\n",
      "ward_type                              object\n",
      "ward_facility_code                     object\n",
      "bed_grade                            category\n",
      "city_code_patient                    category\n",
      "type_of_admission                      object\n",
      "severity_of_illness                    object\n",
      "visitors_with_patient                   int64\n",
      "age                                    object\n",
      "admission_deposit                     float64\n",
      "dtype: object\n"
     ]
    }
   ],
   "source": [
    "fn.process_data(df_Test)"
   ]
  },
  {
   "cell_type": "code",
   "execution_count": 30,
   "metadata": {},
   "outputs": [
    {
     "data": {
      "text/html": [
       "<div>\n",
       "<style scoped>\n",
       "    .dataframe tbody tr th:only-of-type {\n",
       "        vertical-align: middle;\n",
       "    }\n",
       "\n",
       "    .dataframe tbody tr th {\n",
       "        vertical-align: top;\n",
       "    }\n",
       "\n",
       "    .dataframe thead th {\n",
       "        text-align: right;\n",
       "    }\n",
       "</style>\n",
       "<table border=\"1\" class=\"dataframe\">\n",
       "  <thead>\n",
       "    <tr style=\"text-align: right;\">\n",
       "      <th></th>\n",
       "      <th>Column Name</th>\n",
       "      <th>Null Count</th>\n",
       "      <th>Null Percentage</th>\n",
       "      <th>Modalities</th>\n",
       "      <th>Data Type</th>\n",
       "    </tr>\n",
       "  </thead>\n",
       "  <tbody>\n",
       "    <tr>\n",
       "      <th>0</th>\n",
       "      <td>city_code_patient</td>\n",
       "      <td>4532</td>\n",
       "      <td>1.4232</td>\n",
       "      <td>37</td>\n",
       "      <td>float64</td>\n",
       "    </tr>\n",
       "    <tr>\n",
       "      <th>1</th>\n",
       "      <td>bed_grade</td>\n",
       "      <td>113</td>\n",
       "      <td>0.0355</td>\n",
       "      <td>4</td>\n",
       "      <td>float64</td>\n",
       "    </tr>\n",
       "  </tbody>\n",
       "</table>\n",
       "</div>"
      ],
      "text/plain": [
       "         Column Name  Null Count  Null Percentage  Modalities Data Type\n",
       "0  city_code_patient        4532           1.4232          37   float64\n",
       "1          bed_grade         113           0.0355           4   float64"
      ]
     },
     "execution_count": 30,
     "metadata": {},
     "output_type": "execute_result"
    }
   ],
   "source": [
    "fn.summarize_nulls_and_modalities(df_Train,df_Train.columns)"
   ]
  },
  {
   "cell_type": "code",
   "execution_count": 31,
   "metadata": {},
   "outputs": [
    {
     "data": {
      "text/html": [
       "<div>\n",
       "<style scoped>\n",
       "    .dataframe tbody tr th:only-of-type {\n",
       "        vertical-align: middle;\n",
       "    }\n",
       "\n",
       "    .dataframe tbody tr th {\n",
       "        vertical-align: top;\n",
       "    }\n",
       "\n",
       "    .dataframe thead th {\n",
       "        text-align: right;\n",
       "    }\n",
       "</style>\n",
       "<table border=\"1\" class=\"dataframe\">\n",
       "  <thead>\n",
       "    <tr style=\"text-align: right;\">\n",
       "      <th></th>\n",
       "      <th>Column Name</th>\n",
       "      <th>Null Count</th>\n",
       "      <th>Null Percentage</th>\n",
       "      <th>Modalities</th>\n",
       "      <th>Data Type</th>\n",
       "    </tr>\n",
       "  </thead>\n",
       "  <tbody>\n",
       "    <tr>\n",
       "      <th>0</th>\n",
       "      <td>city_code_patient</td>\n",
       "      <td>2157</td>\n",
       "      <td>1.5738</td>\n",
       "      <td>37</td>\n",
       "      <td>category</td>\n",
       "    </tr>\n",
       "    <tr>\n",
       "      <th>1</th>\n",
       "      <td>bed_grade</td>\n",
       "      <td>35</td>\n",
       "      <td>0.0255</td>\n",
       "      <td>4</td>\n",
       "      <td>category</td>\n",
       "    </tr>\n",
       "  </tbody>\n",
       "</table>\n",
       "</div>"
      ],
      "text/plain": [
       "         Column Name  Null Count  Null Percentage  Modalities Data Type\n",
       "0  city_code_patient        2157           1.5738          37  category\n",
       "1          bed_grade          35           0.0255           4  category"
      ]
     },
     "execution_count": 31,
     "metadata": {},
     "output_type": "execute_result"
    }
   ],
   "source": [
    "fn.summarize_nulls_and_modalities(df_Test,df_Test.columns)"
   ]
  },
  {
   "cell_type": "code",
   "execution_count": 32,
   "metadata": {},
   "outputs": [
    {
     "data": {
      "text/html": [
       "<div>\n",
       "<style scoped>\n",
       "    .dataframe tbody tr th:only-of-type {\n",
       "        vertical-align: middle;\n",
       "    }\n",
       "\n",
       "    .dataframe tbody tr th {\n",
       "        vertical-align: top;\n",
       "    }\n",
       "\n",
       "    .dataframe thead th {\n",
       "        text-align: right;\n",
       "    }\n",
       "</style>\n",
       "<table border=\"1\" class=\"dataframe\">\n",
       "  <thead>\n",
       "    <tr style=\"text-align: right;\">\n",
       "      <th></th>\n",
       "      <th>Column</th>\n",
       "      <th>Description</th>\n",
       "    </tr>\n",
       "  </thead>\n",
       "  <tbody>\n",
       "  </tbody>\n",
       "</table>\n",
       "</div>"
      ],
      "text/plain": [
       "Empty DataFrame\n",
       "Columns: [Column, Description]\n",
       "Index: []"
      ]
     },
     "execution_count": 32,
     "metadata": {},
     "output_type": "execute_result"
    }
   ],
   "source": [
    "fn.get_descriptions_for_variables(df_description,[\"City_Code_Patient\",\"Bed Grade\"])"
   ]
  },
  {
   "cell_type": "code",
   "execution_count": 33,
   "metadata": {},
   "outputs": [],
   "source": [
    "categorical_features = df_Train.select_dtypes(include=['object','category']).columns\n",
    "numerical_features = df_Train.select_dtypes(exclude=['object','category']).columns"
   ]
  },
  {
   "cell_type": "code",
   "execution_count": 34,
   "metadata": {},
   "outputs": [
    {
     "data": {
      "text/plain": [
       "Index(['hospital_type_code', 'hospital_region_code', 'department', 'ward_type', 'ward_facility_code', 'type_of_admission', 'severity_of_illness', 'age', 'stay'], dtype='object')"
      ]
     },
     "execution_count": 34,
     "metadata": {},
     "output_type": "execute_result"
    }
   ],
   "source": [
    "categorical_features"
   ]
  },
  {
   "cell_type": "code",
   "execution_count": 35,
   "metadata": {},
   "outputs": [
    {
     "data": {
      "text/plain": [
       "hospital_type_code       7\n",
       "hospital_region_code     3\n",
       "department               5\n",
       "ward_type                6\n",
       "ward_facility_code       6\n",
       "type_of_admission        3\n",
       "severity_of_illness      3\n",
       "age                     10\n",
       "stay                    11\n",
       "dtype: int64"
      ]
     },
     "execution_count": 35,
     "metadata": {},
     "output_type": "execute_result"
    }
   ],
   "source": [
    "df_Train[categorical_features].nunique()"
   ]
  },
  {
   "cell_type": "code",
   "execution_count": 36,
   "metadata": {},
   "outputs": [
    {
     "data": {
      "text/plain": [
       "Index(['case_id', 'hospital_code', 'city_code_hospital', 'available_extra_rooms_in_hospital', 'bed_grade', 'patientid', 'city_code_patient', 'visitors_with_patient', 'admission_deposit'], dtype='object')"
      ]
     },
     "execution_count": 36,
     "metadata": {},
     "output_type": "execute_result"
    }
   ],
   "source": [
    "numerical_features"
   ]
  },
  {
   "cell_type": "code",
   "execution_count": 37,
   "metadata": {},
   "outputs": [
    {
     "name": "stdout",
     "output_type": "stream",
     "text": [
      "Number of numerical features: 9\n",
      "Number of categorical features: 9\n"
     ]
    }
   ],
   "source": [
    "print(f'Number of numerical features: {len(numerical_features)}')\n",
    "print(f'Number of categorical features: {len(categorical_features)}')  "
   ]
  },
  {
   "cell_type": "code",
   "execution_count": 38,
   "metadata": {},
   "outputs": [
    {
     "data": {
      "text/html": [
       "<div>\n",
       "<style scoped>\n",
       "    .dataframe tbody tr th:only-of-type {\n",
       "        vertical-align: middle;\n",
       "    }\n",
       "\n",
       "    .dataframe tbody tr th {\n",
       "        vertical-align: top;\n",
       "    }\n",
       "\n",
       "    .dataframe thead th {\n",
       "        text-align: right;\n",
       "    }\n",
       "</style>\n",
       "<table border=\"1\" class=\"dataframe\">\n",
       "  <thead>\n",
       "    <tr style=\"text-align: right;\">\n",
       "      <th></th>\n",
       "      <th>case_id</th>\n",
       "      <th>hospital_code</th>\n",
       "      <th>city_code_hospital</th>\n",
       "      <th>available_extra_rooms_in_hospital</th>\n",
       "      <th>bed_grade</th>\n",
       "      <th>patientid</th>\n",
       "      <th>city_code_patient</th>\n",
       "      <th>visitors_with_patient</th>\n",
       "      <th>admission_deposit</th>\n",
       "    </tr>\n",
       "  </thead>\n",
       "  <tbody>\n",
       "    <tr>\n",
       "      <th>count</th>\n",
       "      <td>318438.0000</td>\n",
       "      <td>318438.0000</td>\n",
       "      <td>318438.0000</td>\n",
       "      <td>318438.0000</td>\n",
       "      <td>318325.0000</td>\n",
       "      <td>318438.0000</td>\n",
       "      <td>313906.0000</td>\n",
       "      <td>318438.0000</td>\n",
       "      <td>318438.0000</td>\n",
       "    </tr>\n",
       "    <tr>\n",
       "      <th>mean</th>\n",
       "      <td>159219.5000</td>\n",
       "      <td>18.3188</td>\n",
       "      <td>4.7717</td>\n",
       "      <td>3.1976</td>\n",
       "      <td>2.6258</td>\n",
       "      <td>65747.5795</td>\n",
       "      <td>7.2519</td>\n",
       "      <td>3.2841</td>\n",
       "      <td>4880.7494</td>\n",
       "    </tr>\n",
       "    <tr>\n",
       "      <th>std</th>\n",
       "      <td>91925.2768</td>\n",
       "      <td>8.6338</td>\n",
       "      <td>3.1025</td>\n",
       "      <td>1.1682</td>\n",
       "      <td>0.8731</td>\n",
       "      <td>37979.9364</td>\n",
       "      <td>4.7453</td>\n",
       "      <td>1.7641</td>\n",
       "      <td>1086.7763</td>\n",
       "    </tr>\n",
       "    <tr>\n",
       "      <th>min</th>\n",
       "      <td>1.0000</td>\n",
       "      <td>1.0000</td>\n",
       "      <td>1.0000</td>\n",
       "      <td>0.0000</td>\n",
       "      <td>1.0000</td>\n",
       "      <td>1.0000</td>\n",
       "      <td>1.0000</td>\n",
       "      <td>0.0000</td>\n",
       "      <td>1800.0000</td>\n",
       "    </tr>\n",
       "    <tr>\n",
       "      <th>25%</th>\n",
       "      <td>79610.2500</td>\n",
       "      <td>11.0000</td>\n",
       "      <td>2.0000</td>\n",
       "      <td>2.0000</td>\n",
       "      <td>2.0000</td>\n",
       "      <td>32847.0000</td>\n",
       "      <td>4.0000</td>\n",
       "      <td>2.0000</td>\n",
       "      <td>4186.0000</td>\n",
       "    </tr>\n",
       "    <tr>\n",
       "      <th>50%</th>\n",
       "      <td>159219.5000</td>\n",
       "      <td>19.0000</td>\n",
       "      <td>5.0000</td>\n",
       "      <td>3.0000</td>\n",
       "      <td>3.0000</td>\n",
       "      <td>65724.5000</td>\n",
       "      <td>8.0000</td>\n",
       "      <td>3.0000</td>\n",
       "      <td>4741.0000</td>\n",
       "    </tr>\n",
       "    <tr>\n",
       "      <th>75%</th>\n",
       "      <td>238828.7500</td>\n",
       "      <td>26.0000</td>\n",
       "      <td>7.0000</td>\n",
       "      <td>4.0000</td>\n",
       "      <td>3.0000</td>\n",
       "      <td>98470.0000</td>\n",
       "      <td>8.0000</td>\n",
       "      <td>4.0000</td>\n",
       "      <td>5409.0000</td>\n",
       "    </tr>\n",
       "    <tr>\n",
       "      <th>max</th>\n",
       "      <td>318438.0000</td>\n",
       "      <td>32.0000</td>\n",
       "      <td>13.0000</td>\n",
       "      <td>24.0000</td>\n",
       "      <td>4.0000</td>\n",
       "      <td>131624.0000</td>\n",
       "      <td>38.0000</td>\n",
       "      <td>32.0000</td>\n",
       "      <td>11008.0000</td>\n",
       "    </tr>\n",
       "  </tbody>\n",
       "</table>\n",
       "</div>"
      ],
      "text/plain": [
       "          case_id  hospital_code  city_code_hospital  available_extra_rooms_in_hospital   bed_grade   patientid  city_code_patient  visitors_with_patient  admission_deposit\n",
       "count 318438.0000    318438.0000         318438.0000                        318438.0000 318325.0000 318438.0000        313906.0000            318438.0000        318438.0000\n",
       "mean  159219.5000        18.3188              4.7717                             3.1976      2.6258  65747.5795             7.2519                 3.2841          4880.7494\n",
       "std    91925.2768         8.6338              3.1025                             1.1682      0.8731  37979.9364             4.7453                 1.7641          1086.7763\n",
       "min        1.0000         1.0000              1.0000                             0.0000      1.0000      1.0000             1.0000                 0.0000          1800.0000\n",
       "25%    79610.2500        11.0000              2.0000                             2.0000      2.0000  32847.0000             4.0000                 2.0000          4186.0000\n",
       "50%   159219.5000        19.0000              5.0000                             3.0000      3.0000  65724.5000             8.0000                 3.0000          4741.0000\n",
       "75%   238828.7500        26.0000              7.0000                             4.0000      3.0000  98470.0000             8.0000                 4.0000          5409.0000\n",
       "max   318438.0000        32.0000             13.0000                            24.0000      4.0000 131624.0000            38.0000                32.0000         11008.0000"
      ]
     },
     "execution_count": 38,
     "metadata": {},
     "output_type": "execute_result"
    }
   ],
   "source": [
    "df_Train[numerical_features].describe()"
   ]
  },
  {
   "cell_type": "code",
   "execution_count": 39,
   "metadata": {},
   "outputs": [
    {
     "data": {
      "text/html": [
       "<div>\n",
       "<style scoped>\n",
       "    .dataframe tbody tr th:only-of-type {\n",
       "        vertical-align: middle;\n",
       "    }\n",
       "\n",
       "    .dataframe tbody tr th {\n",
       "        vertical-align: top;\n",
       "    }\n",
       "\n",
       "    .dataframe thead th {\n",
       "        text-align: right;\n",
       "    }\n",
       "</style>\n",
       "<table border=\"1\" class=\"dataframe\">\n",
       "  <thead>\n",
       "    <tr style=\"text-align: right;\">\n",
       "      <th></th>\n",
       "      <th>hospital_type_code</th>\n",
       "      <th>hospital_region_code</th>\n",
       "      <th>department</th>\n",
       "      <th>ward_type</th>\n",
       "      <th>ward_facility_code</th>\n",
       "      <th>type_of_admission</th>\n",
       "      <th>severity_of_illness</th>\n",
       "      <th>age</th>\n",
       "      <th>stay</th>\n",
       "    </tr>\n",
       "  </thead>\n",
       "  <tbody>\n",
       "    <tr>\n",
       "      <th>count</th>\n",
       "      <td>318438</td>\n",
       "      <td>318438</td>\n",
       "      <td>318438</td>\n",
       "      <td>318438</td>\n",
       "      <td>318438</td>\n",
       "      <td>318438</td>\n",
       "      <td>318438</td>\n",
       "      <td>318438</td>\n",
       "      <td>318438</td>\n",
       "    </tr>\n",
       "    <tr>\n",
       "      <th>unique</th>\n",
       "      <td>7</td>\n",
       "      <td>3</td>\n",
       "      <td>5</td>\n",
       "      <td>6</td>\n",
       "      <td>6</td>\n",
       "      <td>3</td>\n",
       "      <td>3</td>\n",
       "      <td>10</td>\n",
       "      <td>11</td>\n",
       "    </tr>\n",
       "    <tr>\n",
       "      <th>top</th>\n",
       "      <td>a</td>\n",
       "      <td>X</td>\n",
       "      <td>gynecology</td>\n",
       "      <td>R</td>\n",
       "      <td>F</td>\n",
       "      <td>Trauma</td>\n",
       "      <td>Moderate</td>\n",
       "      <td>41-50</td>\n",
       "      <td>21-30</td>\n",
       "    </tr>\n",
       "    <tr>\n",
       "      <th>freq</th>\n",
       "      <td>143425</td>\n",
       "      <td>133336</td>\n",
       "      <td>249486</td>\n",
       "      <td>127947</td>\n",
       "      <td>112753</td>\n",
       "      <td>152261</td>\n",
       "      <td>175843</td>\n",
       "      <td>63749</td>\n",
       "      <td>87491</td>\n",
       "    </tr>\n",
       "  </tbody>\n",
       "</table>\n",
       "</div>"
      ],
      "text/plain": [
       "       hospital_type_code hospital_region_code  department ward_type ward_facility_code type_of_admission severity_of_illness     age    stay\n",
       "count              318438               318438      318438    318438             318438            318438              318438  318438  318438\n",
       "unique                  7                    3           5         6                  6                 3                   3      10      11\n",
       "top                     a                    X  gynecology         R                  F            Trauma            Moderate   41-50   21-30\n",
       "freq               143425               133336      249486    127947             112753            152261              175843   63749   87491"
      ]
     },
     "execution_count": 39,
     "metadata": {},
     "output_type": "execute_result"
    }
   ],
   "source": [
    "df_Train[categorical_features].describe()"
   ]
  },
  {
   "cell_type": "markdown",
   "metadata": {},
   "source": [
    "## Drop Duplicates and Null Values"
   ]
  },
  {
   "cell_type": "markdown",
   "metadata": {},
   "source": [
    "Since the percentage of null values is minimal, we can drop the affected rows/columns to maintain data integrity."
   ]
  },
  {
   "cell_type": "code",
   "execution_count": 40,
   "metadata": {},
   "outputs": [
    {
     "name": "stdout",
     "output_type": "stream",
     "text": [
      "Train Set\n",
      "\n",
      "Initial Shape: (318438, 18)\n",
      "Shape after dropping rows with missing values: (313793, 18)\n",
      "No duplicates found after dropping rows with missing values.\n",
      "Final Shape after cleaning (missing values): (313793, 18)\n",
      "\n",
      "\n",
      "Test Set\n",
      "\n",
      "Initial Shape: (137057, 15)\n",
      "Shape after dropping rows with missing values: (134865, 15)\n",
      "Duplicates found after dropping missing values: 60 rows.\n",
      "Duplicates dropped: 60 rows removed.\n",
      "Final Shape after cleaning (missing values and duplicates): (134805, 15)\n"
     ]
    }
   ],
   "source": [
    "print(\"Train Set\\n\")\n",
    "fn.clean_data_inplace(df_Train)\n",
    "print(\"\\n\")\n",
    "print(\"Test Set\\n\")\n",
    "fn.clean_data_inplace(df_Test)"
   ]
  },
  {
   "cell_type": "code",
   "execution_count": 41,
   "metadata": {},
   "outputs": [
    {
     "data": {
      "text/plain": [
       "case_id                              0\n",
       "hospital_code                        0\n",
       "hospital_type_code                   0\n",
       "city_code_hospital                   0\n",
       "hospital_region_code                 0\n",
       "available_extra_rooms_in_hospital    0\n",
       "department                           0\n",
       "ward_type                            0\n",
       "ward_facility_code                   0\n",
       "bed_grade                            0\n",
       "patientid                            0\n",
       "city_code_patient                    0\n",
       "type_of_admission                    0\n",
       "severity_of_illness                  0\n",
       "visitors_with_patient                0\n",
       "age                                  0\n",
       "admission_deposit                    0\n",
       "stay                                 0\n",
       "dtype: int64"
      ]
     },
     "execution_count": 41,
     "metadata": {},
     "output_type": "execute_result"
    }
   ],
   "source": [
    "df_Train.isnull().sum()"
   ]
  },
  {
   "cell_type": "code",
   "execution_count": 42,
   "metadata": {},
   "outputs": [
    {
     "data": {
      "text/html": [
       "<div>\n",
       "<style scoped>\n",
       "    .dataframe tbody tr th:only-of-type {\n",
       "        vertical-align: middle;\n",
       "    }\n",
       "\n",
       "    .dataframe tbody tr th {\n",
       "        vertical-align: top;\n",
       "    }\n",
       "\n",
       "    .dataframe thead th {\n",
       "        text-align: right;\n",
       "    }\n",
       "</style>\n",
       "<table border=\"1\" class=\"dataframe\">\n",
       "  <thead>\n",
       "    <tr style=\"text-align: right;\">\n",
       "      <th></th>\n",
       "      <th>case_id</th>\n",
       "      <th>hospital_code</th>\n",
       "      <th>city_code_hospital</th>\n",
       "      <th>available_extra_rooms_in_hospital</th>\n",
       "      <th>bed_grade</th>\n",
       "      <th>patientid</th>\n",
       "      <th>city_code_patient</th>\n",
       "      <th>visitors_with_patient</th>\n",
       "      <th>admission_deposit</th>\n",
       "    </tr>\n",
       "  </thead>\n",
       "  <tbody>\n",
       "    <tr>\n",
       "      <th>count</th>\n",
       "      <td>313793.0000</td>\n",
       "      <td>313793.0000</td>\n",
       "      <td>313793.0000</td>\n",
       "      <td>313793.0000</td>\n",
       "      <td>313793.0000</td>\n",
       "      <td>313793.0000</td>\n",
       "      <td>313793.0000</td>\n",
       "      <td>313793.0000</td>\n",
       "      <td>313793.0000</td>\n",
       "    </tr>\n",
       "    <tr>\n",
       "      <th>mean</th>\n",
       "      <td>158937.9111</td>\n",
       "      <td>18.3264</td>\n",
       "      <td>4.7782</td>\n",
       "      <td>3.1964</td>\n",
       "      <td>2.6230</td>\n",
       "      <td>65743.0294</td>\n",
       "      <td>7.2524</td>\n",
       "      <td>3.2809</td>\n",
       "      <td>4881.8932</td>\n",
       "    </tr>\n",
       "    <tr>\n",
       "      <th>std</th>\n",
       "      <td>91939.5070</td>\n",
       "      <td>8.6336</td>\n",
       "      <td>3.1032</td>\n",
       "      <td>1.1679</td>\n",
       "      <td>0.8726</td>\n",
       "      <td>37978.0832</td>\n",
       "      <td>4.7452</td>\n",
       "      <td>1.7618</td>\n",
       "      <td>1086.2439</td>\n",
       "    </tr>\n",
       "    <tr>\n",
       "      <th>min</th>\n",
       "      <td>1.0000</td>\n",
       "      <td>1.0000</td>\n",
       "      <td>1.0000</td>\n",
       "      <td>0.0000</td>\n",
       "      <td>1.0000</td>\n",
       "      <td>1.0000</td>\n",
       "      <td>1.0000</td>\n",
       "      <td>0.0000</td>\n",
       "      <td>1800.0000</td>\n",
       "    </tr>\n",
       "    <tr>\n",
       "      <th>25%</th>\n",
       "      <td>79271.0000</td>\n",
       "      <td>11.0000</td>\n",
       "      <td>2.0000</td>\n",
       "      <td>2.0000</td>\n",
       "      <td>2.0000</td>\n",
       "      <td>32833.0000</td>\n",
       "      <td>4.0000</td>\n",
       "      <td>2.0000</td>\n",
       "      <td>4188.0000</td>\n",
       "    </tr>\n",
       "    <tr>\n",
       "      <th>50%</th>\n",
       "      <td>158950.0000</td>\n",
       "      <td>19.0000</td>\n",
       "      <td>5.0000</td>\n",
       "      <td>3.0000</td>\n",
       "      <td>3.0000</td>\n",
       "      <td>65735.0000</td>\n",
       "      <td>8.0000</td>\n",
       "      <td>3.0000</td>\n",
       "      <td>4742.0000</td>\n",
       "    </tr>\n",
       "    <tr>\n",
       "      <th>75%</th>\n",
       "      <td>238399.0000</td>\n",
       "      <td>26.0000</td>\n",
       "      <td>7.0000</td>\n",
       "      <td>4.0000</td>\n",
       "      <td>3.0000</td>\n",
       "      <td>98472.0000</td>\n",
       "      <td>8.0000</td>\n",
       "      <td>4.0000</td>\n",
       "      <td>5410.0000</td>\n",
       "    </tr>\n",
       "    <tr>\n",
       "      <th>max</th>\n",
       "      <td>318438.0000</td>\n",
       "      <td>32.0000</td>\n",
       "      <td>13.0000</td>\n",
       "      <td>24.0000</td>\n",
       "      <td>4.0000</td>\n",
       "      <td>131624.0000</td>\n",
       "      <td>38.0000</td>\n",
       "      <td>32.0000</td>\n",
       "      <td>11008.0000</td>\n",
       "    </tr>\n",
       "  </tbody>\n",
       "</table>\n",
       "</div>"
      ],
      "text/plain": [
       "          case_id  hospital_code  city_code_hospital  available_extra_rooms_in_hospital   bed_grade   patientid  city_code_patient  visitors_with_patient  admission_deposit\n",
       "count 313793.0000    313793.0000         313793.0000                        313793.0000 313793.0000 313793.0000        313793.0000            313793.0000        313793.0000\n",
       "mean  158937.9111        18.3264              4.7782                             3.1964      2.6230  65743.0294             7.2524                 3.2809          4881.8932\n",
       "std    91939.5070         8.6336              3.1032                             1.1679      0.8726  37978.0832             4.7452                 1.7618          1086.2439\n",
       "min        1.0000         1.0000              1.0000                             0.0000      1.0000      1.0000             1.0000                 0.0000          1800.0000\n",
       "25%    79271.0000        11.0000              2.0000                             2.0000      2.0000  32833.0000             4.0000                 2.0000          4188.0000\n",
       "50%   158950.0000        19.0000              5.0000                             3.0000      3.0000  65735.0000             8.0000                 3.0000          4742.0000\n",
       "75%   238399.0000        26.0000              7.0000                             4.0000      3.0000  98472.0000             8.0000                 4.0000          5410.0000\n",
       "max   318438.0000        32.0000             13.0000                            24.0000      4.0000 131624.0000            38.0000                32.0000         11008.0000"
      ]
     },
     "execution_count": 42,
     "metadata": {},
     "output_type": "execute_result"
    }
   ],
   "source": [
    "df_Train[numerical_features].describe()"
   ]
  },
  {
   "cell_type": "code",
   "execution_count": 43,
   "metadata": {},
   "outputs": [
    {
     "data": {
      "text/plain": [
       "hospital_type_code       7\n",
       "hospital_region_code     3\n",
       "department               5\n",
       "ward_type                6\n",
       "ward_facility_code       6\n",
       "type_of_admission        3\n",
       "severity_of_illness      3\n",
       "age                     10\n",
       "stay                    11\n",
       "dtype: int64"
      ]
     },
     "execution_count": 43,
     "metadata": {},
     "output_type": "execute_result"
    }
   ],
   "source": [
    "df_Train[categorical_features].nunique()"
   ]
  },
  {
   "cell_type": "code",
   "execution_count": 44,
   "metadata": {},
   "outputs": [
    {
     "data": {
      "text/html": [
       "<div>\n",
       "<style scoped>\n",
       "    .dataframe tbody tr th:only-of-type {\n",
       "        vertical-align: middle;\n",
       "    }\n",
       "\n",
       "    .dataframe tbody tr th {\n",
       "        vertical-align: top;\n",
       "    }\n",
       "\n",
       "    .dataframe thead th {\n",
       "        text-align: right;\n",
       "    }\n",
       "</style>\n",
       "<table border=\"1\" class=\"dataframe\">\n",
       "  <thead>\n",
       "    <tr style=\"text-align: right;\">\n",
       "      <th></th>\n",
       "      <th>Column</th>\n",
       "      <th>Description</th>\n",
       "    </tr>\n",
       "  </thead>\n",
       "  <tbody>\n",
       "    <tr>\n",
       "      <th>0</th>\n",
       "      <td>case_id</td>\n",
       "      <td>Case_ID registered in Hospital</td>\n",
       "    </tr>\n",
       "    <tr>\n",
       "      <th>1</th>\n",
       "      <td>hospital_code</td>\n",
       "      <td>Unique code for the Hospital</td>\n",
       "    </tr>\n",
       "    <tr>\n",
       "      <th>2</th>\n",
       "      <td>hospital_type_code</td>\n",
       "      <td>Unique code for the type of Hospital</td>\n",
       "    </tr>\n",
       "    <tr>\n",
       "      <th>3</th>\n",
       "      <td>city_code_hospital</td>\n",
       "      <td>City Code of the Hospital</td>\n",
       "    </tr>\n",
       "    <tr>\n",
       "      <th>4</th>\n",
       "      <td>hospital_region_code</td>\n",
       "      <td>Region Code of the Hospital</td>\n",
       "    </tr>\n",
       "    <tr>\n",
       "      <th>5</th>\n",
       "      <td>available_extra_rooms_in_hospital</td>\n",
       "      <td>Number of Extra rooms available in the Hospital</td>\n",
       "    </tr>\n",
       "    <tr>\n",
       "      <th>6</th>\n",
       "      <td>department</td>\n",
       "      <td>Department overlooking the case</td>\n",
       "    </tr>\n",
       "    <tr>\n",
       "      <th>7</th>\n",
       "      <td>ward_type</td>\n",
       "      <td>Code for the Ward type</td>\n",
       "    </tr>\n",
       "    <tr>\n",
       "      <th>8</th>\n",
       "      <td>ward_facility_code</td>\n",
       "      <td>Code for the Ward Facility</td>\n",
       "    </tr>\n",
       "    <tr>\n",
       "      <th>9</th>\n",
       "      <td>bed_grade</td>\n",
       "      <td>Condition of Bed in the Ward</td>\n",
       "    </tr>\n",
       "    <tr>\n",
       "      <th>10</th>\n",
       "      <td>patientid</td>\n",
       "      <td>Unique Patient Id</td>\n",
       "    </tr>\n",
       "    <tr>\n",
       "      <th>11</th>\n",
       "      <td>city_code_patient</td>\n",
       "      <td>City Code for the patient</td>\n",
       "    </tr>\n",
       "    <tr>\n",
       "      <th>12</th>\n",
       "      <td>type_of_admission</td>\n",
       "      <td>Admission Type registered by the Hospital</td>\n",
       "    </tr>\n",
       "    <tr>\n",
       "      <th>13</th>\n",
       "      <td>severity_of_illness</td>\n",
       "      <td>Severity of the illness recorded at the time of admission</td>\n",
       "    </tr>\n",
       "    <tr>\n",
       "      <th>14</th>\n",
       "      <td>visitors_with_patient</td>\n",
       "      <td>Number of Visitors with the patient</td>\n",
       "    </tr>\n",
       "    <tr>\n",
       "      <th>15</th>\n",
       "      <td>age</td>\n",
       "      <td>Age of the patient</td>\n",
       "    </tr>\n",
       "    <tr>\n",
       "      <th>16</th>\n",
       "      <td>admission_deposit</td>\n",
       "      <td>Deposit at the Admission Time</td>\n",
       "    </tr>\n",
       "    <tr>\n",
       "      <th>17</th>\n",
       "      <td>stay</td>\n",
       "      <td>Stay Days by the patient</td>\n",
       "    </tr>\n",
       "  </tbody>\n",
       "</table>\n",
       "</div>"
      ],
      "text/plain": [
       "                               Column                                                Description\n",
       "0                             case_id                             Case_ID registered in Hospital\n",
       "1                       hospital_code                               Unique code for the Hospital\n",
       "2                  hospital_type_code                       Unique code for the type of Hospital\n",
       "3                  city_code_hospital                                  City Code of the Hospital\n",
       "4                hospital_region_code                                Region Code of the Hospital\n",
       "5   available_extra_rooms_in_hospital            Number of Extra rooms available in the Hospital\n",
       "6                          department                            Department overlooking the case\n",
       "7                           ward_type                                     Code for the Ward type\n",
       "8                  ward_facility_code                                 Code for the Ward Facility\n",
       "9                           bed_grade                               Condition of Bed in the Ward\n",
       "10                          patientid                                          Unique Patient Id\n",
       "11                  city_code_patient                                  City Code for the patient\n",
       "12                  type_of_admission                  Admission Type registered by the Hospital\n",
       "13                severity_of_illness  Severity of the illness recorded at the time of admission\n",
       "14              visitors_with_patient                        Number of Visitors with the patient\n",
       "15                                age                                         Age of the patient\n",
       "16                  admission_deposit                              Deposit at the Admission Time\n",
       "17                               stay                                   Stay Days by the patient"
      ]
     },
     "execution_count": 44,
     "metadata": {},
     "output_type": "execute_result"
    }
   ],
   "source": [
    "fn.get_descriptions_for_variables(df_description,df_Train.columns)"
   ]
  },
  {
   "cell_type": "code",
   "execution_count": 45,
   "metadata": {},
   "outputs": [
    {
     "data": {
      "text/plain": [
       "Index(['case_id', 'hospital_code', 'hospital_type_code', 'city_code_hospital', 'hospital_region_code', 'available_extra_rooms_in_hospital', 'department', 'ward_type', 'ward_facility_code', 'bed_grade', 'patientid', 'city_code_patient', 'type_of_admission', 'severity_of_illness', 'visitors_with_patient', 'age', 'admission_deposit', 'stay'], dtype='object')"
      ]
     },
     "execution_count": 45,
     "metadata": {},
     "output_type": "execute_result"
    }
   ],
   "source": [
    "df_Train.columns"
   ]
  },
  {
   "cell_type": "markdown",
   "metadata": {},
   "source": [
    "## Plotting"
   ]
  },
  {
   "cell_type": "code",
   "execution_count": 46,
   "metadata": {},
   "outputs": [
    {
     "ename": "NameError",
     "evalue": "name 'importlib' is not defined",
     "output_type": "error",
     "traceback": [
      "\u001b[1;31m---------------------------------------------------------------------------\u001b[0m",
      "\u001b[1;31mNameError\u001b[0m                                 Traceback (most recent call last)",
      "Cell \u001b[1;32mIn[46], line 1\u001b[0m\n\u001b[1;32m----> 1\u001b[0m importlib\u001b[38;5;241m.\u001b[39mreload(fn)\n",
      "\u001b[1;31mNameError\u001b[0m: name 'importlib' is not defined"
     ]
    }
   ],
   "source": [
    "importlib.reload(fn)"
   ]
  },
  {
   "cell_type": "code",
   "execution_count": 47,
   "metadata": {},
   "outputs": [
    {
     "data": {
      "text/html": [
       "<div>\n",
       "<style scoped>\n",
       "    .dataframe tbody tr th:only-of-type {\n",
       "        vertical-align: middle;\n",
       "    }\n",
       "\n",
       "    .dataframe tbody tr th {\n",
       "        vertical-align: top;\n",
       "    }\n",
       "\n",
       "    .dataframe thead th {\n",
       "        text-align: right;\n",
       "    }\n",
       "</style>\n",
       "<table border=\"1\" class=\"dataframe\">\n",
       "  <thead>\n",
       "    <tr style=\"text-align: right;\">\n",
       "      <th></th>\n",
       "      <th>Column</th>\n",
       "      <th>Description</th>\n",
       "    </tr>\n",
       "  </thead>\n",
       "  <tbody>\n",
       "    <tr>\n",
       "      <th>0</th>\n",
       "      <td>hospital_type_code</td>\n",
       "      <td>Unique code for the type of Hospital</td>\n",
       "    </tr>\n",
       "    <tr>\n",
       "      <th>1</th>\n",
       "      <td>hospital_region_code</td>\n",
       "      <td>Region Code of the Hospital</td>\n",
       "    </tr>\n",
       "    <tr>\n",
       "      <th>2</th>\n",
       "      <td>department</td>\n",
       "      <td>Department overlooking the case</td>\n",
       "    </tr>\n",
       "    <tr>\n",
       "      <th>3</th>\n",
       "      <td>ward_type</td>\n",
       "      <td>Code for the Ward type</td>\n",
       "    </tr>\n",
       "    <tr>\n",
       "      <th>4</th>\n",
       "      <td>ward_facility_code</td>\n",
       "      <td>Code for the Ward Facility</td>\n",
       "    </tr>\n",
       "    <tr>\n",
       "      <th>5</th>\n",
       "      <td>type_of_admission</td>\n",
       "      <td>Admission Type registered by the Hospital</td>\n",
       "    </tr>\n",
       "    <tr>\n",
       "      <th>6</th>\n",
       "      <td>severity_of_illness</td>\n",
       "      <td>Severity of the illness recorded at the time of admission</td>\n",
       "    </tr>\n",
       "    <tr>\n",
       "      <th>7</th>\n",
       "      <td>age</td>\n",
       "      <td>Age of the patient</td>\n",
       "    </tr>\n",
       "    <tr>\n",
       "      <th>8</th>\n",
       "      <td>stay</td>\n",
       "      <td>Stay Days by the patient</td>\n",
       "    </tr>\n",
       "  </tbody>\n",
       "</table>\n",
       "</div>"
      ],
      "text/plain": [
       "                 Column                                                Description\n",
       "0    hospital_type_code                       Unique code for the type of Hospital\n",
       "1  hospital_region_code                                Region Code of the Hospital\n",
       "2            department                            Department overlooking the case\n",
       "3             ward_type                                     Code for the Ward type\n",
       "4    ward_facility_code                                 Code for the Ward Facility\n",
       "5     type_of_admission                  Admission Type registered by the Hospital\n",
       "6   severity_of_illness  Severity of the illness recorded at the time of admission\n",
       "7                   age                                         Age of the patient\n",
       "8                  stay                                   Stay Days by the patient"
      ]
     },
     "execution_count": 47,
     "metadata": {},
     "output_type": "execute_result"
    }
   ],
   "source": [
    "fn.get_descriptions_for_variables(df_description,categorical_features)"
   ]
  },
  {
   "cell_type": "code",
   "execution_count": 146,
   "metadata": {},
   "outputs": [
    {
     "data": {
      "image/png": "[encoded data removed]",
      "text/plain": [
       "<Figure size 1200x1000 with 3 Axes>"
      ]
     },
     "metadata": {},
     "output_type": "display_data"
    }
   ],
   "source": [
    "fn.plot_numerical_variables(df_Train,numerical_features)"
   ]
  },
  {
   "cell_type": "code",
   "execution_count": 147,
   "metadata": {},
   "outputs": [
    {
     "data": {
      "text/plain": [
       "<module 'customfunctions' from 'e:\\\\myprojects\\\\mlprojects\\\\Healthcare - Length of Stay\\\\Code\\\\customfunctions.py'>"
      ]
     },
     "execution_count": 147,
     "metadata": {},
     "output_type": "execute_result"
    }
   ],
   "source": [
    "importlib.reload(fn)"
   ]
  },
  {
   "cell_type": "code",
   "execution_count": 148,
   "metadata": {},
   "outputs": [
    {
     "data": {
      "image/png": "[encoded data removed]",
      "text/plain": [
       "<Figure size 750x750 with 9 Axes>"
      ]
     },
     "metadata": {},
     "output_type": "display_data"
    }
   ],
   "source": [
    "fn.create_pairplot(df_Train[numerical_features])"
   ]
  },
  {
   "cell_type": "code",
   "execution_count": 149,
   "metadata": {},
   "outputs": [
    {
     "data": {
      "image/png": "[encoded data removed]",
      "text/plain": [
       "<Figure size 1200x800 with 3 Axes>"
      ]
     },
     "metadata": {},
     "output_type": "display_data"
    }
   ],
   "source": [
    "# Create a boxplot for each numerical column\n",
    "plt.figure(figsize=(12, 8))  # Adjust the figure size if necessary\n",
    "\n",
    "# Loop through numerical columns and create a boxplot for each\n",
    "for i, column in enumerate(numerical_features, 1):\n",
    "    plt.subplot(2, len(numerical_features)//2 + 1, i)  # Adjust the grid size based on the number of columns\n",
    "    sns.boxplot(data=df_Train, x=column)\n",
    "    plt.title(f'Boxplot of {column}')\n",
    "    plt.tight_layout()\n",
    "\n",
    "plt.show()"
   ]
  },
  {
   "cell_type": "code",
   "execution_count": 150,
   "metadata": {},
   "outputs": [
    {
     "data": {
      "text/plain": [
       "<module 'customfunctions' from 'e:\\\\myprojects\\\\mlprojects\\\\Healthcare - Length of Stay\\\\Code\\\\customfunctions.py'>"
      ]
     },
     "execution_count": 150,
     "metadata": {},
     "output_type": "execute_result"
    }
   ],
   "source": [
    "importlib.reload(fn)"
   ]
  },
  {
   "cell_type": "code",
   "execution_count": 151,
   "metadata": {},
   "outputs": [
    {
     "name": "stderr",
     "output_type": "stream",
     "text": [
      "e:\\myprojects\\mlprojects\\Healthcare - Length of Stay\\Code\\customfunctions.py:81: FutureWarning: \n",
      "\n",
      "Passing `palette` without assigning `hue` is deprecated and will be removed in v0.14.0. Assign the `y` variable to `hue` and set `legend=False` for the same effect.\n",
      "\n",
      "  sns.barplot(y=value_counts.index, x=value_counts.values, ax=ax, palette=colors)\n",
      "e:\\myprojects\\mlprojects\\Healthcare - Length of Stay\\Code\\customfunctions.py:81: FutureWarning: \n",
      "\n",
      "Passing `palette` without assigning `hue` is deprecated and will be removed in v0.14.0. Assign the `y` variable to `hue` and set `legend=False` for the same effect.\n",
      "\n",
      "  sns.barplot(y=value_counts.index, x=value_counts.values, ax=ax, palette=colors)\n",
      "e:\\myprojects\\mlprojects\\Healthcare - Length of Stay\\Code\\customfunctions.py:81: FutureWarning: \n",
      "\n",
      "Passing `palette` without assigning `hue` is deprecated and will be removed in v0.14.0. Assign the `y` variable to `hue` and set `legend=False` for the same effect.\n",
      "\n",
      "  sns.barplot(y=value_counts.index, x=value_counts.values, ax=ax, palette=colors)\n",
      "e:\\myprojects\\mlprojects\\Healthcare - Length of Stay\\Code\\customfunctions.py:81: FutureWarning: \n",
      "\n",
      "Passing `palette` without assigning `hue` is deprecated and will be removed in v0.14.0. Assign the `y` variable to `hue` and set `legend=False` for the same effect.\n",
      "\n",
      "  sns.barplot(y=value_counts.index, x=value_counts.values, ax=ax, palette=colors)\n",
      "e:\\myprojects\\mlprojects\\Healthcare - Length of Stay\\Code\\customfunctions.py:81: FutureWarning: \n",
      "\n",
      "Passing `palette` without assigning `hue` is deprecated and will be removed in v0.14.0. Assign the `y` variable to `hue` and set `legend=False` for the same effect.\n",
      "\n",
      "  sns.barplot(y=value_counts.index, x=value_counts.values, ax=ax, palette=colors)\n",
      "e:\\myprojects\\mlprojects\\Healthcare - Length of Stay\\Code\\customfunctions.py:81: FutureWarning: \n",
      "\n",
      "Passing `palette` without assigning `hue` is deprecated and will be removed in v0.14.0. Assign the `y` variable to `hue` and set `legend=False` for the same effect.\n",
      "\n",
      "  sns.barplot(y=value_counts.index, x=value_counts.values, ax=ax, palette=colors)\n"
     ]
    },
    {
     "data": {
      "image/png": "[encoded data removed]",
      "text/plain": [
       "<Figure size 1800x1000 with 6 Axes>"
      ]
     },
     "metadata": {},
     "output_type": "display_data"
    }
   ],
   "source": [
    "plot=['stay', 'severity_of_illness', 'ward_type', 'age', 'department', 'ward_type']\n",
    "\n",
    "fn.plot_categorical_variables(df_Train,plot,orientation=\"horizontal\")"
   ]
  },
  {
   "cell_type": "code",
   "execution_count": 152,
   "metadata": {},
   "outputs": [
    {
     "data": {
      "text/html": [
       "<div>\n",
       "<style scoped>\n",
       "    .dataframe tbody tr th:only-of-type {\n",
       "        vertical-align: middle;\n",
       "    }\n",
       "\n",
       "    .dataframe tbody tr th {\n",
       "        vertical-align: top;\n",
       "    }\n",
       "\n",
       "    .dataframe thead th {\n",
       "        text-align: right;\n",
       "    }\n",
       "</style>\n",
       "<table border=\"1\" class=\"dataframe\">\n",
       "  <thead>\n",
       "    <tr style=\"text-align: right;\">\n",
       "      <th></th>\n",
       "      <th>Column</th>\n",
       "      <th>Description</th>\n",
       "    </tr>\n",
       "  </thead>\n",
       "  <tbody>\n",
       "    <tr>\n",
       "      <th>0</th>\n",
       "      <td>available_extra_rooms_in_hospital</td>\n",
       "      <td>Number of Extra rooms available in the Hospital</td>\n",
       "    </tr>\n",
       "    <tr>\n",
       "      <th>1</th>\n",
       "      <td>visitors_with_patient</td>\n",
       "      <td>Number of Visitors with the patient</td>\n",
       "    </tr>\n",
       "    <tr>\n",
       "      <th>2</th>\n",
       "      <td>admission_deposit</td>\n",
       "      <td>Deposit at the Admission Time</td>\n",
       "    </tr>\n",
       "  </tbody>\n",
       "</table>\n",
       "</div>"
      ],
      "text/plain": [
       "                              Column                                      Description\n",
       "0  available_extra_rooms_in_hospital  Number of Extra rooms available in the Hospital\n",
       "1              visitors_with_patient              Number of Visitors with the patient\n",
       "2                  admission_deposit                    Deposit at the Admission Time"
      ]
     },
     "execution_count": 152,
     "metadata": {},
     "output_type": "execute_result"
    }
   ],
   "source": [
    "fn.get_descriptions_for_variables(df_description,numerical_features)"
   ]
  },
  {
   "cell_type": "code",
   "execution_count": 153,
   "metadata": {},
   "outputs": [
    {
     "data": {
      "text/plain": [
       "<module 'customfunctions' from 'e:\\\\myprojects\\\\mlprojects\\\\Healthcare - Length of Stay\\\\Code\\\\customfunctions.py'>"
      ]
     },
     "execution_count": 153,
     "metadata": {},
     "output_type": "execute_result"
    }
   ],
   "source": [
    "importlib.reload(fn)"
   ]
  },
  {
   "cell_type": "code",
   "execution_count": 154,
   "metadata": {},
   "outputs": [
    {
     "data": {
      "image/png": "[encoded data removed]",
      "text/plain": [
       "<Figure size 1200x500 with 2 Axes>"
      ]
     },
     "metadata": {},
     "output_type": "display_data"
    }
   ],
   "source": [
    "fn.groupby_combined_plots(\n",
    "    data=df_Train,\n",
    "    groupby_combinations=[[\"stay\"]],\n",
    "    agg_columns=[\"admission_deposit\", \"visitors_with_patient\"],\n",
    "    agg_func=\"sum\",\n",
    "    plot_kind=\"bar\",\n",
    "    stacked=False,\n",
    ")\n",
    "\n",
    "\n",
    "\n"
   ]
  },
  {
   "cell_type": "code",
   "execution_count": 155,
   "metadata": {},
   "outputs": [
    {
     "data": {
      "text/plain": [
       "hospital_code                          32\n",
       "hospital_type_code                      7\n",
       "city_code_hospital                     11\n",
       "hospital_region_code                    3\n",
       "available_extra_rooms_in_hospital      18\n",
       "department                              5\n",
       "ward_type                               6\n",
       "ward_facility_code                      6\n",
       "bed_grade                               4\n",
       "city_code_patient                      37\n",
       "type_of_admission                       3\n",
       "severity_of_illness                     3\n",
       "visitors_with_patient                  28\n",
       "age                                    10\n",
       "admission_deposit                    7283\n",
       "stay                                   11\n",
       "dtype: int64"
      ]
     },
     "execution_count": 155,
     "metadata": {},
     "output_type": "execute_result"
    }
   ],
   "source": [
    "df_Train.nunique()"
   ]
  },
  {
   "cell_type": "code",
   "execution_count": 156,
   "metadata": {},
   "outputs": [
    {
     "name": "stderr",
     "output_type": "stream",
     "text": [
      "e:\\myprojects\\mlprojects\\Healthcare - Length of Stay\\Code\\customfunctions.py:202: FutureWarning: The default of observed=False is deprecated and will be changed to True in a future version of pandas. Pass observed=False to retain current behavior or observed=True to adopt the future default and silence this warning.\n",
      "  grouped_data = data.groupby(groupby_columns).size().reset_index(name=\"Count\")\n",
      "e:\\myprojects\\mlprojects\\Healthcare - Length of Stay\\Code\\customfunctions.py:202: FutureWarning: The default of observed=False is deprecated and will be changed to True in a future version of pandas. Pass observed=False to retain current behavior or observed=True to adopt the future default and silence this warning.\n",
      "  grouped_data = data.groupby(groupby_columns).size().reset_index(name=\"Count\")\n"
     ]
    },
    {
     "data": {
      "image/png": "[encoded data removed]",
      "text/plain": [
       "<Figure size 600x2000 with 4 Axes>"
      ]
     },
     "metadata": {},
     "output_type": "display_data"
    }
   ],
   "source": [
    "fn.groupby_combined_plots(\n",
    "    data=df_Train,\n",
    "    groupby_combinations=[['stay', 'age'], ['stay', 'severity_of_illness'], ['stay', 'city_code_hospital'], ['stay', 'city_code_patient']],\n",
    "\n",
    "    agg_columns=None,  \n",
    "    agg_func=\"count\",\n",
    "    plot_kind=\"bar\",\n",
    "    \n",
    "    stacked=True,\n",
    ")\n"
   ]
  },
  {
   "cell_type": "code",
   "execution_count": 157,
   "metadata": {},
   "outputs": [
    {
     "data": {
      "text/plain": [
       "<module 'customfunctions' from 'e:\\\\myprojects\\\\mlprojects\\\\Healthcare - Length of Stay\\\\Code\\\\customfunctions.py'>"
      ]
     },
     "execution_count": 157,
     "metadata": {},
     "output_type": "execute_result"
    }
   ],
   "source": [
    "importlib.reload(fn)"
   ]
  },
  {
   "cell_type": "markdown",
   "metadata": {},
   "source": [
    "Stay and Admission Deposit\n",
    "\n",
    "Stay durations of 21-30 days and 11-20 days have the highest frequencies and the largest admission deposits, indicating that these are the most common stay durations for patients."
   ]
  },
  {
   "cell_type": "markdown",
   "metadata": {},
   "source": [
    "Severity of Illness:\n",
    "\n",
    "Most patients have a moderate severity illness, suggesting the hospitals primarily deals with manageable cases.\n",
    "Cases with extreme severity are the least frequent, indicating a smaller proportion of critical patients."
   ]
  },
  {
   "cell_type": "markdown",
   "metadata": {},
   "source": [
    "Ward Type:\n",
    "\n",
    "Ward Type R is the most utilized, followed by Ward Type Q.\n",
    "\n",
    "Wards like T and U have minimal utilization, possibly indicating specialized or less frequent use."
   ]
  },
  {
   "cell_type": "markdown",
   "metadata": {},
   "source": [
    "Age Distribution:\n",
    "\n",
    "The age group 41-50 and 31-40 are the most common.\n",
    "\n",
    "Younger patients (0-10 years) and very elderly patients (91-100 years) are the least frequent, showing the hospitals caters predominantly to middle-aged patients."
   ]
  },
  {
   "cell_type": "markdown",
   "metadata": {},
   "source": [
    "Department:\n",
    "\n",
    "Gynecology overwhelmingly dominates in patient numbers, indicating a focus on women’s health.\n",
    "Departments like Anesthesia and Radiotherapy also have considerable caseloads, whereas TB & Chest Disease and Surgery handle relatively fewer cases."
   ]
  },
  {
   "cell_type": "markdown",
   "metadata": {},
   "source": [
    "Visitors with Patients:\n",
    "\n",
    "For most stay ranges, the number of visitors generally aligns with the frequency of stays and admission deposits.\n",
    "However, the 51-60 days range shows a unique pattern:\n",
    "Despite having fewer patients and lower admission deposits, this range has a significant number of visitors.\n",
    "This suggests that patients with longer hospital stays tend to attract more visitors, potentially due to the perceived severity of their condition or the emotional concern associated with prolonged hospitalization."
   ]
  },
  {
   "cell_type": "markdown",
   "metadata": {},
   "source": [
    "Age and Severity of Illness\n",
    "\n",
    "Stay durations of 11-20 days and 21-30 days are the most common, primarily driven by patients aged 21-50 years. In contrast, younger patients (0-10 years) and elderly patients (91-100 years) have significantly fewer cases, highlighting a focus on middle-aged patient care during mid-length hospital stays.\n",
    "\n",
    "\n",
    "Most hospital stays involve patients with moderate severity illnesses, particularly for durations of 11-20 days and 21-30 days. Minor severity cases are also common, though less frequent, while extreme severity cases are rare, indicating the hospitals primarily handles manageable conditions with mid-length stays."
   ]
  },
  {
   "cell_type": "code",
   "execution_count": 158,
   "metadata": {},
   "outputs": [
    {
     "data": {
      "text/html": [
       "<div>\n",
       "<style scoped>\n",
       "    .dataframe tbody tr th:only-of-type {\n",
       "        vertical-align: middle;\n",
       "    }\n",
       "\n",
       "    .dataframe tbody tr th {\n",
       "        vertical-align: top;\n",
       "    }\n",
       "\n",
       "    .dataframe thead th {\n",
       "        text-align: right;\n",
       "    }\n",
       "</style>\n",
       "<table border=\"1\" class=\"dataframe\">\n",
       "  <thead>\n",
       "    <tr style=\"text-align: right;\">\n",
       "      <th></th>\n",
       "      <th>Column</th>\n",
       "      <th>Description</th>\n",
       "    </tr>\n",
       "  </thead>\n",
       "  <tbody>\n",
       "    <tr>\n",
       "      <th>0</th>\n",
       "      <td>available_extra_rooms_in_hospital</td>\n",
       "      <td>Number of Extra rooms available in the Hospital</td>\n",
       "    </tr>\n",
       "    <tr>\n",
       "      <th>1</th>\n",
       "      <td>visitors_with_patient</td>\n",
       "      <td>Number of Visitors with the patient</td>\n",
       "    </tr>\n",
       "    <tr>\n",
       "      <th>2</th>\n",
       "      <td>admission_deposit</td>\n",
       "      <td>Deposit at the Admission Time</td>\n",
       "    </tr>\n",
       "  </tbody>\n",
       "</table>\n",
       "</div>"
      ],
      "text/plain": [
       "                              Column                                      Description\n",
       "0  available_extra_rooms_in_hospital  Number of Extra rooms available in the Hospital\n",
       "1              visitors_with_patient              Number of Visitors with the patient\n",
       "2                  admission_deposit                    Deposit at the Admission Time"
      ]
     },
     "execution_count": 158,
     "metadata": {},
     "output_type": "execute_result"
    }
   ],
   "source": [
    "fn.get_descriptions_for_variables(df_description,numerical_features)"
   ]
  },
  {
   "cell_type": "code",
   "execution_count": 159,
   "metadata": {},
   "outputs": [
    {
     "data": {
      "text/html": [
       "<div>\n",
       "<style scoped>\n",
       "    .dataframe tbody tr th:only-of-type {\n",
       "        vertical-align: middle;\n",
       "    }\n",
       "\n",
       "    .dataframe tbody tr th {\n",
       "        vertical-align: top;\n",
       "    }\n",
       "\n",
       "    .dataframe thead th {\n",
       "        text-align: right;\n",
       "    }\n",
       "</style>\n",
       "<table border=\"1\" class=\"dataframe\">\n",
       "  <thead>\n",
       "    <tr style=\"text-align: right;\">\n",
       "      <th></th>\n",
       "      <th>Column</th>\n",
       "      <th>Description</th>\n",
       "    </tr>\n",
       "  </thead>\n",
       "  <tbody>\n",
       "    <tr>\n",
       "      <th>0</th>\n",
       "      <td>hospital_code</td>\n",
       "      <td>Unique code for the Hospital</td>\n",
       "    </tr>\n",
       "    <tr>\n",
       "      <th>1</th>\n",
       "      <td>hospital_type_code</td>\n",
       "      <td>Unique code for the type of Hospital</td>\n",
       "    </tr>\n",
       "    <tr>\n",
       "      <th>2</th>\n",
       "      <td>city_code_hospital</td>\n",
       "      <td>City Code of the Hospital</td>\n",
       "    </tr>\n",
       "    <tr>\n",
       "      <th>3</th>\n",
       "      <td>hospital_region_code</td>\n",
       "      <td>Region Code of the Hospital</td>\n",
       "    </tr>\n",
       "    <tr>\n",
       "      <th>4</th>\n",
       "      <td>department</td>\n",
       "      <td>Department overlooking the case</td>\n",
       "    </tr>\n",
       "    <tr>\n",
       "      <th>5</th>\n",
       "      <td>ward_type</td>\n",
       "      <td>Code for the Ward type</td>\n",
       "    </tr>\n",
       "    <tr>\n",
       "      <th>6</th>\n",
       "      <td>ward_facility_code</td>\n",
       "      <td>Code for the Ward Facility</td>\n",
       "    </tr>\n",
       "    <tr>\n",
       "      <th>7</th>\n",
       "      <td>bed_grade</td>\n",
       "      <td>Condition of Bed in the Ward</td>\n",
       "    </tr>\n",
       "    <tr>\n",
       "      <th>8</th>\n",
       "      <td>city_code_patient</td>\n",
       "      <td>City Code for the patient</td>\n",
       "    </tr>\n",
       "    <tr>\n",
       "      <th>9</th>\n",
       "      <td>type_of_admission</td>\n",
       "      <td>Admission Type registered by the Hospital</td>\n",
       "    </tr>\n",
       "    <tr>\n",
       "      <th>10</th>\n",
       "      <td>severity_of_illness</td>\n",
       "      <td>Severity of the illness recorded at the time of admission</td>\n",
       "    </tr>\n",
       "    <tr>\n",
       "      <th>11</th>\n",
       "      <td>age</td>\n",
       "      <td>Age of the patient</td>\n",
       "    </tr>\n",
       "    <tr>\n",
       "      <th>12</th>\n",
       "      <td>stay</td>\n",
       "      <td>Stay Days by the patient</td>\n",
       "    </tr>\n",
       "  </tbody>\n",
       "</table>\n",
       "</div>"
      ],
      "text/plain": [
       "                  Column                                                Description\n",
       "0          hospital_code                               Unique code for the Hospital\n",
       "1     hospital_type_code                       Unique code for the type of Hospital\n",
       "2     city_code_hospital                                  City Code of the Hospital\n",
       "3   hospital_region_code                                Region Code of the Hospital\n",
       "4             department                            Department overlooking the case\n",
       "5              ward_type                                     Code for the Ward type\n",
       "6     ward_facility_code                                 Code for the Ward Facility\n",
       "7              bed_grade                               Condition of Bed in the Ward\n",
       "8      city_code_patient                                  City Code for the patient\n",
       "9      type_of_admission                  Admission Type registered by the Hospital\n",
       "10   severity_of_illness  Severity of the illness recorded at the time of admission\n",
       "11                   age                                         Age of the patient\n",
       "12                  stay                                   Stay Days by the patient"
      ]
     },
     "execution_count": 159,
     "metadata": {},
     "output_type": "execute_result"
    }
   ],
   "source": [
    "fn.get_descriptions_for_variables(df_description,categorical_features)"
   ]
  },
  {
   "cell_type": "markdown",
   "metadata": {},
   "source": [
    "## Encoding"
   ]
  },
  {
   "cell_type": "code",
   "execution_count": 160,
   "metadata": {},
   "outputs": [],
   "source": [
    "import encoding as en"
   ]
  },
  {
   "cell_type": "code",
   "execution_count": 161,
   "metadata": {},
   "outputs": [
    {
     "data": {
      "text/plain": [
       "<module 'encoding' from 'e:\\\\myprojects\\\\mlprojects\\\\Healthcare - Length of Stay\\\\Code\\\\encoding.py'>"
      ]
     },
     "execution_count": 161,
     "metadata": {},
     "output_type": "execute_result"
    }
   ],
   "source": [
    "importlib.reload(en)"
   ]
  },
  {
   "cell_type": "code",
   "execution_count": 162,
   "metadata": {},
   "outputs": [],
   "source": [
    "df_Train_1 = df_Train.copy()  # Make a copy of df_Train\n",
    "df_Test_1 = df_Test.copy()    # Make a copy of df_Test\n",
    "df_Train_2 = df_Train.copy()  # Make a copy of df_Train\n",
    "df_Test_2 = df_Test.copy()    # Make a copy of df_Test\n"
   ]
  },
  {
   "cell_type": "code",
   "execution_count": 163,
   "metadata": {},
   "outputs": [
    {
     "name": "stdout",
     "output_type": "stream",
     "text": [
      "Encoding data...\n",
      "Ordinal Encoding applied to 'severity_of_illness'\n",
      "Ordinal Encoding applied to 'age'\n",
      "Ordinal Encoding applied to 'type_of_admission'\n",
      "Ordinal Encoding applied to 'stay'\n",
      "One-Hot Encoding applied to: hospital_type_code, city_code_hospital, hospital_region_code, department, ward_type, ward_facility_code, bed_grade\n"
     ]
    }
   ],
   "source": [
    "df_Train_1_encoded = en.encode_data(df_Train_1)\n"
   ]
  },
  {
   "cell_type": "code",
   "execution_count": 164,
   "metadata": {},
   "outputs": [
    {
     "name": "stdout",
     "output_type": "stream",
     "text": [
      "Encoding data...\n",
      "Ordinal Encoding applied to 'severity_of_illness'\n",
      "Ordinal Encoding applied to 'age'\n",
      "Ordinal Encoding applied to 'type_of_admission'\n",
      "One-Hot Encoding applied to: hospital_type_code, city_code_hospital, hospital_region_code, department, ward_type, ward_facility_code, bed_grade\n"
     ]
    }
   ],
   "source": [
    "df_Test_1_encoded = en.encode_data(df_Test_1)"
   ]
  },
  {
   "cell_type": "code",
   "execution_count": 165,
   "metadata": {},
   "outputs": [
    {
     "name": "stdout",
     "output_type": "stream",
     "text": [
      "Simple Target Encoding applied to: city_code_patient based on target 'stay'\n"
     ]
    }
   ],
   "source": [
    "# Simple Target Encoding Example:\n",
    "df_Train_1_encoded, encoding_mapping_1 = en.target_encode(df_Train_1_encoded,'city_code_patient', target_column='stay')\n"
   ]
  },
  {
   "cell_type": "code",
   "execution_count": 166,
   "metadata": {},
   "outputs": [
    {
     "name": "stdout",
     "output_type": "stream",
     "text": [
      "Simple Target Encoding applied to: city_code_patient using pre-learned mapping\n"
     ]
    }
   ],
   "source": [
    "df_Test_1_encoded,_ = en.target_encode(df_Test_1_encoded, column='city_code_patient', encoding_mapping=encoding_mapping_1)\n",
    "\n",
    "\n"
   ]
  },
  {
   "cell_type": "code",
   "execution_count": 167,
   "metadata": {},
   "outputs": [
    {
     "name": "stdout",
     "output_type": "stream",
     "text": [
      "Simple Target Encoding applied to: hospital_code based on target 'stay'\n"
     ]
    }
   ],
   "source": [
    "df_Train_1_encoded, encoding_mapping_1 = en.target_encode(df_Train_1_encoded,'hospital_code' ,target_column='stay')"
   ]
  },
  {
   "cell_type": "code",
   "execution_count": 168,
   "metadata": {},
   "outputs": [
    {
     "name": "stdout",
     "output_type": "stream",
     "text": [
      "Simple Target Encoding applied to: hospital_code using pre-learned mapping\n"
     ]
    }
   ],
   "source": [
    "df_Test_1_encoded,_ = en.target_encode(df_Test_1_encoded, column='hospital_code', encoding_mapping=encoding_mapping_1)"
   ]
  },
  {
   "cell_type": "code",
   "execution_count": 169,
   "metadata": {},
   "outputs": [
    {
     "data": {
      "text/plain": [
       "64"
      ]
     },
     "execution_count": 169,
     "metadata": {},
     "output_type": "execute_result"
    }
   ],
   "source": [
    "len(df_Train_1_encoded.columns)"
   ]
  },
  {
   "cell_type": "code",
   "execution_count": 170,
   "metadata": {},
   "outputs": [
    {
     "data": {
      "text/plain": [
       "16"
      ]
     },
     "execution_count": 170,
     "metadata": {},
     "output_type": "execute_result"
    }
   ],
   "source": [
    "len(df_Train_1.columns)"
   ]
  },
  {
   "cell_type": "code",
   "execution_count": 171,
   "metadata": {},
   "outputs": [
    {
     "data": {
      "text/plain": [
       "15"
      ]
     },
     "execution_count": 171,
     "metadata": {},
     "output_type": "execute_result"
    }
   ],
   "source": [
    "len(df_Test_1.columns)"
   ]
  },
  {
   "cell_type": "code",
   "execution_count": 172,
   "metadata": {},
   "outputs": [
    {
     "data": {
      "text/plain": [
       "63"
      ]
     },
     "execution_count": 172,
     "metadata": {},
     "output_type": "execute_result"
    }
   ],
   "source": [
    "len(df_Test_1_encoded.columns)"
   ]
  },
  {
   "cell_type": "code",
   "execution_count": 173,
   "metadata": {},
   "outputs": [
    {
     "data": {
      "text/plain": [
       "hospital_code                        0\n",
       "hospital_type_code                   0\n",
       "city_code_hospital                   0\n",
       "hospital_region_code                 0\n",
       "available_extra_rooms_in_hospital    0\n",
       "department                           0\n",
       "ward_type                            0\n",
       "ward_facility_code                   0\n",
       "bed_grade                            0\n",
       "city_code_patient                    0\n",
       "type_of_admission                    0\n",
       "severity_of_illness                  0\n",
       "visitors_with_patient                0\n",
       "age                                  0\n",
       "admission_deposit                    0\n",
       "stay                                 0\n",
       "dtype: int64"
      ]
     },
     "execution_count": 173,
     "metadata": {},
     "output_type": "execute_result"
    }
   ],
   "source": [
    "df_Train_1.isnull().sum()"
   ]
  },
  {
   "cell_type": "code",
   "execution_count": 174,
   "metadata": {},
   "outputs": [
    {
     "data": {
      "text/plain": [
       "available_extra_rooms_in_hospital    0\n",
       "type_of_admission                    0\n",
       "severity_of_illness                  0\n",
       "visitors_with_patient                0\n",
       "age                                  0\n",
       "admission_deposit                    0\n",
       "hospital_type_code_b                 0\n",
       "hospital_type_code_c                 0\n",
       "hospital_type_code_d                 0\n",
       "hospital_type_code_e                 0\n",
       "hospital_type_code_f                 0\n",
       "hospital_type_code_g                 0\n",
       "city_code_hospital_2                 0\n",
       "city_code_hospital_3                 0\n",
       "city_code_hospital_4                 0\n",
       "city_code_hospital_5                 0\n",
       "city_code_hospital_6                 0\n",
       "city_code_hospital_7                 0\n",
       "city_code_hospital_9                 0\n",
       "city_code_hospital_10                0\n",
       "city_code_hospital_11                0\n",
       "city_code_hospital_13                0\n",
       "hospital_region_code_Y               0\n",
       "hospital_region_code_Z               0\n",
       "department_anesthesia                0\n",
       "department_gynecology                0\n",
       "department_radiotherapy              0\n",
       "department_surgery                   0\n",
       "ward_type_Q                          0\n",
       "ward_type_R                          0\n",
       "ward_type_S                          0\n",
       "ward_type_T                          0\n",
       "ward_type_U                          0\n",
       "ward_facility_code_B                 0\n",
       "ward_facility_code_C                 0\n",
       "ward_facility_code_D                 0\n",
       "ward_facility_code_E                 0\n",
       "ward_facility_code_F                 0\n",
       "bed_grade_2.0                        0\n",
       "bed_grade_3.0                        0\n",
       "bed_grade_4.0                        0\n",
       "city_code_patient_1_prob             0\n",
       "city_code_patient_2_prob             0\n",
       "city_code_patient_3_prob             0\n",
       "city_code_patient_4_prob             0\n",
       "city_code_patient_5_prob             0\n",
       "city_code_patient_6_prob             0\n",
       "city_code_patient_7_prob             0\n",
       "city_code_patient_8_prob             0\n",
       "city_code_patient_9_prob             0\n",
       "city_code_patient_10_prob            0\n",
       "city_code_patient_11_prob            0\n",
       "hospital_code_1_prob                 0\n",
       "hospital_code_2_prob                 0\n",
       "hospital_code_3_prob                 0\n",
       "hospital_code_4_prob                 0\n",
       "hospital_code_5_prob                 0\n",
       "hospital_code_6_prob                 0\n",
       "hospital_code_7_prob                 0\n",
       "hospital_code_8_prob                 0\n",
       "hospital_code_9_prob                 0\n",
       "hospital_code_10_prob                0\n",
       "hospital_code_11_prob                0\n",
       "dtype: int64"
      ]
     },
     "execution_count": 174,
     "metadata": {},
     "output_type": "execute_result"
    }
   ],
   "source": [
    "df_Test_1_encoded.isnull().sum()"
   ]
  },
  {
   "cell_type": "markdown",
   "metadata": {},
   "source": [
    "## Modelling"
   ]
  },
  {
   "cell_type": "code",
   "execution_count": 175,
   "metadata": {},
   "outputs": [],
   "source": [
    "import sys\n",
    "if 'modeling' in sys.modules:\n",
    "    del sys.modules['modeling']"
   ]
  },
  {
   "cell_type": "code",
   "execution_count": 176,
   "metadata": {},
   "outputs": [],
   "source": [
    "import modeling as m"
   ]
  },
  {
   "cell_type": "code",
   "execution_count": 177,
   "metadata": {},
   "outputs": [],
   "source": [
    "from sklearn.model_selection import train_test_split\n",
    "\n",
    "# Prepare the feature sets (encoded and non-encoded)\n",
    "X_encoded = df_Train_1_encoded.drop(columns=[\"stay\"])  # Drop target column from encoded features\n",
    "X_not_encoded = df_Train_1.drop(columns=[\"stay\"])      # Drop target column from non-encoded features\n",
    "\n",
    "# The target variable remains the same for both encoded and non-encoded datasets\n",
    "y = df_Train_1[\"stay\"]  # Target column\n",
    "\n",
    "\n",
    "# Split the encoded dataset\n",
    "X_train_encoded, X_test_encoded, y_train, y_test = train_test_split(\n",
    "    X_encoded, y, test_size=0.2, random_state=seed, stratify=y\n",
    ")\n",
    "\n",
    "# Split the non-encoded dataset\n",
    "X_train_not_encoded, X_test_not_encoded, _, _ = train_test_split(\n",
    "    X_not_encoded, y, test_size=0.2, random_state=seed, stratify=y\n",
    ")\n"
   ]
  },
  {
   "cell_type": "code",
   "execution_count": 178,
   "metadata": {},
   "outputs": [
    {
     "name": "stdout",
     "output_type": "stream",
     "text": [
      "Do training indices match? True\n",
      "Do testing indices match? True\n",
      "Class distribution in y_train: Counter({3: 69025, 2: 61645, 4: 43435, 6: 27554, 1: 18590, 5: 9233, 8: 8070, 11: 5226, 9: 3807, 10: 2170, 7: 2158})\n",
      "Class distribution in y_test: Counter({3: 17257, 2: 15412, 4: 10859, 6: 6888, 1: 4647, 5: 2308, 8: 2018, 11: 1306, 9: 952, 10: 542, 7: 540})\n"
     ]
    }
   ],
   "source": [
    "# Check if the indices in both splits match\n",
    "train_encoded_indices = X_train_encoded.index\n",
    "train_not_encoded_indices = X_train_not_encoded.index\n",
    "\n",
    "test_encoded_indices = X_test_encoded.index\n",
    "test_not_encoded_indices = X_test_not_encoded.index\n",
    "\n",
    "print(\"Do training indices match?\", train_encoded_indices.equals(train_not_encoded_indices))\n",
    "print(\"Do testing indices match?\", test_encoded_indices.equals(test_not_encoded_indices))\n",
    "\n",
    "# Check class distribution in y_train and y_test\n",
    "from collections import Counter\n",
    "\n",
    "print(\"Class distribution in y_train:\", Counter(y_train))\n",
    "print(\"Class distribution in y_test:\", Counter(y_test))\n"
   ]
  },
  {
   "cell_type": "code",
   "execution_count": 286,
   "metadata": {},
   "outputs": [
    {
     "data": {
      "text/plain": [
       "<module 'modeling' from 'e:\\\\myprojects\\\\mlprojects\\\\Healthcare - Length of Stay\\\\Code\\\\modeling.py'>"
      ]
     },
     "execution_count": 286,
     "metadata": {},
     "output_type": "execute_result"
    }
   ],
   "source": [
    "importlib.reload(m)"
   ]
  },
  {
   "cell_type": "code",
   "execution_count": 287,
   "metadata": {},
   "outputs": [],
   "source": [
    "if isinstance(categorical_features, pd.Index):\n",
    "    categorical_features = categorical_features.tolist()\n",
    "if 'stay' in categorical_features:\n",
    "    categorical_features.remove('stay')\n",
    "    print(\"Removed 'stay' from categorical_columns.\")"
   ]
  },
  {
   "cell_type": "code",
   "execution_count": 288,
   "metadata": {},
   "outputs": [],
   "source": [
    "if isinstance(numerical_features, pd.Index):\n",
    "    numerical_features =numerical_features.tolist()"
   ]
  },
  {
   "cell_type": "code",
   "execution_count": 289,
   "metadata": {},
   "outputs": [
    {
     "name": "stdout",
     "output_type": "stream",
     "text": [
      "System has 28 CPU cores, 15.71 GB of RAM, and No GPU available.\n"
     ]
    }
   ],
   "source": [
    "   \n",
    "cores, memory, gpu_available = m.check_system_resources()    \n",
    "    # Define the models to evaluate\n",
    "models = {\n",
    "        'Random Forest': RandomForestClassifier(n_estimators=100, random_state=42, n_jobs=-1),\n",
    "        'LightGBM': lgb.LGBMClassifier(\n",
    "            n_jobs=-1, \n",
    "            random_state=42, \n",
    "            device='gpu' if m.detect_device(\"LightGBM\", gpu_available) == \"GPU\" else 'cpu',\n",
    "            boosting_type='gbdt',\n",
    "            categorical_feature=categorical_features  # Pass categorical columns\n",
    "        ),\n",
    "        'XGBoost': xgb.XGBClassifier(\n",
    "            use_label_encoder=False,\n",
    "            eval_metric='mlogloss',\n",
    "            n_jobs=-1,\n",
    "            tree_method='gpu_hist' if m.detect_device(\"XGBoost\", gpu_available) == \"GPU\" else 'auto'\n",
    "        ),\n",
    "        'Gradient Boosting': GradientBoostingClassifier(random_state=42),\n",
    "        'CatBoost': CatBoostClassifier(\n",
    "            verbose=0, \n",
    "            random_state=42, \n",
    "            task_type='GPU' if m.detect_device(\"CatBoost\", gpu_available) == \"GPU\" else 'CPU'\n",
    "        ),\n",
    "        'Logistic Regression': OneVsRestClassifier(\n",
    "            LogisticRegression(\n",
    "                solver='saga', max_iter=500, random_state=42, n_jobs=-1\n",
    "            )\n",
    "        ),\n",
    "        'SVM': OneVsRestClassifier(\n",
    "            LinearSVC(random_state=42, max_iter=5000)\n",
    "        ),\n",
    "    }"
   ]
  },
  {
   "cell_type": "code",
   "execution_count": 290,
   "metadata": {},
   "outputs": [
    {
     "data": {
      "text/plain": [
       "63"
      ]
     },
     "execution_count": 290,
     "metadata": {},
     "output_type": "execute_result"
    }
   ],
   "source": [
    "len(X_train_encoded.columns)"
   ]
  },
  {
   "cell_type": "code",
   "execution_count": 291,
   "metadata": {},
   "outputs": [
    {
     "name": "stdout",
     "output_type": "stream",
     "text": [
      "Function model_pipeline loaded successfully.\n",
      "Models defined: ['Random Forest', 'LightGBM', 'XGBoost', 'Gradient Boosting', 'CatBoost', 'Logistic Regression', 'SVM']\n",
      "System has 28 CPU cores, 15.71 GB of RAM, and No GPU available.\n",
      "\n",
      "Starting Random Forest on CPU...\n",
      "Estimated training time for Random Forest: ~15.81 seconds.\n",
      "Actual training time for Random Forest: 14.99 seconds.\n",
      "Finished Random Forest.\n",
      "\n",
      "\n",
      "Starting LightGBM on CPU...\n",
      "Using non-encoded dataset for LightGBM.\n",
      "Estimated training time for LightGBM: ~7.90 seconds.\n"
     ]
    },
    {
     "name": "stderr",
     "output_type": "stream",
     "text": [
      "C:\\Users\\Jermiah Jerome\\AppData\\Roaming\\Python\\Python312\\site-packages\\lightgbm\\basic.py:2118: UserWarning: categorical_feature keyword has been found in `params` and will be ignored.\n",
      "Please use categorical_feature argument of the Dataset constructor to pass this parameter.\n",
      "  _log_warning(\n",
      "C:\\Users\\Jermiah Jerome\\AppData\\Roaming\\Python\\Python312\\site-packages\\lightgbm\\basic.py:2140: UserWarning: categorical_feature in param dict is overridden.\n",
      "  _log_warning(f\"{cat_alias} in param dict is overridden.\")\n"
     ]
    },
    {
     "name": "stdout",
     "output_type": "stream",
     "text": [
      "[LightGBM] [Warning] categorical_feature is set=hospital_code,hospital_type_code,city_code_hospital,hospital_region_code,department,ward_type,ward_facility_code,bed_grade,city_code_patient,type_of_admission,severity_of_illness,age, categorical_column=0,1,2,3,5,6,7,8,9,10,11,13 will be ignored. Current value: categorical_feature=hospital_code,hospital_type_code,city_code_hospital,hospital_region_code,department,ward_type,ward_facility_code,bed_grade,city_code_patient,type_of_admission,severity_of_illness,age\n",
      "[LightGBM] [Info] Auto-choosing row-wise multi-threading, the overhead of testing was 0.003264 seconds.\n",
      "You can set `force_row_wise=true` to remove the overhead.\n",
      "And if memory is not enough, you can set `force_col_wise=true`.\n",
      "[LightGBM] [Info] Total Bins 432\n",
      "[LightGBM] [Info] Number of data points in the train set: 250913, number of used features: 15\n",
      "[LightGBM] [Info] Start training from score -2.602482\n",
      "[LightGBM] [Info] Start training from score -1.403714\n",
      "[LightGBM] [Info] Start training from score -1.290638\n",
      "[LightGBM] [Info] Start training from score -1.753841\n",
      "[LightGBM] [Info] Start training from score -3.302322\n",
      "[LightGBM] [Info] Start training from score -2.208959\n",
      "[LightGBM] [Info] Start training from score -4.755924\n",
      "[LightGBM] [Info] Start training from score -3.436953\n",
      "[LightGBM] [Info] Start training from score -4.188265\n",
      "[LightGBM] [Info] Start training from score -4.750379\n",
      "[LightGBM] [Info] Start training from score -3.871460\n",
      "Actual training time for LightGBM: 6.65 seconds.\n",
      "Finished LightGBM.\n",
      "\n",
      "\n",
      "Starting XGBoost on CPU...\n",
      "Estimated training time for XGBoost: ~15.81 seconds.\n"
     ]
    },
    {
     "name": "stderr",
     "output_type": "stream",
     "text": [
      "C:\\Users\\Jermiah Jerome\\AppData\\Roaming\\Python\\Python312\\site-packages\\xgboost\\core.py:158: UserWarning: [15:53:54] WARNING: C:\\buildkite-agent\\builds\\buildkite-windows-cpu-autoscaling-group-i-0c55ff5f71b100e98-1\\xgboost\\xgboost-ci-windows\\src\\learner.cc:740: \n",
      "Parameters: { \"use_label_encoder\" } are not used.\n",
      "\n",
      "  warnings.warn(smsg, UserWarning)\n"
     ]
    },
    {
     "name": "stdout",
     "output_type": "stream",
     "text": [
      "Actual training time for XGBoost: 13.26 seconds.\n",
      "Finished XGBoost.\n",
      "\n",
      "\n",
      "Starting Gradient Boosting on CPU...\n",
      "Estimated training time for Gradient Boosting: ~31.62 seconds.\n",
      "Actual training time for Gradient Boosting: 1704.54 seconds.\n",
      "Finished Gradient Boosting.\n",
      "\n",
      "\n",
      "Starting CatBoost on CPU...\n",
      "Using non-encoded dataset for CatBoost.\n",
      "Estimated training time for CatBoost: ~15.81 seconds.\n",
      "Actual training time for CatBoost: 5273.04 seconds.\n"
     ]
    },
    {
     "name": "stderr",
     "output_type": "stream",
     "text": [
      "C:\\Users\\Jermiah Jerome\\AppData\\Roaming\\Python\\Python312\\site-packages\\sklearn\\metrics\\_classification.py:1565: UndefinedMetricWarning: Precision is ill-defined and being set to 0.0 in labels with no predicted samples. Use `zero_division` parameter to control this behavior.\n",
      "  _warn_prf(average, modifier, f\"{metric.capitalize()} is\", len(result))\n"
     ]
    },
    {
     "name": "stdout",
     "output_type": "stream",
     "text": [
      "Finished CatBoost.\n",
      "\n",
      "\n",
      "Starting Logistic Regression on CPU...\n",
      "Estimated training time for Logistic Regression: ~0.79 seconds.\n"
     ]
    },
    {
     "name": "stderr",
     "output_type": "stream",
     "text": [
      "C:\\Users\\Jermiah Jerome\\AppData\\Roaming\\Python\\Python312\\site-packages\\sklearn\\linear_model\\_sag.py:348: ConvergenceWarning: The max_iter was reached which means the coef_ did not converge\n",
      "  warnings.warn(\n",
      "C:\\Users\\Jermiah Jerome\\AppData\\Roaming\\Python\\Python312\\site-packages\\sklearn\\linear_model\\_sag.py:348: ConvergenceWarning: The max_iter was reached which means the coef_ did not converge\n",
      "  warnings.warn(\n",
      "C:\\Users\\Jermiah Jerome\\AppData\\Roaming\\Python\\Python312\\site-packages\\sklearn\\linear_model\\_sag.py:348: ConvergenceWarning: The max_iter was reached which means the coef_ did not converge\n",
      "  warnings.warn(\n",
      "C:\\Users\\Jermiah Jerome\\AppData\\Roaming\\Python\\Python312\\site-packages\\sklearn\\linear_model\\_sag.py:348: ConvergenceWarning: The max_iter was reached which means the coef_ did not converge\n",
      "  warnings.warn(\n",
      "C:\\Users\\Jermiah Jerome\\AppData\\Roaming\\Python\\Python312\\site-packages\\sklearn\\linear_model\\_sag.py:348: ConvergenceWarning: The max_iter was reached which means the coef_ did not converge\n",
      "  warnings.warn(\n",
      "C:\\Users\\Jermiah Jerome\\AppData\\Roaming\\Python\\Python312\\site-packages\\sklearn\\linear_model\\_sag.py:348: ConvergenceWarning: The max_iter was reached which means the coef_ did not converge\n",
      "  warnings.warn(\n"
     ]
    },
    {
     "name": "stdout",
     "output_type": "stream",
     "text": [
      "Actual training time for Logistic Regression: 1084.92 seconds.\n"
     ]
    },
    {
     "name": "stderr",
     "output_type": "stream",
     "text": [
      "C:\\Users\\Jermiah Jerome\\AppData\\Roaming\\Python\\Python312\\site-packages\\sklearn\\metrics\\_classification.py:1565: UndefinedMetricWarning: Precision is ill-defined and being set to 0.0 in labels with no predicted samples. Use `zero_division` parameter to control this behavior.\n",
      "  _warn_prf(average, modifier, f\"{metric.capitalize()} is\", len(result))\n",
      "C:\\Users\\Jermiah Jerome\\AppData\\Roaming\\Python\\Python312\\site-packages\\sklearn\\metrics\\_classification.py:1565: UndefinedMetricWarning: Precision is ill-defined and being set to 0.0 in labels with no predicted samples. Use `zero_division` parameter to control this behavior.\n",
      "  _warn_prf(average, modifier, f\"{metric.capitalize()} is\", len(result))\n"
     ]
    },
    {
     "name": "stdout",
     "output_type": "stream",
     "text": [
      "Finished Logistic Regression.\n",
      "\n",
      "\n",
      "Starting SVM on CPU...\n",
      "Estimated training time for SVM: ~158.08 seconds.\n",
      "Actual training time for SVM: 146.31 seconds.\n"
     ]
    },
    {
     "name": "stderr",
     "output_type": "stream",
     "text": [
      "C:\\Users\\Jermiah Jerome\\AppData\\Roaming\\Python\\Python312\\site-packages\\sklearn\\metrics\\_classification.py:1565: UndefinedMetricWarning: Precision is ill-defined and being set to 0.0 in labels with no predicted samples. Use `zero_division` parameter to control this behavior.\n",
      "  _warn_prf(average, modifier, f\"{metric.capitalize()} is\", len(result))\n",
      "C:\\Users\\Jermiah Jerome\\AppData\\Roaming\\Python\\Python312\\site-packages\\sklearn\\metrics\\_classification.py:1565: UndefinedMetricWarning: Precision is ill-defined and being set to 0.0 in labels with no predicted samples. Use `zero_division` parameter to control this behavior.\n",
      "  _warn_prf(average, modifier, f\"{metric.capitalize()} is\", len(result))\n"
     ]
    },
    {
     "name": "stdout",
     "output_type": "stream",
     "text": [
      "Finished SVM.\n",
      "\n"
     ]
    }
   ],
   "source": [
    "# Now pass `models` to your `model_pipeline`\n",
    "results_df, trained_models = m.model_pipeline(\n",
    "    models=models,\n",
    "    X_train_encoded=X_train_encoded,  # Replace with your actual training data\n",
    "    X_test_encoded=X_test_encoded,\n",
    "    X_train_non_encoded=X_train_not_encoded,\n",
    "    X_test_non_encoded=X_test_not_encoded,\n",
    "    y_train=y_train,\n",
    "    y_test=y_test,\n",
    "    numerical_columns=numerical_features,\n",
    "    categorical_columns=categorical_features,\n",
    "    prev_results_df=None  # Or replace with your existing results DataFrame\n",
    ")"
   ]
  },
  {
   "cell_type": "code",
   "execution_count": 292,
   "metadata": {},
   "outputs": [
    {
     "data": {
      "text/html": [
       "<div>\n",
       "<style scoped>\n",
       "    .dataframe tbody tr th:only-of-type {\n",
       "        vertical-align: middle;\n",
       "    }\n",
       "\n",
       "    .dataframe tbody tr th {\n",
       "        vertical-align: top;\n",
       "    }\n",
       "\n",
       "    .dataframe thead th {\n",
       "        text-align: right;\n",
       "    }\n",
       "</style>\n",
       "<table border=\"1\" class=\"dataframe\">\n",
       "  <thead>\n",
       "    <tr style=\"text-align: right;\">\n",
       "      <th></th>\n",
       "      <th>Model</th>\n",
       "      <th>Train Accuracy</th>\n",
       "      <th>Train Precision</th>\n",
       "      <th>Train Recall</th>\n",
       "      <th>Train F1 Score</th>\n",
       "      <th>Test Accuracy</th>\n",
       "      <th>Test Precision</th>\n",
       "      <th>Test Recall</th>\n",
       "      <th>Test F1 Score</th>\n",
       "      <th>Test ROC AUC</th>\n",
       "      <th>Estimated Time (s)</th>\n",
       "      <th>Actual Time (s)</th>\n",
       "    </tr>\n",
       "  </thead>\n",
       "  <tbody>\n",
       "    <tr>\n",
       "      <th>0</th>\n",
       "      <td>Random Forest</td>\n",
       "      <td>0.9996</td>\n",
       "      <td>0.9996</td>\n",
       "      <td>0.9996</td>\n",
       "      <td>0.9996</td>\n",
       "      <td>0.3688</td>\n",
       "      <td>0.3522</td>\n",
       "      <td>0.3688</td>\n",
       "      <td>0.3554</td>\n",
       "      <td>0.7489</td>\n",
       "      <td>15.8075</td>\n",
       "      <td>14.9884</td>\n",
       "    </tr>\n",
       "    <tr>\n",
       "      <th>1</th>\n",
       "      <td>LightGBM</td>\n",
       "      <td>0.4547</td>\n",
       "      <td>0.4828</td>\n",
       "      <td>0.4547</td>\n",
       "      <td>0.4226</td>\n",
       "      <td>0.4269</td>\n",
       "      <td>0.4067</td>\n",
       "      <td>0.4269</td>\n",
       "      <td>0.3914</td>\n",
       "      <td>0.8069</td>\n",
       "      <td>7.9038</td>\n",
       "      <td>6.6490</td>\n",
       "    </tr>\n",
       "    <tr>\n",
       "      <th>2</th>\n",
       "      <td>XGBoost</td>\n",
       "      <td>0.4692</td>\n",
       "      <td>0.5022</td>\n",
       "      <td>0.4692</td>\n",
       "      <td>0.4400</td>\n",
       "      <td>0.4271</td>\n",
       "      <td>0.4136</td>\n",
       "      <td>0.4271</td>\n",
       "      <td>0.3928</td>\n",
       "      <td>0.8079</td>\n",
       "      <td>15.8075</td>\n",
       "      <td>13.2581</td>\n",
       "    </tr>\n",
       "    <tr>\n",
       "      <th>3</th>\n",
       "      <td>Gradient Boosting</td>\n",
       "      <td>0.4204</td>\n",
       "      <td>0.4384</td>\n",
       "      <td>0.4204</td>\n",
       "      <td>0.3790</td>\n",
       "      <td>0.4190</td>\n",
       "      <td>0.4104</td>\n",
       "      <td>0.4190</td>\n",
       "      <td>0.3761</td>\n",
       "      <td>0.7968</td>\n",
       "      <td>31.6150</td>\n",
       "      <td>1704.5416</td>\n",
       "    </tr>\n",
       "    <tr>\n",
       "      <th>4</th>\n",
       "      <td>CatBoost</td>\n",
       "      <td>0.4419</td>\n",
       "      <td>0.4504</td>\n",
       "      <td>0.4419</td>\n",
       "      <td>0.4064</td>\n",
       "      <td>0.4291</td>\n",
       "      <td>0.4106</td>\n",
       "      <td>0.4291</td>\n",
       "      <td>0.3922</td>\n",
       "      <td>0.8132</td>\n",
       "      <td>15.8075</td>\n",
       "      <td>5273.0416</td>\n",
       "    </tr>\n",
       "    <tr>\n",
       "      <th>5</th>\n",
       "      <td>Logistic Regression</td>\n",
       "      <td>0.3847</td>\n",
       "      <td>0.3477</td>\n",
       "      <td>0.3847</td>\n",
       "      <td>0.3318</td>\n",
       "      <td>0.3862</td>\n",
       "      <td>0.3502</td>\n",
       "      <td>0.3862</td>\n",
       "      <td>0.3329</td>\n",
       "      <td>0.7634</td>\n",
       "      <td>0.7904</td>\n",
       "      <td>1084.9159</td>\n",
       "    </tr>\n",
       "    <tr>\n",
       "      <th>6</th>\n",
       "      <td>SVM</td>\n",
       "      <td>0.3749</td>\n",
       "      <td>0.3380</td>\n",
       "      <td>0.3749</td>\n",
       "      <td>0.3080</td>\n",
       "      <td>0.3761</td>\n",
       "      <td>0.3366</td>\n",
       "      <td>0.3761</td>\n",
       "      <td>0.3083</td>\n",
       "      <td>NaN</td>\n",
       "      <td>158.0752</td>\n",
       "      <td>146.3064</td>\n",
       "    </tr>\n",
       "  </tbody>\n",
       "</table>\n",
       "</div>"
      ],
      "text/plain": [
       "                 Model  Train Accuracy  Train Precision  Train Recall  Train F1 Score  Test Accuracy  Test Precision  Test Recall  Test F1 Score  Test ROC AUC  Estimated Time (s)  Actual Time (s)\n",
       "0        Random Forest          0.9996           0.9996        0.9996          0.9996         0.3688          0.3522       0.3688         0.3554        0.7489             15.8075          14.9884\n",
       "1             LightGBM          0.4547           0.4828        0.4547          0.4226         0.4269          0.4067       0.4269         0.3914        0.8069              7.9038           6.6490\n",
       "2              XGBoost          0.4692           0.5022        0.4692          0.4400         0.4271          0.4136       0.4271         0.3928        0.8079             15.8075          13.2581\n",
       "3    Gradient Boosting          0.4204           0.4384        0.4204          0.3790         0.4190          0.4104       0.4190         0.3761        0.7968             31.6150        1704.5416\n",
       "4             CatBoost          0.4419           0.4504        0.4419          0.4064         0.4291          0.4106       0.4291         0.3922        0.8132             15.8075        5273.0416\n",
       "5  Logistic Regression          0.3847           0.3477        0.3847          0.3318         0.3862          0.3502       0.3862         0.3329        0.7634              0.7904        1084.9159\n",
       "6                  SVM          0.3749           0.3380        0.3749          0.3080         0.3761          0.3366       0.3761         0.3083           NaN            158.0752         146.3064"
      ]
     },
     "execution_count": 292,
     "metadata": {},
     "output_type": "execute_result"
    }
   ],
   "source": [
    "# Print final results\n",
    "results_df"
   ]
  },
  {
   "cell_type": "code",
   "execution_count": 293,
   "metadata": {},
   "outputs": [
    {
     "data": {
      "text/plain": [
       "{'Random Forest': RandomForestClassifier(n_jobs=-1, random_state=42),\n",
       " 'LightGBM': LGBMClassifier(categorical_feature=['hospital_code', 'hospital_type_code',\n",
       "                                     'city_code_hospital',\n",
       "                                     'hospital_region_code', 'department',\n",
       "                                     'ward_type', 'ward_facility_code',\n",
       "                                     'bed_grade', 'city_code_patient',\n",
       "                                     'type_of_admission', 'severity_of_illness',\n",
       "                                     'age'],\n",
       "                device='cpu', n_jobs=-1, random_state=42),\n",
       " 'XGBoost': XGBClassifier(base_score=None, booster=None, callbacks=None,\n",
       "               colsample_bylevel=None, colsample_bynode=None,\n",
       "               colsample_bytree=None, device=None, early_stopping_rounds=None,\n",
       "               enable_categorical=False, eval_metric='mlogloss',\n",
       "               feature_types=None, gamma=None, grow_policy=None,\n",
       "               importance_type=None, interaction_constraints=None,\n",
       "               learning_rate=None, max_bin=None, max_cat_threshold=None,\n",
       "               max_cat_to_onehot=None, max_delta_step=None, max_depth=None,\n",
       "               max_leaves=None, min_child_weight=None, missing=nan,\n",
       "               monotone_constraints=None, multi_strategy=None, n_estimators=None,\n",
       "               n_jobs=-1, num_parallel_tree=None, objective='multi:softprob', ...),\n",
       " 'Gradient Boosting': GradientBoostingClassifier(random_state=42),\n",
       " 'CatBoost': <catboost.core.CatBoostClassifier at 0x29c3672e1b0>,\n",
       " 'Logistic Regression': OneVsRestClassifier(estimator=LogisticRegression(max_iter=500, n_jobs=-1,\n",
       "                                                  random_state=42,\n",
       "                                                  solver='saga')),\n",
       " 'SVM': OneVsRestClassifier(estimator=LinearSVC(max_iter=5000, random_state=42))}"
      ]
     },
     "execution_count": 293,
     "metadata": {},
     "output_type": "execute_result"
    }
   ],
   "source": [
    "trained_models"
   ]
  },
  {
   "cell_type": "markdown",
   "metadata": {},
   "source": [
    "## Feature Selection"
   ]
  },
  {
   "cell_type": "code",
   "execution_count": 294,
   "metadata": {},
   "outputs": [],
   "source": [
    "import Featureimportance as ft\n"
   ]
  },
  {
   "cell_type": "code",
   "execution_count": 295,
   "metadata": {},
   "outputs": [
    {
     "data": {
      "text/plain": [
       "<module 'Featureimportance' from 'e:\\\\myprojects\\\\mlprojects\\\\Healthcare - Length of Stay\\\\Code\\\\Featureimportance.py'>"
      ]
     },
     "execution_count": 295,
     "metadata": {},
     "output_type": "execute_result"
    }
   ],
   "source": [
    "importlib.reload(ft)"
   ]
  },
  {
   "cell_type": "code",
   "execution_count": 296,
   "metadata": {},
   "outputs": [
    {
     "name": "stdout",
     "output_type": "stream",
     "text": [
      "Processing feature importance for: Gradient Boosting\n",
      "Processing feature importance for: XGBoost\n",
      "Processing feature importance for: CatBoost\n",
      "Processing feature importance for: LightGBM\n",
      "Encoded DataFrame processed. Total features: 63.\n",
      "Non-Encoded DataFrame processed. Total features: 15.\n"
     ]
    }
   ],
   "source": [
    "selected_trained_models = {\n",
    "        \"Gradient Boosting\": trained_models[\"Gradient Boosting\"],\n",
    "        \"XGBoost\": trained_models[\"XGBoost\"],\n",
    "        \"CatBoost\": trained_models[\"CatBoost\"],\n",
    "        \"LightGBM\": trained_models[\"LightGBM\"]\n",
    "    }\n",
    "\n",
    "encoded_importance_df, non_encoded_importance_df = ft.aggregate_feature_importance(\n",
    "        models=selected_trained_models,\n",
    "        X_train_encoded=X_train_encoded,\n",
    "        X_train_non_encoded=X_train_not_encoded,\n",
    "        selected_models=list(selected_trained_models.keys()))\n"
   ]
  },
  {
   "cell_type": "code",
   "execution_count": 297,
   "metadata": {},
   "outputs": [
    {
     "data": {
      "text/html": [
       "<div>\n",
       "<style scoped>\n",
       "    .dataframe tbody tr th:only-of-type {\n",
       "        vertical-align: middle;\n",
       "    }\n",
       "\n",
       "    .dataframe tbody tr th {\n",
       "        vertical-align: top;\n",
       "    }\n",
       "\n",
       "    .dataframe thead th {\n",
       "        text-align: right;\n",
       "    }\n",
       "</style>\n",
       "<table border=\"1\" class=\"dataframe\">\n",
       "  <thead>\n",
       "    <tr style=\"text-align: right;\">\n",
       "      <th></th>\n",
       "      <th>Feature</th>\n",
       "      <th>Gradient Boosting</th>\n",
       "      <th>XGBoost</th>\n",
       "      <th>Average_Importance</th>\n",
       "    </tr>\n",
       "  </thead>\n",
       "  <tbody>\n",
       "    <tr>\n",
       "      <th>52</th>\n",
       "      <td>visitors_with_patient</td>\n",
       "      <td>0.4991</td>\n",
       "      <td>0.1215</td>\n",
       "      <td>0.3103</td>\n",
       "    </tr>\n",
       "    <tr>\n",
       "      <th>58</th>\n",
       "      <td>ward_type_Q</td>\n",
       "      <td>0.1312</td>\n",
       "      <td>0.1591</td>\n",
       "      <td>0.1452</td>\n",
       "    </tr>\n",
       "    <tr>\n",
       "      <th>60</th>\n",
       "      <td>ward_type_S</td>\n",
       "      <td>0.0316</td>\n",
       "      <td>0.0744</td>\n",
       "      <td>0.0530</td>\n",
       "    </tr>\n",
       "    <tr>\n",
       "      <th>3</th>\n",
       "      <td>bed_grade_2.0</td>\n",
       "      <td>0.0400</td>\n",
       "      <td>0.0386</td>\n",
       "      <td>0.0393</td>\n",
       "    </tr>\n",
       "    <tr>\n",
       "      <th>51</th>\n",
       "      <td>type_of_admission</td>\n",
       "      <td>0.0400</td>\n",
       "      <td>0.0340</td>\n",
       "      <td>0.0370</td>\n",
       "    </tr>\n",
       "    <tr>\n",
       "      <th>34</th>\n",
       "      <td>hospital_code_2_prob</td>\n",
       "      <td>0.0385</td>\n",
       "      <td>0.0327</td>\n",
       "      <td>0.0356</td>\n",
       "    </tr>\n",
       "    <tr>\n",
       "      <th>2</th>\n",
       "      <td>available_extra_rooms_in_hospital</td>\n",
       "      <td>0.0366</td>\n",
       "      <td>0.0144</td>\n",
       "      <td>0.0255</td>\n",
       "    </tr>\n",
       "    <tr>\n",
       "      <th>0</th>\n",
       "      <td>admission_deposit</td>\n",
       "      <td>0.0374</td>\n",
       "      <td>0.0108</td>\n",
       "      <td>0.0241</td>\n",
       "    </tr>\n",
       "    <tr>\n",
       "      <th>50</th>\n",
       "      <td>severity_of_illness</td>\n",
       "      <td>0.0266</td>\n",
       "      <td>0.0189</td>\n",
       "      <td>0.0227</td>\n",
       "    </tr>\n",
       "    <tr>\n",
       "      <th>59</th>\n",
       "      <td>ward_type_R</td>\n",
       "      <td>0.0133</td>\n",
       "      <td>0.0283</td>\n",
       "      <td>0.0208</td>\n",
       "    </tr>\n",
       "    <tr>\n",
       "      <th>37</th>\n",
       "      <td>hospital_code_5_prob</td>\n",
       "      <td>0.0154</td>\n",
       "      <td>0.0243</td>\n",
       "      <td>0.0198</td>\n",
       "    </tr>\n",
       "    <tr>\n",
       "      <th>33</th>\n",
       "      <td>hospital_code_1_prob</td>\n",
       "      <td>0.0079</td>\n",
       "      <td>0.0144</td>\n",
       "      <td>0.0111</td>\n",
       "    </tr>\n",
       "    <tr>\n",
       "      <th>19</th>\n",
       "      <td>city_code_patient_2_prob</td>\n",
       "      <td>0.0070</td>\n",
       "      <td>0.0152</td>\n",
       "      <td>0.0111</td>\n",
       "    </tr>\n",
       "    <tr>\n",
       "      <th>35</th>\n",
       "      <td>hospital_code_3_prob</td>\n",
       "      <td>0.0084</td>\n",
       "      <td>0.0116</td>\n",
       "      <td>0.0100</td>\n",
       "    </tr>\n",
       "    <tr>\n",
       "      <th>17</th>\n",
       "      <td>city_code_patient_11_prob</td>\n",
       "      <td>0.0052</td>\n",
       "      <td>0.0142</td>\n",
       "      <td>0.0097</td>\n",
       "    </tr>\n",
       "    <tr>\n",
       "      <th>1</th>\n",
       "      <td>age</td>\n",
       "      <td>0.0081</td>\n",
       "      <td>0.0082</td>\n",
       "      <td>0.0081</td>\n",
       "    </tr>\n",
       "    <tr>\n",
       "      <th>39</th>\n",
       "      <td>hospital_code_7_prob</td>\n",
       "      <td>0.0046</td>\n",
       "      <td>0.0109</td>\n",
       "      <td>0.0078</td>\n",
       "    </tr>\n",
       "    <tr>\n",
       "      <th>4</th>\n",
       "      <td>bed_grade_3.0</td>\n",
       "      <td>0.0042</td>\n",
       "      <td>0.0112</td>\n",
       "      <td>0.0077</td>\n",
       "    </tr>\n",
       "    <tr>\n",
       "      <th>27</th>\n",
       "      <td>department_anesthesia</td>\n",
       "      <td>0.0034</td>\n",
       "      <td>0.0110</td>\n",
       "      <td>0.0072</td>\n",
       "    </tr>\n",
       "    <tr>\n",
       "      <th>18</th>\n",
       "      <td>city_code_patient_1_prob</td>\n",
       "      <td>0.0033</td>\n",
       "      <td>0.0100</td>\n",
       "      <td>0.0067</td>\n",
       "    </tr>\n",
       "    <tr>\n",
       "      <th>20</th>\n",
       "      <td>city_code_patient_3_prob</td>\n",
       "      <td>0.0042</td>\n",
       "      <td>0.0091</td>\n",
       "      <td>0.0066</td>\n",
       "    </tr>\n",
       "    <tr>\n",
       "      <th>16</th>\n",
       "      <td>city_code_patient_10_prob</td>\n",
       "      <td>0.0024</td>\n",
       "      <td>0.0108</td>\n",
       "      <td>0.0066</td>\n",
       "    </tr>\n",
       "    <tr>\n",
       "      <th>44</th>\n",
       "      <td>hospital_type_code_b</td>\n",
       "      <td>0.0001</td>\n",
       "      <td>0.0131</td>\n",
       "      <td>0.0066</td>\n",
       "    </tr>\n",
       "    <tr>\n",
       "      <th>38</th>\n",
       "      <td>hospital_code_6_prob</td>\n",
       "      <td>0.0037</td>\n",
       "      <td>0.0094</td>\n",
       "      <td>0.0066</td>\n",
       "    </tr>\n",
       "    <tr>\n",
       "      <th>40</th>\n",
       "      <td>hospital_code_8_prob</td>\n",
       "      <td>0.0020</td>\n",
       "      <td>0.0111</td>\n",
       "      <td>0.0065</td>\n",
       "    </tr>\n",
       "    <tr>\n",
       "      <th>22</th>\n",
       "      <td>city_code_patient_5_prob</td>\n",
       "      <td>0.0037</td>\n",
       "      <td>0.0093</td>\n",
       "      <td>0.0065</td>\n",
       "    </tr>\n",
       "    <tr>\n",
       "      <th>5</th>\n",
       "      <td>bed_grade_4.0</td>\n",
       "      <td>0.0022</td>\n",
       "      <td>0.0107</td>\n",
       "      <td>0.0065</td>\n",
       "    </tr>\n",
       "    <tr>\n",
       "      <th>28</th>\n",
       "      <td>department_gynecology</td>\n",
       "      <td>0.0017</td>\n",
       "      <td>0.0111</td>\n",
       "      <td>0.0064</td>\n",
       "    </tr>\n",
       "    <tr>\n",
       "      <th>31</th>\n",
       "      <td>hospital_code_10_prob</td>\n",
       "      <td>0.0023</td>\n",
       "      <td>0.0102</td>\n",
       "      <td>0.0063</td>\n",
       "    </tr>\n",
       "    <tr>\n",
       "      <th>32</th>\n",
       "      <td>hospital_code_11_prob</td>\n",
       "      <td>0.0029</td>\n",
       "      <td>0.0088</td>\n",
       "      <td>0.0059</td>\n",
       "    </tr>\n",
       "    <tr>\n",
       "      <th>14</th>\n",
       "      <td>city_code_hospital_7</td>\n",
       "      <td>0.0002</td>\n",
       "      <td>0.0109</td>\n",
       "      <td>0.0056</td>\n",
       "    </tr>\n",
       "    <tr>\n",
       "      <th>24</th>\n",
       "      <td>city_code_patient_7_prob</td>\n",
       "      <td>0.0015</td>\n",
       "      <td>0.0094</td>\n",
       "      <td>0.0055</td>\n",
       "    </tr>\n",
       "    <tr>\n",
       "      <th>25</th>\n",
       "      <td>city_code_patient_8_prob</td>\n",
       "      <td>0.0014</td>\n",
       "      <td>0.0094</td>\n",
       "      <td>0.0054</td>\n",
       "    </tr>\n",
       "    <tr>\n",
       "      <th>7</th>\n",
       "      <td>city_code_hospital_11</td>\n",
       "      <td>0.0004</td>\n",
       "      <td>0.0103</td>\n",
       "      <td>0.0053</td>\n",
       "    </tr>\n",
       "    <tr>\n",
       "      <th>36</th>\n",
       "      <td>hospital_code_4_prob</td>\n",
       "      <td>0.0022</td>\n",
       "      <td>0.0082</td>\n",
       "      <td>0.0052</td>\n",
       "    </tr>\n",
       "    <tr>\n",
       "      <th>41</th>\n",
       "      <td>hospital_code_9_prob</td>\n",
       "      <td>0.0014</td>\n",
       "      <td>0.0084</td>\n",
       "      <td>0.0049</td>\n",
       "    </tr>\n",
       "    <tr>\n",
       "      <th>42</th>\n",
       "      <td>hospital_region_code_Y</td>\n",
       "      <td>0.0003</td>\n",
       "      <td>0.0095</td>\n",
       "      <td>0.0049</td>\n",
       "    </tr>\n",
       "    <tr>\n",
       "      <th>23</th>\n",
       "      <td>city_code_patient_6_prob</td>\n",
       "      <td>0.0015</td>\n",
       "      <td>0.0079</td>\n",
       "      <td>0.0047</td>\n",
       "    </tr>\n",
       "    <tr>\n",
       "      <th>56</th>\n",
       "      <td>ward_facility_code_E</td>\n",
       "      <td>0.0001</td>\n",
       "      <td>0.0090</td>\n",
       "      <td>0.0045</td>\n",
       "    </tr>\n",
       "    <tr>\n",
       "      <th>9</th>\n",
       "      <td>city_code_hospital_2</td>\n",
       "      <td>0.0001</td>\n",
       "      <td>0.0089</td>\n",
       "      <td>0.0045</td>\n",
       "    </tr>\n",
       "    <tr>\n",
       "      <th>13</th>\n",
       "      <td>city_code_hospital_6</td>\n",
       "      <td>0.0001</td>\n",
       "      <td>0.0087</td>\n",
       "      <td>0.0044</td>\n",
       "    </tr>\n",
       "    <tr>\n",
       "      <th>61</th>\n",
       "      <td>ward_type_T</td>\n",
       "      <td>0.0001</td>\n",
       "      <td>0.0086</td>\n",
       "      <td>0.0043</td>\n",
       "    </tr>\n",
       "    <tr>\n",
       "      <th>43</th>\n",
       "      <td>hospital_region_code_Z</td>\n",
       "      <td>0.0000</td>\n",
       "      <td>0.0085</td>\n",
       "      <td>0.0043</td>\n",
       "    </tr>\n",
       "    <tr>\n",
       "      <th>26</th>\n",
       "      <td>city_code_patient_9_prob</td>\n",
       "      <td>0.0010</td>\n",
       "      <td>0.0075</td>\n",
       "      <td>0.0042</td>\n",
       "    </tr>\n",
       "    <tr>\n",
       "      <th>47</th>\n",
       "      <td>hospital_type_code_e</td>\n",
       "      <td>0.0002</td>\n",
       "      <td>0.0077</td>\n",
       "      <td>0.0040</td>\n",
       "    </tr>\n",
       "    <tr>\n",
       "      <th>21</th>\n",
       "      <td>city_code_patient_4_prob</td>\n",
       "      <td>0.0007</td>\n",
       "      <td>0.0072</td>\n",
       "      <td>0.0039</td>\n",
       "    </tr>\n",
       "    <tr>\n",
       "      <th>57</th>\n",
       "      <td>ward_facility_code_F</td>\n",
       "      <td>0.0001</td>\n",
       "      <td>0.0075</td>\n",
       "      <td>0.0038</td>\n",
       "    </tr>\n",
       "    <tr>\n",
       "      <th>45</th>\n",
       "      <td>hospital_type_code_c</td>\n",
       "      <td>0.0001</td>\n",
       "      <td>0.0072</td>\n",
       "      <td>0.0036</td>\n",
       "    </tr>\n",
       "    <tr>\n",
       "      <th>11</th>\n",
       "      <td>city_code_hospital_4</td>\n",
       "      <td>0.0000</td>\n",
       "      <td>0.0070</td>\n",
       "      <td>0.0035</td>\n",
       "    </tr>\n",
       "    <tr>\n",
       "      <th>12</th>\n",
       "      <td>city_code_hospital_5</td>\n",
       "      <td>0.0000</td>\n",
       "      <td>0.0070</td>\n",
       "      <td>0.0035</td>\n",
       "    </tr>\n",
       "    <tr>\n",
       "      <th>29</th>\n",
       "      <td>department_radiotherapy</td>\n",
       "      <td>0.0003</td>\n",
       "      <td>0.0066</td>\n",
       "      <td>0.0034</td>\n",
       "    </tr>\n",
       "    <tr>\n",
       "      <th>15</th>\n",
       "      <td>city_code_hospital_9</td>\n",
       "      <td>0.0000</td>\n",
       "      <td>0.0068</td>\n",
       "      <td>0.0034</td>\n",
       "    </tr>\n",
       "    <tr>\n",
       "      <th>6</th>\n",
       "      <td>city_code_hospital_10</td>\n",
       "      <td>0.0001</td>\n",
       "      <td>0.0067</td>\n",
       "      <td>0.0034</td>\n",
       "    </tr>\n",
       "    <tr>\n",
       "      <th>49</th>\n",
       "      <td>hospital_type_code_g</td>\n",
       "      <td>0.0000</td>\n",
       "      <td>0.0066</td>\n",
       "      <td>0.0033</td>\n",
       "    </tr>\n",
       "    <tr>\n",
       "      <th>10</th>\n",
       "      <td>city_code_hospital_3</td>\n",
       "      <td>0.0000</td>\n",
       "      <td>0.0066</td>\n",
       "      <td>0.0033</td>\n",
       "    </tr>\n",
       "    <tr>\n",
       "      <th>53</th>\n",
       "      <td>ward_facility_code_B</td>\n",
       "      <td>0.0001</td>\n",
       "      <td>0.0065</td>\n",
       "      <td>0.0033</td>\n",
       "    </tr>\n",
       "    <tr>\n",
       "      <th>46</th>\n",
       "      <td>hospital_type_code_d</td>\n",
       "      <td>0.0001</td>\n",
       "      <td>0.0063</td>\n",
       "      <td>0.0032</td>\n",
       "    </tr>\n",
       "    <tr>\n",
       "      <th>30</th>\n",
       "      <td>department_surgery</td>\n",
       "      <td>0.0001</td>\n",
       "      <td>0.0061</td>\n",
       "      <td>0.0031</td>\n",
       "    </tr>\n",
       "    <tr>\n",
       "      <th>8</th>\n",
       "      <td>city_code_hospital_13</td>\n",
       "      <td>0.0001</td>\n",
       "      <td>0.0060</td>\n",
       "      <td>0.0031</td>\n",
       "    </tr>\n",
       "    <tr>\n",
       "      <th>48</th>\n",
       "      <td>hospital_type_code_f</td>\n",
       "      <td>0.0000</td>\n",
       "      <td>0.0057</td>\n",
       "      <td>0.0029</td>\n",
       "    </tr>\n",
       "    <tr>\n",
       "      <th>54</th>\n",
       "      <td>ward_facility_code_C</td>\n",
       "      <td>0.0006</td>\n",
       "      <td>0.0000</td>\n",
       "      <td>0.0003</td>\n",
       "    </tr>\n",
       "    <tr>\n",
       "      <th>55</th>\n",
       "      <td>ward_facility_code_D</td>\n",
       "      <td>0.0001</td>\n",
       "      <td>0.0000</td>\n",
       "      <td>0.0001</td>\n",
       "    </tr>\n",
       "    <tr>\n",
       "      <th>62</th>\n",
       "      <td>ward_type_U</td>\n",
       "      <td>0.0000</td>\n",
       "      <td>0.0000</td>\n",
       "      <td>0.0000</td>\n",
       "    </tr>\n",
       "  </tbody>\n",
       "</table>\n",
       "</div>"
      ],
      "text/plain": [
       "                              Feature  Gradient Boosting  XGBoost  Average_Importance\n",
       "52              visitors_with_patient             0.4991   0.1215              0.3103\n",
       "58                        ward_type_Q             0.1312   0.1591              0.1452\n",
       "60                        ward_type_S             0.0316   0.0744              0.0530\n",
       "3                       bed_grade_2.0             0.0400   0.0386              0.0393\n",
       "51                  type_of_admission             0.0400   0.0340              0.0370\n",
       "34               hospital_code_2_prob             0.0385   0.0327              0.0356\n",
       "2   available_extra_rooms_in_hospital             0.0366   0.0144              0.0255\n",
       "0                   admission_deposit             0.0374   0.0108              0.0241\n",
       "50                severity_of_illness             0.0266   0.0189              0.0227\n",
       "59                        ward_type_R             0.0133   0.0283              0.0208\n",
       "37               hospital_code_5_prob             0.0154   0.0243              0.0198\n",
       "33               hospital_code_1_prob             0.0079   0.0144              0.0111\n",
       "19           city_code_patient_2_prob             0.0070   0.0152              0.0111\n",
       "35               hospital_code_3_prob             0.0084   0.0116              0.0100\n",
       "17          city_code_patient_11_prob             0.0052   0.0142              0.0097\n",
       "1                                 age             0.0081   0.0082              0.0081\n",
       "39               hospital_code_7_prob             0.0046   0.0109              0.0078\n",
       "4                       bed_grade_3.0             0.0042   0.0112              0.0077\n",
       "27              department_anesthesia             0.0034   0.0110              0.0072\n",
       "18           city_code_patient_1_prob             0.0033   0.0100              0.0067\n",
       "20           city_code_patient_3_prob             0.0042   0.0091              0.0066\n",
       "16          city_code_patient_10_prob             0.0024   0.0108              0.0066\n",
       "44               hospital_type_code_b             0.0001   0.0131              0.0066\n",
       "38               hospital_code_6_prob             0.0037   0.0094              0.0066\n",
       "40               hospital_code_8_prob             0.0020   0.0111              0.0065\n",
       "22           city_code_patient_5_prob             0.0037   0.0093              0.0065\n",
       "5                       bed_grade_4.0             0.0022   0.0107              0.0065\n",
       "28              department_gynecology             0.0017   0.0111              0.0064\n",
       "31              hospital_code_10_prob             0.0023   0.0102              0.0063\n",
       "32              hospital_code_11_prob             0.0029   0.0088              0.0059\n",
       "14               city_code_hospital_7             0.0002   0.0109              0.0056\n",
       "24           city_code_patient_7_prob             0.0015   0.0094              0.0055\n",
       "25           city_code_patient_8_prob             0.0014   0.0094              0.0054\n",
       "7               city_code_hospital_11             0.0004   0.0103              0.0053\n",
       "36               hospital_code_4_prob             0.0022   0.0082              0.0052\n",
       "41               hospital_code_9_prob             0.0014   0.0084              0.0049\n",
       "42             hospital_region_code_Y             0.0003   0.0095              0.0049\n",
       "23           city_code_patient_6_prob             0.0015   0.0079              0.0047\n",
       "56               ward_facility_code_E             0.0001   0.0090              0.0045\n",
       "9                city_code_hospital_2             0.0001   0.0089              0.0045\n",
       "13               city_code_hospital_6             0.0001   0.0087              0.0044\n",
       "61                        ward_type_T             0.0001   0.0086              0.0043\n",
       "43             hospital_region_code_Z             0.0000   0.0085              0.0043\n",
       "26           city_code_patient_9_prob             0.0010   0.0075              0.0042\n",
       "47               hospital_type_code_e             0.0002   0.0077              0.0040\n",
       "21           city_code_patient_4_prob             0.0007   0.0072              0.0039\n",
       "57               ward_facility_code_F             0.0001   0.0075              0.0038\n",
       "45               hospital_type_code_c             0.0001   0.0072              0.0036\n",
       "11               city_code_hospital_4             0.0000   0.0070              0.0035\n",
       "12               city_code_hospital_5             0.0000   0.0070              0.0035\n",
       "29            department_radiotherapy             0.0003   0.0066              0.0034\n",
       "15               city_code_hospital_9             0.0000   0.0068              0.0034\n",
       "6               city_code_hospital_10             0.0001   0.0067              0.0034\n",
       "49               hospital_type_code_g             0.0000   0.0066              0.0033\n",
       "10               city_code_hospital_3             0.0000   0.0066              0.0033\n",
       "53               ward_facility_code_B             0.0001   0.0065              0.0033\n",
       "46               hospital_type_code_d             0.0001   0.0063              0.0032\n",
       "30                 department_surgery             0.0001   0.0061              0.0031\n",
       "8               city_code_hospital_13             0.0001   0.0060              0.0031\n",
       "48               hospital_type_code_f             0.0000   0.0057              0.0029\n",
       "54               ward_facility_code_C             0.0006   0.0000              0.0003\n",
       "55               ward_facility_code_D             0.0001   0.0000              0.0001\n",
       "62                        ward_type_U             0.0000   0.0000              0.0000"
      ]
     },
     "execution_count": 297,
     "metadata": {},
     "output_type": "execute_result"
    }
   ],
   "source": [
    "encoded_importance_df"
   ]
  },
  {
   "cell_type": "code",
   "execution_count": 298,
   "metadata": {},
   "outputs": [
    {
     "data": {
      "text/html": [
       "<div>\n",
       "<style scoped>\n",
       "    .dataframe tbody tr th:only-of-type {\n",
       "        vertical-align: middle;\n",
       "    }\n",
       "\n",
       "    .dataframe tbody tr th {\n",
       "        vertical-align: top;\n",
       "    }\n",
       "\n",
       "    .dataframe thead th {\n",
       "        text-align: right;\n",
       "    }\n",
       "</style>\n",
       "<table border=\"1\" class=\"dataframe\">\n",
       "  <thead>\n",
       "    <tr style=\"text-align: right;\">\n",
       "      <th></th>\n",
       "      <th>Feature</th>\n",
       "      <th>CatBoost</th>\n",
       "      <th>LightGBM</th>\n",
       "      <th>Average_Importance</th>\n",
       "    </tr>\n",
       "  </thead>\n",
       "  <tbody>\n",
       "    <tr>\n",
       "      <th>12</th>\n",
       "      <td>visitors_with_patient</td>\n",
       "      <td>0.2913</td>\n",
       "      <td>0.1167</td>\n",
       "      <td>0.2040</td>\n",
       "    </tr>\n",
       "    <tr>\n",
       "      <th>0</th>\n",
       "      <td>admission_deposit</td>\n",
       "      <td>0.0666</td>\n",
       "      <td>0.2319</td>\n",
       "      <td>0.1493</td>\n",
       "    </tr>\n",
       "    <tr>\n",
       "      <th>7</th>\n",
       "      <td>hospital_code</td>\n",
       "      <td>0.0777</td>\n",
       "      <td>0.1918</td>\n",
       "      <td>0.1347</td>\n",
       "    </tr>\n",
       "    <tr>\n",
       "      <th>5</th>\n",
       "      <td>city_code_patient</td>\n",
       "      <td>0.0742</td>\n",
       "      <td>0.1298</td>\n",
       "      <td>0.1020</td>\n",
       "    </tr>\n",
       "    <tr>\n",
       "      <th>14</th>\n",
       "      <td>ward_type</td>\n",
       "      <td>0.1503</td>\n",
       "      <td>0.0372</td>\n",
       "      <td>0.0938</td>\n",
       "    </tr>\n",
       "    <tr>\n",
       "      <th>2</th>\n",
       "      <td>available_extra_rooms_in_hospital</td>\n",
       "      <td>0.0363</td>\n",
       "      <td>0.0694</td>\n",
       "      <td>0.0528</td>\n",
       "    </tr>\n",
       "    <tr>\n",
       "      <th>1</th>\n",
       "      <td>age</td>\n",
       "      <td>0.0472</td>\n",
       "      <td>0.0545</td>\n",
       "      <td>0.0509</td>\n",
       "    </tr>\n",
       "    <tr>\n",
       "      <th>11</th>\n",
       "      <td>type_of_admission</td>\n",
       "      <td>0.0497</td>\n",
       "      <td>0.0485</td>\n",
       "      <td>0.0491</td>\n",
       "    </tr>\n",
       "    <tr>\n",
       "      <th>10</th>\n",
       "      <td>severity_of_illness</td>\n",
       "      <td>0.0326</td>\n",
       "      <td>0.0498</td>\n",
       "      <td>0.0412</td>\n",
       "    </tr>\n",
       "    <tr>\n",
       "      <th>3</th>\n",
       "      <td>bed_grade</td>\n",
       "      <td>0.0535</td>\n",
       "      <td>0.0236</td>\n",
       "      <td>0.0385</td>\n",
       "    </tr>\n",
       "    <tr>\n",
       "      <th>6</th>\n",
       "      <td>department</td>\n",
       "      <td>0.0327</td>\n",
       "      <td>0.0201</td>\n",
       "      <td>0.0264</td>\n",
       "    </tr>\n",
       "    <tr>\n",
       "      <th>8</th>\n",
       "      <td>hospital_region_code</td>\n",
       "      <td>0.0130</td>\n",
       "      <td>0.0250</td>\n",
       "      <td>0.0190</td>\n",
       "    </tr>\n",
       "    <tr>\n",
       "      <th>13</th>\n",
       "      <td>ward_facility_code</td>\n",
       "      <td>0.0308</td>\n",
       "      <td>0.0001</td>\n",
       "      <td>0.0154</td>\n",
       "    </tr>\n",
       "    <tr>\n",
       "      <th>4</th>\n",
       "      <td>city_code_hospital</td>\n",
       "      <td>0.0242</td>\n",
       "      <td>0.0015</td>\n",
       "      <td>0.0129</td>\n",
       "    </tr>\n",
       "    <tr>\n",
       "      <th>9</th>\n",
       "      <td>hospital_type_code</td>\n",
       "      <td>0.0200</td>\n",
       "      <td>0.0002</td>\n",
       "      <td>0.0101</td>\n",
       "    </tr>\n",
       "  </tbody>\n",
       "</table>\n",
       "</div>"
      ],
      "text/plain": [
       "                              Feature  CatBoost  LightGBM  Average_Importance\n",
       "12              visitors_with_patient    0.2913    0.1167              0.2040\n",
       "0                   admission_deposit    0.0666    0.2319              0.1493\n",
       "7                       hospital_code    0.0777    0.1918              0.1347\n",
       "5                   city_code_patient    0.0742    0.1298              0.1020\n",
       "14                          ward_type    0.1503    0.0372              0.0938\n",
       "2   available_extra_rooms_in_hospital    0.0363    0.0694              0.0528\n",
       "1                                 age    0.0472    0.0545              0.0509\n",
       "11                  type_of_admission    0.0497    0.0485              0.0491\n",
       "10                severity_of_illness    0.0326    0.0498              0.0412\n",
       "3                           bed_grade    0.0535    0.0236              0.0385\n",
       "6                          department    0.0327    0.0201              0.0264\n",
       "8                hospital_region_code    0.0130    0.0250              0.0190\n",
       "13                 ward_facility_code    0.0308    0.0001              0.0154\n",
       "4                  city_code_hospital    0.0242    0.0015              0.0129\n",
       "9                  hospital_type_code    0.0200    0.0002              0.0101"
      ]
     },
     "execution_count": 298,
     "metadata": {},
     "output_type": "execute_result"
    }
   ],
   "source": [
    "non_encoded_importance_df"
   ]
  },
  {
   "cell_type": "code",
   "execution_count": 299,
   "metadata": {},
   "outputs": [
    {
     "name": "stdout",
     "output_type": "stream",
     "text": [
      "Selected features for Gradient Boosting: ['visitors_with_patient', 'ward_type_Q', 'ward_type_S', 'bed_grade_2.0', 'type_of_admission', 'hospital_code_2_prob', 'available_extra_rooms_in_hospital', 'admission_deposit', 'severity_of_illness', 'ward_type_R', 'hospital_code_5_prob']\n",
      "Selected features for XGBoost: ['visitors_with_patient', 'ward_type_Q', 'ward_type_S', 'bed_grade_2.0', 'type_of_admission', 'hospital_code_2_prob', 'available_extra_rooms_in_hospital', 'admission_deposit', 'severity_of_illness', 'ward_type_R', 'hospital_code_5_prob', 'hospital_code_1_prob', 'city_code_patient_2_prob', 'hospital_code_3_prob', 'city_code_patient_11_prob', 'hospital_code_7_prob', 'bed_grade_3.0', 'department_anesthesia', 'city_code_patient_1_prob', 'city_code_patient_10_prob', 'hospital_type_code_b', 'hospital_code_8_prob', 'bed_grade_4.0', 'department_gynecology', 'hospital_code_10_prob', 'city_code_hospital_7', 'city_code_hospital_11']\n",
      "Selected features for CatBoost: ['visitors_with_patient', 'admission_deposit', 'hospital_code', 'city_code_patient', 'ward_type', 'available_extra_rooms_in_hospital', 'age', 'type_of_admission', 'severity_of_illness', 'bed_grade', 'department', 'hospital_region_code', 'ward_facility_code', 'city_code_hospital', 'hospital_type_code']\n",
      "Selected features for LightGBM: ['visitors_with_patient', 'admission_deposit', 'hospital_code', 'city_code_patient', 'ward_type', 'available_extra_rooms_in_hospital', 'age', 'type_of_admission', 'severity_of_illness', 'bed_grade', 'department', 'hospital_region_code']\n"
     ]
    }
   ],
   "source": [
    "# Extract features for Gradient Boosting and XGBoost with threshold >= 0.01\n",
    "gb_features = encoded_importance_df.loc[\n",
    "    encoded_importance_df[\"Gradient Boosting\"] >= 0.01, \"Feature\"\n",
    "].tolist()\n",
    "\n",
    "xgb_features = encoded_importance_df.loc[\n",
    "    encoded_importance_df[\"XGBoost\"] >= 0.01, \"Feature\"\n",
    "].tolist()\n",
    "\n",
    "# Extract features for CatBoost and LightGBM with threshold >= 0.01\n",
    "catboost_features = non_encoded_importance_df.loc[\n",
    "    non_encoded_importance_df[\"CatBoost\"] >= 0.01, \"Feature\"\n",
    "].tolist()\n",
    "\n",
    "lightgbm_features = non_encoded_importance_df.loc[\n",
    "    non_encoded_importance_df[\"LightGBM\"] >= 0.01, \"Feature\"\n",
    "].tolist()\n",
    "\n",
    "# Display the selected features\n",
    "print(\"Selected features for Gradient Boosting:\", gb_features)\n",
    "print(\"Selected features for XGBoost:\", xgb_features)\n",
    "print(\"Selected features for CatBoost:\", catboost_features)\n",
    "print(\"Selected features for LightGBM:\", lightgbm_features)\n"
   ]
  },
  {
   "cell_type": "markdown",
   "metadata": {},
   "source": [
    "### Retraining"
   ]
  },
  {
   "cell_type": "code",
   "execution_count": 300,
   "metadata": {},
   "outputs": [
    {
     "data": {
      "text/plain": [
       "<module 'modeling' from 'e:\\\\myprojects\\\\mlprojects\\\\Healthcare - Length of Stay\\\\Code\\\\modeling.py'>"
      ]
     },
     "execution_count": 300,
     "metadata": {},
     "output_type": "execute_result"
    }
   ],
   "source": [
    "importlib.reload(m)"
   ]
  },
  {
   "cell_type": "code",
   "execution_count": 301,
   "metadata": {},
   "outputs": [],
   "source": [
    "selected_models = {\n",
    "    \"Gradient Boosting\": models[\"Gradient Boosting\"],\n",
    "    \"XGBoost\": models[\"XGBoost\"],\n",
    "    \"CatBoost\": models[\"CatBoost\"],\n",
    "    \"LightGBM\": models[\"LightGBM\"],\n",
    "}\n",
    "\n",
    "# Define feature sets for each model using the extracted features\n",
    "feature_sets = {\n",
    "    \"Gradient Boosting\": gb_features,\n",
    "    \"XGBoost\": xgb_features,\n",
    "    \"CatBoost\": catboost_features,\n",
    "    \"LightGBM\": lightgbm_features\n",
    "}"
   ]
  },
  {
   "cell_type": "code",
   "execution_count": null,
   "metadata": {},
   "outputs": [],
   "source": []
  },
  {
   "cell_type": "code",
   "execution_count": 309,
   "metadata": {},
   "outputs": [
    {
     "name": "stdout",
     "output_type": "stream",
     "text": [
      "\n",
      "Training and evaluating Gradient Boosting with selected features...\n",
      "Function model_pipeline loaded successfully.\n",
      "Models defined: ['Gradient Boosting']\n",
      "System has 28 CPU cores, 15.71 GB of RAM, and No GPU available.\n",
      "\n",
      "Starting Gradient Boosting on CPU...\n",
      "Estimated training time for Gradient Boosting: ~5.52 seconds.\n",
      "Actual training time for Gradient Boosting: 248.39 seconds.\n",
      "Finished Gradient Boosting.\n",
      "\n",
      "\n",
      "Training and evaluating XGBoost with selected features...\n",
      "Function model_pipeline loaded successfully.\n",
      "Models defined: ['XGBoost']\n",
      "System has 28 CPU cores, 15.71 GB of RAM, and No GPU available.\n",
      "\n",
      "Starting XGBoost on CPU...\n",
      "Estimated training time for XGBoost: ~6.77 seconds.\n"
     ]
    },
    {
     "name": "stderr",
     "output_type": "stream",
     "text": [
      "C:\\Users\\Jermiah Jerome\\AppData\\Roaming\\Python\\Python312\\site-packages\\xgboost\\core.py:158: UserWarning: [18:51:02] WARNING: C:\\buildkite-agent\\builds\\buildkite-windows-cpu-autoscaling-group-i-0c55ff5f71b100e98-1\\xgboost\\xgboost-ci-windows\\src\\learner.cc:740: \n",
      "Parameters: { \"use_label_encoder\" } are not used.\n",
      "\n",
      "  warnings.warn(smsg, UserWarning)\n"
     ]
    },
    {
     "name": "stdout",
     "output_type": "stream",
     "text": [
      "Actual training time for XGBoost: 10.50 seconds.\n",
      "Finished XGBoost.\n",
      "\n",
      "\n",
      "Training and evaluating CatBoost with selected features...\n",
      "Function model_pipeline loaded successfully.\n",
      "Models defined: ['CatBoost']\n",
      "System has 28 CPU cores, 15.71 GB of RAM, and No GPU available.\n",
      "\n",
      "Starting CatBoost on CPU...\n",
      "Using non-encoded dataset for CatBoost.\n",
      "Estimated training time for CatBoost: ~15.81 seconds.\n",
      "Actual training time for CatBoost: 6928.17 seconds.\n"
     ]
    },
    {
     "name": "stderr",
     "output_type": "stream",
     "text": [
      "C:\\Users\\Jermiah Jerome\\AppData\\Roaming\\Python\\Python312\\site-packages\\sklearn\\metrics\\_classification.py:1565: UndefinedMetricWarning: Precision is ill-defined and being set to 0.0 in labels with no predicted samples. Use `zero_division` parameter to control this behavior.\n",
      "  _warn_prf(average, modifier, f\"{metric.capitalize()} is\", len(result))\n"
     ]
    },
    {
     "name": "stdout",
     "output_type": "stream",
     "text": [
      "Finished CatBoost.\n",
      "\n",
      "\n",
      "Training and evaluating LightGBM with selected features...\n",
      "Function model_pipeline loaded successfully.\n",
      "Models defined: ['LightGBM']\n",
      "System has 28 CPU cores, 15.71 GB of RAM, and No GPU available.\n",
      "\n",
      "Starting LightGBM on CPU...\n",
      "Using non-encoded dataset for LightGBM.\n",
      "Estimated training time for LightGBM: ~7.90 seconds.\n"
     ]
    },
    {
     "name": "stderr",
     "output_type": "stream",
     "text": [
      "C:\\Users\\Jermiah Jerome\\AppData\\Roaming\\Python\\Python312\\site-packages\\lightgbm\\basic.py:2118: UserWarning: categorical_feature keyword has been found in `params` and will be ignored.\n",
      "Please use categorical_feature argument of the Dataset constructor to pass this parameter.\n",
      "  _log_warning(\n",
      "C:\\Users\\Jermiah Jerome\\AppData\\Roaming\\Python\\Python312\\site-packages\\lightgbm\\basic.py:2140: UserWarning: categorical_feature in param dict is overridden.\n",
      "  _log_warning(f\"{cat_alias} in param dict is overridden.\")\n"
     ]
    },
    {
     "name": "stdout",
     "output_type": "stream",
     "text": [
      "[LightGBM] [Warning] categorical_feature is set=hospital_code,hospital_type_code,city_code_hospital,hospital_region_code,department,ward_type,ward_facility_code,bed_grade,city_code_patient,type_of_admission,severity_of_illness,age, categorical_column=2,3,4,6,7,8,9,10,11 will be ignored. Current value: categorical_feature=hospital_code,hospital_type_code,city_code_hospital,hospital_region_code,department,ward_type,ward_facility_code,bed_grade,city_code_patient,type_of_admission,severity_of_illness,age\n",
      "[LightGBM] [Info] Auto-choosing row-wise multi-threading, the overhead of testing was 0.008286 seconds.\n",
      "You can set `force_row_wise=true` to remove the overhead.\n",
      "And if memory is not enough, you can set `force_col_wise=true`.\n",
      "[LightGBM] [Info] Total Bins 405\n",
      "[LightGBM] [Info] Number of data points in the train set: 250913, number of used features: 12\n",
      "[LightGBM] [Info] Start training from score -2.602482\n",
      "[LightGBM] [Info] Start training from score -1.403714\n",
      "[LightGBM] [Info] Start training from score -1.290638\n",
      "[LightGBM] [Info] Start training from score -1.753841\n",
      "[LightGBM] [Info] Start training from score -3.302322\n",
      "[LightGBM] [Info] Start training from score -2.208959\n",
      "[LightGBM] [Info] Start training from score -4.755924\n",
      "[LightGBM] [Info] Start training from score -3.436953\n",
      "[LightGBM] [Info] Start training from score -4.188265\n",
      "[LightGBM] [Info] Start training from score -4.750379\n",
      "[LightGBM] [Info] Start training from score -3.871460\n",
      "Actual training time for LightGBM: 4.49 seconds.\n",
      "Finished LightGBM.\n",
      "\n"
     ]
    }
   ],
   "source": [
    "# Initialize dictionaries to store retrained models and results\n",
    "retrained_models = {}\n",
    "all_results = []\n",
    "\n",
    "# Loop through each selected model and its respective features\n",
    "for model_name, model in selected_models.items():\n",
    "    print(f\"\\nTraining and evaluating {model_name} with selected features...\")\n",
    "\n",
    "    # Get the feature subset for the current model\n",
    "    selected_features = feature_sets[model_name]\n",
    "\n",
    "    # Initialize filtered datasets\n",
    "    X_train_encoded_filtered, X_test_encoded_filtered = X_train_encoded.copy(), X_test_encoded.copy()\n",
    "    X_train_not_encoded_filtered, X_test_not_encoded_filtered = X_train_not_encoded.copy(), X_test_not_encoded.copy()\n",
    "\n",
    "    # Dynamically filter numerical and categorical columns\n",
    "    filtered_categorical_columns = [col for col in categorical_features if col in selected_features]\n",
    "    filtered_numerical_columns = [col for col in numerical_features if col in selected_features]\n",
    "\n",
    "    if model_name in [\"LightGBM\", \"CatBoost\"]:\n",
    "        # Use non-encoded data for LightGBM and CatBoost\n",
    "        X_train_not_encoded_filtered = X_train_not_encoded_filtered[selected_features]\n",
    "        X_test_not_encoded_filtered = X_test_not_encoded_filtered[selected_features]\n",
    "    else:\n",
    "        # Use encoded data for other models\n",
    "        X_train_encoded_filtered = X_train_encoded_filtered[selected_features]\n",
    "        X_test_encoded_filtered = X_test_encoded_filtered[selected_features]\n",
    "\n",
    "    # Call model_pipeline to train and evaluate the model\n",
    "    results_df_retrained, re_trained_models = m.model_pipeline(\n",
    "        models={model_name: model},  # Pass only the current model\n",
    "        X_train_encoded=X_train_encoded_filtered,\n",
    "        X_test_encoded=X_test_encoded_filtered,\n",
    "        X_train_non_encoded=X_train_not_encoded_filtered,\n",
    "        X_test_non_encoded=X_test_not_encoded_filtered,\n",
    "        y_train=y_train,\n",
    "        y_test=y_test,\n",
    "        numerical_columns=filtered_numerical_columns,\n",
    "        categorical_columns=filtered_categorical_columns if model_name in [\"LightGBM\", \"CatBoost\"] else [],\n",
    "        prev_results_df=None  # No previous results for individual runs\n",
    "    )\n",
    "\n",
    "    # Store the results and trained models\n",
    "    all_results.append(results_df_retrained)\n",
    "    retrained_models.update(re_trained_models)  # Add the trained model to the dictionary\n",
    "\n",
    "# Combine all results into a single DataFrame for comparison\n",
    "retrained_results = pd.concat(all_results, axis=0, ignore_index=True)\n",
    "\n",
    "\n"
   ]
  },
  {
   "cell_type": "code",
   "execution_count": 310,
   "metadata": {},
   "outputs": [
    {
     "name": "stdout",
     "output_type": "stream",
     "text": [
      "\n",
      "Final Training and Evaluation Results:\n"
     ]
    },
    {
     "data": {
      "text/html": [
       "<div>\n",
       "<style scoped>\n",
       "    .dataframe tbody tr th:only-of-type {\n",
       "        vertical-align: middle;\n",
       "    }\n",
       "\n",
       "    .dataframe tbody tr th {\n",
       "        vertical-align: top;\n",
       "    }\n",
       "\n",
       "    .dataframe thead th {\n",
       "        text-align: right;\n",
       "    }\n",
       "</style>\n",
       "<table border=\"1\" class=\"dataframe\">\n",
       "  <thead>\n",
       "    <tr style=\"text-align: right;\">\n",
       "      <th></th>\n",
       "      <th>Model</th>\n",
       "      <th>Train Accuracy</th>\n",
       "      <th>Train Precision</th>\n",
       "      <th>Train Recall</th>\n",
       "      <th>Train F1 Score</th>\n",
       "      <th>Test Accuracy</th>\n",
       "      <th>Test Precision</th>\n",
       "      <th>Test Recall</th>\n",
       "      <th>Test F1 Score</th>\n",
       "      <th>Test ROC AUC</th>\n",
       "      <th>Estimated Time (s)</th>\n",
       "      <th>Actual Time (s)</th>\n",
       "    </tr>\n",
       "  </thead>\n",
       "  <tbody>\n",
       "    <tr>\n",
       "      <th>0</th>\n",
       "      <td>Gradient Boosting</td>\n",
       "      <td>0.4117</td>\n",
       "      <td>0.4304</td>\n",
       "      <td>0.4117</td>\n",
       "      <td>0.3700</td>\n",
       "      <td>0.4089</td>\n",
       "      <td>0.3859</td>\n",
       "      <td>0.4089</td>\n",
       "      <td>0.3659</td>\n",
       "      <td>0.7880</td>\n",
       "      <td>5.5201</td>\n",
       "      <td>248.3872</td>\n",
       "    </tr>\n",
       "    <tr>\n",
       "      <th>1</th>\n",
       "      <td>XGBoost</td>\n",
       "      <td>0.4622</td>\n",
       "      <td>0.4933</td>\n",
       "      <td>0.4622</td>\n",
       "      <td>0.4321</td>\n",
       "      <td>0.4262</td>\n",
       "      <td>0.4079</td>\n",
       "      <td>0.4262</td>\n",
       "      <td>0.3915</td>\n",
       "      <td>0.8055</td>\n",
       "      <td>6.7747</td>\n",
       "      <td>10.5022</td>\n",
       "    </tr>\n",
       "    <tr>\n",
       "      <th>2</th>\n",
       "      <td>CatBoost</td>\n",
       "      <td>0.4421</td>\n",
       "      <td>0.4495</td>\n",
       "      <td>0.4421</td>\n",
       "      <td>0.4067</td>\n",
       "      <td>0.4297</td>\n",
       "      <td>0.4079</td>\n",
       "      <td>0.4297</td>\n",
       "      <td>0.3927</td>\n",
       "      <td>0.8125</td>\n",
       "      <td>15.8075</td>\n",
       "      <td>6928.1725</td>\n",
       "    </tr>\n",
       "    <tr>\n",
       "      <th>3</th>\n",
       "      <td>LightGBM</td>\n",
       "      <td>0.4539</td>\n",
       "      <td>0.4827</td>\n",
       "      <td>0.4539</td>\n",
       "      <td>0.4217</td>\n",
       "      <td>0.4266</td>\n",
       "      <td>0.4085</td>\n",
       "      <td>0.4266</td>\n",
       "      <td>0.3913</td>\n",
       "      <td>0.8067</td>\n",
       "      <td>7.9038</td>\n",
       "      <td>4.4884</td>\n",
       "    </tr>\n",
       "  </tbody>\n",
       "</table>\n",
       "</div>"
      ],
      "text/plain": [
       "               Model  Train Accuracy  Train Precision  Train Recall  Train F1 Score  Test Accuracy  Test Precision  Test Recall  Test F1 Score  Test ROC AUC  Estimated Time (s)  Actual Time (s)\n",
       "0  Gradient Boosting          0.4117           0.4304        0.4117          0.3700         0.4089          0.3859       0.4089         0.3659        0.7880              5.5201         248.3872\n",
       "1            XGBoost          0.4622           0.4933        0.4622          0.4321         0.4262          0.4079       0.4262         0.3915        0.8055              6.7747          10.5022\n",
       "2           CatBoost          0.4421           0.4495        0.4421          0.4067         0.4297          0.4079       0.4297         0.3927        0.8125             15.8075        6928.1725\n",
       "3           LightGBM          0.4539           0.4827        0.4539          0.4217         0.4266          0.4085       0.4266         0.3913        0.8067              7.9038           4.4884"
      ]
     },
     "execution_count": 310,
     "metadata": {},
     "output_type": "execute_result"
    }
   ],
   "source": [
    "# Display the final results\n",
    "print(\"\\nFinal Training and Evaluation Results:\")\n",
    "retrained_results"
   ]
  },
  {
   "cell_type": "code",
   "execution_count": 311,
   "metadata": {},
   "outputs": [
    {
     "data": {
      "text/html": [
       "<div>\n",
       "<style scoped>\n",
       "    .dataframe tbody tr th:only-of-type {\n",
       "        vertical-align: middle;\n",
       "    }\n",
       "\n",
       "    .dataframe tbody tr th {\n",
       "        vertical-align: top;\n",
       "    }\n",
       "\n",
       "    .dataframe thead th {\n",
       "        text-align: right;\n",
       "    }\n",
       "</style>\n",
       "<table border=\"1\" class=\"dataframe\">\n",
       "  <thead>\n",
       "    <tr style=\"text-align: right;\">\n",
       "      <th></th>\n",
       "      <th>Model</th>\n",
       "      <th>Train Accuracy</th>\n",
       "      <th>Train Precision</th>\n",
       "      <th>Train Recall</th>\n",
       "      <th>Train F1 Score</th>\n",
       "      <th>Test Accuracy</th>\n",
       "      <th>Test Precision</th>\n",
       "      <th>Test Recall</th>\n",
       "      <th>Test F1 Score</th>\n",
       "      <th>Test ROC AUC</th>\n",
       "      <th>Estimated Time (s)</th>\n",
       "      <th>Actual Time (s)</th>\n",
       "    </tr>\n",
       "  </thead>\n",
       "  <tbody>\n",
       "    <tr>\n",
       "      <th>0</th>\n",
       "      <td>Random Forest</td>\n",
       "      <td>0.9996</td>\n",
       "      <td>0.9996</td>\n",
       "      <td>0.9996</td>\n",
       "      <td>0.9996</td>\n",
       "      <td>0.3688</td>\n",
       "      <td>0.3522</td>\n",
       "      <td>0.3688</td>\n",
       "      <td>0.3554</td>\n",
       "      <td>0.7489</td>\n",
       "      <td>15.8075</td>\n",
       "      <td>14.9884</td>\n",
       "    </tr>\n",
       "    <tr>\n",
       "      <th>1</th>\n",
       "      <td>LightGBM</td>\n",
       "      <td>0.4547</td>\n",
       "      <td>0.4828</td>\n",
       "      <td>0.4547</td>\n",
       "      <td>0.4226</td>\n",
       "      <td>0.4269</td>\n",
       "      <td>0.4067</td>\n",
       "      <td>0.4269</td>\n",
       "      <td>0.3914</td>\n",
       "      <td>0.8069</td>\n",
       "      <td>7.9038</td>\n",
       "      <td>6.6490</td>\n",
       "    </tr>\n",
       "    <tr>\n",
       "      <th>2</th>\n",
       "      <td>XGBoost</td>\n",
       "      <td>0.4692</td>\n",
       "      <td>0.5022</td>\n",
       "      <td>0.4692</td>\n",
       "      <td>0.4400</td>\n",
       "      <td>0.4271</td>\n",
       "      <td>0.4136</td>\n",
       "      <td>0.4271</td>\n",
       "      <td>0.3928</td>\n",
       "      <td>0.8079</td>\n",
       "      <td>15.8075</td>\n",
       "      <td>13.2581</td>\n",
       "    </tr>\n",
       "    <tr>\n",
       "      <th>3</th>\n",
       "      <td>Gradient Boosting</td>\n",
       "      <td>0.4204</td>\n",
       "      <td>0.4384</td>\n",
       "      <td>0.4204</td>\n",
       "      <td>0.3790</td>\n",
       "      <td>0.4190</td>\n",
       "      <td>0.4104</td>\n",
       "      <td>0.4190</td>\n",
       "      <td>0.3761</td>\n",
       "      <td>0.7968</td>\n",
       "      <td>31.6150</td>\n",
       "      <td>1704.5416</td>\n",
       "    </tr>\n",
       "    <tr>\n",
       "      <th>4</th>\n",
       "      <td>CatBoost</td>\n",
       "      <td>0.4419</td>\n",
       "      <td>0.4504</td>\n",
       "      <td>0.4419</td>\n",
       "      <td>0.4064</td>\n",
       "      <td>0.4291</td>\n",
       "      <td>0.4106</td>\n",
       "      <td>0.4291</td>\n",
       "      <td>0.3922</td>\n",
       "      <td>0.8132</td>\n",
       "      <td>15.8075</td>\n",
       "      <td>5273.0416</td>\n",
       "    </tr>\n",
       "    <tr>\n",
       "      <th>5</th>\n",
       "      <td>Logistic Regression</td>\n",
       "      <td>0.3847</td>\n",
       "      <td>0.3477</td>\n",
       "      <td>0.3847</td>\n",
       "      <td>0.3318</td>\n",
       "      <td>0.3862</td>\n",
       "      <td>0.3502</td>\n",
       "      <td>0.3862</td>\n",
       "      <td>0.3329</td>\n",
       "      <td>0.7634</td>\n",
       "      <td>0.7904</td>\n",
       "      <td>1084.9159</td>\n",
       "    </tr>\n",
       "    <tr>\n",
       "      <th>6</th>\n",
       "      <td>SVM</td>\n",
       "      <td>0.3749</td>\n",
       "      <td>0.3380</td>\n",
       "      <td>0.3749</td>\n",
       "      <td>0.3080</td>\n",
       "      <td>0.3761</td>\n",
       "      <td>0.3366</td>\n",
       "      <td>0.3761</td>\n",
       "      <td>0.3083</td>\n",
       "      <td>NaN</td>\n",
       "      <td>158.0752</td>\n",
       "      <td>146.3064</td>\n",
       "    </tr>\n",
       "  </tbody>\n",
       "</table>\n",
       "</div>"
      ],
      "text/plain": [
       "                 Model  Train Accuracy  Train Precision  Train Recall  Train F1 Score  Test Accuracy  Test Precision  Test Recall  Test F1 Score  Test ROC AUC  Estimated Time (s)  Actual Time (s)\n",
       "0        Random Forest          0.9996           0.9996        0.9996          0.9996         0.3688          0.3522       0.3688         0.3554        0.7489             15.8075          14.9884\n",
       "1             LightGBM          0.4547           0.4828        0.4547          0.4226         0.4269          0.4067       0.4269         0.3914        0.8069              7.9038           6.6490\n",
       "2              XGBoost          0.4692           0.5022        0.4692          0.4400         0.4271          0.4136       0.4271         0.3928        0.8079             15.8075          13.2581\n",
       "3    Gradient Boosting          0.4204           0.4384        0.4204          0.3790         0.4190          0.4104       0.4190         0.3761        0.7968             31.6150        1704.5416\n",
       "4             CatBoost          0.4419           0.4504        0.4419          0.4064         0.4291          0.4106       0.4291         0.3922        0.8132             15.8075        5273.0416\n",
       "5  Logistic Regression          0.3847           0.3477        0.3847          0.3318         0.3862          0.3502       0.3862         0.3329        0.7634              0.7904        1084.9159\n",
       "6                  SVM          0.3749           0.3380        0.3749          0.3080         0.3761          0.3366       0.3761         0.3083           NaN            158.0752         146.3064"
      ]
     },
     "execution_count": 311,
     "metadata": {},
     "output_type": "execute_result"
    }
   ],
   "source": [
    "results_df"
   ]
  },
  {
   "cell_type": "code",
   "execution_count": 312,
   "metadata": {},
   "outputs": [
    {
     "data": {
      "text/plain": [
       "{'Gradient Boosting': GradientBoostingClassifier(random_state=42),\n",
       " 'XGBoost': XGBClassifier(base_score=None, booster=None, callbacks=None,\n",
       "               colsample_bylevel=None, colsample_bynode=None,\n",
       "               colsample_bytree=None, device=None, early_stopping_rounds=None,\n",
       "               enable_categorical=False, eval_metric='mlogloss',\n",
       "               feature_types=None, gamma=None, grow_policy=None,\n",
       "               importance_type=None, interaction_constraints=None,\n",
       "               learning_rate=None, max_bin=None, max_cat_threshold=None,\n",
       "               max_cat_to_onehot=None, max_delta_step=None, max_depth=None,\n",
       "               max_leaves=None, min_child_weight=None, missing=nan,\n",
       "               monotone_constraints=None, multi_strategy=None, n_estimators=None,\n",
       "               n_jobs=-1, num_parallel_tree=None, objective='multi:softprob', ...),\n",
       " 'CatBoost': <catboost.core.CatBoostClassifier at 0x29c06c2cb00>,\n",
       " 'LightGBM': LGBMClassifier(categorical_feature=['hospital_code', 'hospital_type_code',\n",
       "                                     'city_code_hospital',\n",
       "                                     'hospital_region_code', 'department',\n",
       "                                     'ward_type', 'ward_facility_code',\n",
       "                                     'bed_grade', 'city_code_patient',\n",
       "                                     'type_of_admission', 'severity_of_illness',\n",
       "                                     'age'],\n",
       "                device='cpu', n_jobs=-1, random_state=42)}"
      ]
     },
     "execution_count": 312,
     "metadata": {},
     "output_type": "execute_result"
    }
   ],
   "source": [
    "retrained_models"
   ]
  },
  {
   "cell_type": "code",
   "execution_count": 313,
   "metadata": {},
   "outputs": [
    {
     "data": {
      "text/plain": [
       "<module 'modeling' from 'e:\\\\myprojects\\\\mlprojects\\\\Healthcare - Length of Stay\\\\Code\\\\modeling.py'>"
      ]
     },
     "execution_count": 313,
     "metadata": {},
     "output_type": "execute_result"
    }
   ],
   "source": [
    "importlib.reload(m)"
   ]
  },
  {
   "cell_type": "code",
   "execution_count": 314,
   "metadata": {},
   "outputs": [
    {
     "name": "stdout",
     "output_type": "stream",
     "text": [
      "Saved trained_Random Forest model to disk.\n",
      "Saved trained_LightGBM model to disk.\n",
      "Saved trained_XGBoost model to disk.\n",
      "Saved trained_Gradient Boosting model to disk.\n",
      "Saved trained_CatBoost model to disk.\n",
      "Saved trained_Logistic Regression model to disk.\n",
      "Saved trained_SVM model to disk.\n",
      "Saved retrained_Gradient Boosting model to disk.\n",
      "Saved retrained_XGBoost model to disk.\n",
      "Saved retrained_CatBoost model to disk.\n",
      "Saved retrained_LightGBM model to disk.\n"
     ]
    }
   ],
   "source": [
    "# Save trained models\n",
    "m.save_models(trained_models, prefix=\"trained_\")\n",
    "\n",
    "# Save retrained models\n",
    "m.save_models(retrained_models, prefix=\"retrained_\")\n"
   ]
  },
  {
   "cell_type": "code",
   "execution_count": 315,
   "metadata": {},
   "outputs": [
    {
     "name": "stdout",
     "output_type": "stream",
     "text": [
      "Saved feature sets to disk.\n",
      "Saved final results to disk.\n"
     ]
    }
   ],
   "source": [
    "import json\n",
    "\n",
    "# Save feature sets\n",
    "with open(\"feature_sets.json\", \"w\") as f:\n",
    "    json.dump(feature_sets, f)\n",
    "    print(\"Saved feature sets to disk.\")\n",
    "\n",
    "# Save results DataFrame\n",
    "retrained_results.to_csv(\"retrained_results.csv\", index=False)\n",
    "print(\"Saved final results to disk.\")\n"
   ]
  },
  {
   "cell_type": "code",
   "execution_count": 8,
   "metadata": {},
   "outputs": [],
   "source": [
    "import joblib\n",
    "\n",
    "# Replace 'model_filename.pkl' with the path to your saved model file\n",
    "model = joblib.load('../Saved Models/retrained_CatBoost_model.pkl')"
   ]
  },
  {
   "cell_type": "markdown",
   "metadata": {},
   "source": [
    "## Tuning under development"
   ]
  },
  {
   "cell_type": "markdown",
   "metadata": {},
   "source": [
    "The tuning code below is currently under development and testing. We are working to identify the most efficient and optimal approach. Please refrain from referring to or relying on the code in this section until it is finalized."
   ]
  },
  {
   "cell_type": "code",
   "execution_count": 88,
   "metadata": {},
   "outputs": [],
   "source": [
    "import sys\n",
    "if 'tuning' in sys.modules:\n",
    "    del sys.modules['tuning']"
   ]
  },
  {
   "cell_type": "code",
   "execution_count": null,
   "metadata": {},
   "outputs": [],
   "source": [
    "import tuning as tn"
   ]
  },
  {
   "cell_type": "code",
   "execution_count": null,
   "metadata": {},
   "outputs": [
    {
     "data": {
      "text/plain": [
       "<module 'tuning' from 'g:\\\\Other computers\\\\Mac book emlyon\\\\emlyon\\\\principles & elementary models\\\\individual project\\\\HealthCare_LOS_Case\\\\codes\\\\tuning.py'>"
      ]
     },
     "execution_count": 348,
     "metadata": {},
     "output_type": "execute_result"
    }
   ],
   "source": [
    "importlib.reload(tn)"
   ]
  },
  {
   "cell_type": "code",
   "execution_count": null,
   "metadata": {},
   "outputs": [],
   "source": [
    "import optuna\n",
    "import joblib\n",
    "import pandas as pd\n",
    "from sklearn.model_selection import train_test_split\n",
    "from sklearn.metrics import accuracy_score, precision_score, recall_score, f1_score, roc_auc_score\n",
    "from catboost import CatBoostClassifier\n",
    "from lightgbm import LGBMClassifier\n",
    "from xgboost import XGBClassifier\n",
    "import time\n",
    "\n",
    "\n",
    "X_train, X_test, y_train, y_test = train_test_split(X, y, test_size=0.2, random_state=42)\n",
    "\n",
    "# Number of folds for cross-validation\n",
    "folds = 5  # You can modify this to increase or decrease cross-validation folds\n",
    "\n",
    "# Create Optuna studies and optimize\n",
    "catboost_study = optuna.create_study(direction=\"maximize\")\n",
    "catboost_study.optimize(lambda trial: objective_catboost(trial, X, y, folds=folds), n_trials=50)\n",
    "\n",
    "lightgbm_study = optuna.create_study(direction=\"maximize\")\n",
    "lightgbm_study.optimize(lambda trial: objective_lightgbm(trial, X, y, folds=folds), n_trials=50)\n",
    "\n",
    "xgboost_study = optuna.create_study(direction=\"maximize\")\n",
    "xgboost_study.optimize(lambda trial: objective_xgboost(trial, X, y, folds=folds), n_trials=50)\n",
    "\n",
    "# Print the best hyperparameters\n",
    "print(\"CatBoost Best ROC AUC:\", catboost_study.best_value)\n",
    "print(\"CatBoost Best Params:\", catboost_study.best_params)\n",
    "\n",
    "print(\"LightGBM Best ROC AUC:\", lightgbm_study.best_value)\n",
    "print(\"LightGBM Best Params:\", lightgbm_study.best_params)\n",
    "\n",
    "print(\"XGBoost Best ROC AUC:\", xgboost_study.best_value)\n",
    "print(\"XGBoost Best Params:\", xgboost_study.best_params)\n",
    "\n",
    "# Train models with the best parameters and collect metrics\n",
    "metrics_summary = []\n",
    "\n",
    "# CatBoost\n",
    "start_time = time.time()\n",
    "catboost_model = CatBoostClassifier(**catboost_study.best_params, verbose=0)\n",
    "catboost_model.fit(X_train, y_train)\n",
    "elapsed_time = time.time() - start_time\n",
    "y_pred_train = catboost_model.predict(X_train)\n",
    "y_pred_test = catboost_model.predict(X_test)\n",
    "y_pred_prob_test = catboost_model.predict_proba(X_test)\n",
    "\n",
    "metrics_summary.append({\n",
    "    \"Model\": \"CatBoost\",\n",
    "    \"Train Accuracy\": accuracy_score(y_train, y_pred_train),\n",
    "    \"Train Precision\": precision_score(y_train, y_pred_train, average=\"weighted\"),\n",
    "    \"Train Recall\": recall_score(y_train, y_pred_train, average=\"weighted\"),\n",
    "    \"Train F1 Score\": f1_score(y_train, y_pred_train, average=\"weighted\"),\n",
    "    \"Test Accuracy\": accuracy_score(y_test, y_pred_test),\n",
    "    \"Test Precision\": precision_score(y_test, y_pred_test, average=\"weighted\"),\n",
    "    \"Test Recall\": recall_score(y_test, y_pred_test, average=\"weighted\"),\n",
    "    \"Test F1 Score\": f1_score(y_test, y_pred_test, average=\"weighted\"),\n",
    "    \"Test ROC AUC\": roc_auc_score(y_test, y_pred_prob_test, multi_class=\"ovr\"),\n",
    "    \"Time Taken (s)\": elapsed_time,\n",
    "})\n",
    "joblib.dump(catboost_model, \"catboost_model.pkl\")\n",
    "\n",
    "# LightGBM\n",
    "start_time = time.time()\n",
    "lightgbm_model = LGBMClassifier(**lightgbm_study.best_params)\n",
    "lightgbm_model.fit(X_train, y_train)\n",
    "elapsed_time = time.time() - start_time\n",
    "y_pred_train = lightgbm_model.predict(X_train)\n",
    "y_pred_test = lightgbm_model.predict(X_test)\n",
    "y_pred_prob_test = lightgbm_model.predict_proba(X_test)\n",
    "\n",
    "metrics_summary.append({\n",
    "    \"Model\": \"LightGBM\",\n",
    "    \"Train Accuracy\": accuracy_score(y_train, y_pred_train),\n",
    "    \"Train Precision\": precision_score(y_train, y_pred_train, average=\"weighted\"),\n",
    "    \"Train Recall\": recall_score(y_train, y_pred_train, average=\"weighted\"),\n",
    "    \"Train F1 Score\": f1_score(y_train, y_pred_train, average=\"weighted\"),\n",
    "    \"Test Accuracy\": accuracy_score(y_test, y_pred_test),\n",
    "    \"Test Precision\": precision_score(y_test, y_pred_test, average=\"weighted\"),\n",
    "    \"Test Recall\": recall_score(y_test, y_pred_test, average=\"weighted\"),\n",
    "    \"Test F1 Score\": f1_score(y_test, y_pred_test, average=\"weighted\"),\n",
    "    \"Test ROC AUC\": roc_auc_score(y_test, y_pred_prob_test, multi_class=\"ovr\"),\n",
    "    \"Time Taken (s)\": elapsed_time,\n",
    "})\n",
    "joblib.dump(lightgbm_model, \"lightgbm_model.pkl\")\n",
    "\n",
    "# XGBoost\n",
    "start_time = time.time()\n",
    "xgboost_model = XGBClassifier(**xgboost_study.best_params, use_label_encoder=False)\n",
    "xgboost_model.fit(X_train, y_train)\n",
    "elapsed_time = time.time() - start_time\n",
    "y_pred_train = xgboost_model.predict(X_train)\n",
    "y_pred_test = xgboost_model.predict(X_test)\n",
    "y_pred_prob_test = xgboost_model.predict_proba(X_test)\n",
    "\n",
    "metrics_summary.append({\n",
    "    \"Model\": \"XGBoost\",\n",
    "    \"Train Accuracy\": accuracy_score(y_train, y_pred_train),\n",
    "    \"Train Precision\": precision_score(y_train, y_pred_train, average=\"weighted\"),\n",
    "    \"Train Recall\": recall_score(y_train, y_pred_train, average=\"weighted\"),\n",
    "    \"Train F1 Score\": f1_score(y_train, y_pred_train, average=\"weighted\"),\n",
    "    \"Test Accuracy\": accuracy_score(y_test, y_pred_test),\n",
    "    \"Test Precision\": precision_score(y_test, y_pred_test, average=\"weighted\"),\n",
    "    \"Test Recall\": recall_score(y_test, y_pred_test, average=\"weighted\"),\n",
    "    \"Test F1 Score\": f1_score(y_test, y_pred_test, average=\"weighted\"),\n",
    "    \"Test ROC AUC\": roc_auc_score(y_test, y_pred_prob_test, multi_class=\"ovr\"),\n",
    "    \"Time Taken (s)\": elapsed_time,\n",
    "})\n",
    "joblib.dump(xgboost_model, \"xgboost_model.pkl\")\n",
    "\n",
    "# Convert metrics_summary to DataFrame\n",
    "metrics_df = pd.DataFrame(metrics_summary)\n",
    "\n",
    "\n"
   ]
  },
  {
   "cell_type": "code",
   "execution_count": null,
   "metadata": {},
   "outputs": [],
   "source": [
    "# Display the metrics DataFrame\n",
    "print(metrics_df)"
   ]
  },
  {
   "cell_type": "code",
   "execution_count": null,
   "metadata": {},
   "outputs": [],
   "source": [
    "\n",
    "# Create Optuna studies and optimize\n",
    "optuna_results = {}\n",
    "\n",
    "for model_name, objective_func in [(\"CatBoost\", objective_catboost),\n",
    "                                   (\"LightGBM\", objective_lightgbm),\n",
    "                                   (\"XGBoost\", objective_xgboost)]:\n",
    "    study = optuna.create_study(direction=\"maximize\")\n",
    "    study.optimize(lambda trial: objective_func(trial, X_train, X_test, y_train, y_test), n_trials=20)\n",
    "\n",
    "    # Save the best parameters and metrics\n",
    "    optuna_results[model_name] = {\n",
    "        \"best_params\": study.best_params,\n",
    "        \"best_value\": study.best_value,\n",
    "        \"elapsed_time\": study.trials_dataframe()[\"datetime_complete\"].max()\n",
    "    }\n",
    "\n",
    "# Print results and save models later\n",
    "for model_name, result in optuna_results.items():\n",
    "    print(f\"\\n{model_name} Best ROC AUC: {result['best_value']}\")\n",
    "    print(f\"{model_name} Best Params: {result['best_params']}\")\n",
    "    print(f\"{model_name} Total Optimization Time: {result['elapsed_time']}\")\n",
    "\n",
    "# Example: Saving the models outside the tuning code\n",
    "catboost_model = CatBoostClassifier(**optuna_results[\"CatBoost\"][\"best_params\"], verbose=0)\n",
    "catboost_model.fit(X_train, y_train)\n",
    "catboost_model.save_model(\"catboost_model.cbm\")\n",
    "\n",
    "lightgbm_model = LGBMClassifier(**optuna_results[\"LightGBM\"][\"best_params\"])\n",
    "lightgbm_model.fit(X_train, y_train)\n",
    "joblib.dump(lightgbm_model, \"lightgbm_model.pkl\")\n",
    "\n",
    "xgboost_model = XGBClassifier(**optuna_results[\"XGBoost\"][\"best_params\"], use_label_encoder=False)\n",
    "xgboost_model.fit(X_train, y_train)\n",
    "joblib.dump(xgboost_model, \"xgboost_model.pkl\")\n"
   ]
  }
 ],
 "metadata": {
  "kernelspec": {
   "display_name": "base",
   "language": "python",
   "name": "python3"
  },
  "language_info": {
   "codemirror_mode": {
    "name": "ipython",
    "version": 3
   },
   "file_extension": ".py",
   "mimetype": "text/x-python",
   "name": "python",
   "nbconvert_exporter": "python",
   "pygments_lexer": "ipython3",
   "version": "3.12.7"
  }
 },
 "nbformat": 4,
 "nbformat_minor": 2
}
